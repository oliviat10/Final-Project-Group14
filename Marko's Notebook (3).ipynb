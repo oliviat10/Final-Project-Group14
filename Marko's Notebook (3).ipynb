{
 "cells": [
  {
   "cell_type": "markdown",
   "metadata": {},
   "source": [
    "# Marko Melishchuk Notebook Big Ideas Final Project"
   ]
  },
  {
   "cell_type": "code",
   "execution_count": 10,
   "metadata": {},
   "outputs": [
    {
     "name": "stdout",
     "output_type": "stream",
     "text": [
      "Cloning into 'Final-Project-MOK'...\n",
      "remote: Enumerating objects: 17, done.\u001b[K\n",
      "remote: Counting objects: 100% (17/17), done.\u001b[K\n",
      "remote: Compressing objects: 100% (14/14), done.\u001b[K\n",
      "remote: Total 17 (delta 3), reused 0 (delta 0), pack-reused 0\u001b[K\n",
      "Unpacking objects: 100% (17/17), done.\n"
     ]
    }
   ],
   "source": [
    "!git clone https://github.com/oliviat10/Final-Project-MOK.git"
   ]
  },
  {
   "cell_type": "markdown",
   "metadata": {},
   "source": [
    "Marko's Notebook"
   ]
  },
  {
   "cell_type": "markdown",
   "metadata": {},
   "source": [
    "My metric is Air Quality or more specifically amount of toxic waste released into the air (because the dataset focuses on that). I am going to calculate the amount of carcinogenic material released into the (it's exempted if the neighborhood is labeled as having clean air by the standard of the surveyors who complied this dataset). If a neighborhood has released toxic material that is unsafe into the air it loses points because clean air is an expectation for a family to live."
   ]
  },
  {
   "cell_type": "code",
   "execution_count": 116,
   "metadata": {},
   "outputs": [],
   "source": [
    "import numpy as np\n",
    "import pandas as pd\n",
    "\n",
    "\n",
    "air = pd.read_csv('toxicair.csv')\n"
   ]
  },
  {
   "cell_type": "markdown",
   "metadata": {},
   "source": [
    "Imported my data file and imported pandas"
   ]
  },
  {
   "cell_type": "code",
   "execution_count": 117,
   "metadata": {},
   "outputs": [
    {
     "data": {
      "text/html": [
       "<div>\n",
       "<style scoped>\n",
       "    .dataframe tbody tr th:only-of-type {\n",
       "        vertical-align: middle;\n",
       "    }\n",
       "\n",
       "    .dataframe tbody tr th {\n",
       "        vertical-align: top;\n",
       "    }\n",
       "\n",
       "    .dataframe thead th {\n",
       "        text-align: right;\n",
       "    }\n",
       "</style>\n",
       "<table border=\"1\" class=\"dataframe\">\n",
       "  <thead>\n",
       "    <tr style=\"text-align: right;\">\n",
       "      <th></th>\n",
       "      <th>TRI_FACILITY_ID</th>\n",
       "      <th>DOC_CTRL_NUM</th>\n",
       "      <th>FACILITY_NAME</th>\n",
       "      <th>STREET_ADDRESS</th>\n",
       "      <th>CITY_NAME</th>\n",
       "      <th>COUNTY_NAME</th>\n",
       "      <th>STATE_COUNTY_FIPS_CODE</th>\n",
       "      <th>STATE_ABBR</th>\n",
       "      <th>ZIP_CODE</th>\n",
       "      <th>REGION</th>\n",
       "      <th>...</th>\n",
       "      <th>NAICS_CODES</th>\n",
       "      <th>INDUSTRY_CODE</th>\n",
       "      <th>SRS_ID</th>\n",
       "      <th>PFAS_IND</th>\n",
       "      <th>ENVIRONMENTAL_MEDIUM</th>\n",
       "      <th>RELEASE_RANGE_CODE</th>\n",
       "      <th>TOTAL_RELEASE</th>\n",
       "      <th>REL_EST_AMT</th>\n",
       "      <th>RELEASE_NA</th>\n",
       "      <th>RELEASE_BASIS_EST_CODE</th>\n",
       "    </tr>\n",
       "  </thead>\n",
       "  <tbody>\n",
       "    <tr>\n",
       "      <th>0</th>\n",
       "      <td>15025SSCLR400ST</td>\n",
       "      <td>1396100016272</td>\n",
       "      <td>USS-CLAIRTON PLANT</td>\n",
       "      <td>400 STATE ST MS 71</td>\n",
       "      <td>CLAIRTON</td>\n",
       "      <td>ALLEGHENY</td>\n",
       "      <td>42003</td>\n",
       "      <td>PA</td>\n",
       "      <td>15025</td>\n",
       "      <td>3</td>\n",
       "      <td>...</td>\n",
       "      <td>NaN</td>\n",
       "      <td>331</td>\n",
       "      <td>14183.0</td>\n",
       "      <td>0</td>\n",
       "      <td>AIR FUG</td>\n",
       "      <td>NaN</td>\n",
       "      <td>380.0</td>\n",
       "      <td>380.0</td>\n",
       "      <td>0</td>\n",
       "      <td>O</td>\n",
       "    </tr>\n",
       "    <tr>\n",
       "      <th>1</th>\n",
       "      <td>15025SSCLR400ST</td>\n",
       "      <td>1396100016272</td>\n",
       "      <td>USS-CLAIRTON PLANT</td>\n",
       "      <td>400 STATE ST MS 71</td>\n",
       "      <td>CLAIRTON</td>\n",
       "      <td>ALLEGHENY</td>\n",
       "      <td>42003</td>\n",
       "      <td>PA</td>\n",
       "      <td>15025</td>\n",
       "      <td>3</td>\n",
       "      <td>...</td>\n",
       "      <td>NaN</td>\n",
       "      <td>331</td>\n",
       "      <td>14183.0</td>\n",
       "      <td>0</td>\n",
       "      <td>AIR STACK</td>\n",
       "      <td>NaN</td>\n",
       "      <td>0.0</td>\n",
       "      <td>0.0</td>\n",
       "      <td>0</td>\n",
       "      <td>O</td>\n",
       "    </tr>\n",
       "    <tr>\n",
       "      <th>2</th>\n",
       "      <td>15106THHMM235HO</td>\n",
       "      <td>1387010137127</td>\n",
       "      <td>O HOMMEL CO</td>\n",
       "      <td>235 HOPE ST</td>\n",
       "      <td>CARNEGIE</td>\n",
       "      <td>ALLEGHENY</td>\n",
       "      <td>42003</td>\n",
       "      <td>PA</td>\n",
       "      <td>15106</td>\n",
       "      <td>3</td>\n",
       "      <td>...</td>\n",
       "      <td>NaN</td>\n",
       "      <td>325</td>\n",
       "      <td>149583.0</td>\n",
       "      <td>0</td>\n",
       "      <td>AIR FUG</td>\n",
       "      <td>NaN</td>\n",
       "      <td>NaN</td>\n",
       "      <td>0.0</td>\n",
       "      <td>0</td>\n",
       "      <td>O</td>\n",
       "    </tr>\n",
       "    <tr>\n",
       "      <th>3</th>\n",
       "      <td>15106THHMM235HO</td>\n",
       "      <td>1387010137127</td>\n",
       "      <td>O HOMMEL CO</td>\n",
       "      <td>235 HOPE ST</td>\n",
       "      <td>CARNEGIE</td>\n",
       "      <td>ALLEGHENY</td>\n",
       "      <td>42003</td>\n",
       "      <td>PA</td>\n",
       "      <td>15106</td>\n",
       "      <td>3</td>\n",
       "      <td>...</td>\n",
       "      <td>NaN</td>\n",
       "      <td>325</td>\n",
       "      <td>149583.0</td>\n",
       "      <td>0</td>\n",
       "      <td>AIR STACK</td>\n",
       "      <td>NaN</td>\n",
       "      <td>1784.0</td>\n",
       "      <td>1784.0</td>\n",
       "      <td>0</td>\n",
       "      <td>O</td>\n",
       "    </tr>\n",
       "    <tr>\n",
       "      <th>4</th>\n",
       "      <td>15025SSCLR400ST</td>\n",
       "      <td>1392065615205</td>\n",
       "      <td>USS-CLAIRTON PLANT</td>\n",
       "      <td>400 STATE ST MS 71</td>\n",
       "      <td>CLAIRTON</td>\n",
       "      <td>ALLEGHENY</td>\n",
       "      <td>42003</td>\n",
       "      <td>PA</td>\n",
       "      <td>15025</td>\n",
       "      <td>3</td>\n",
       "      <td>...</td>\n",
       "      <td>NaN</td>\n",
       "      <td>331</td>\n",
       "      <td>5090.0</td>\n",
       "      <td>0</td>\n",
       "      <td>AIR FUG</td>\n",
       "      <td>NaN</td>\n",
       "      <td>16000.0</td>\n",
       "      <td>16000.0</td>\n",
       "      <td>0</td>\n",
       "      <td>E</td>\n",
       "    </tr>\n",
       "  </tbody>\n",
       "</table>\n",
       "<p>5 rows × 38 columns</p>\n",
       "</div>"
      ],
      "text/plain": [
       "   TRI_FACILITY_ID   DOC_CTRL_NUM       FACILITY_NAME      STREET_ADDRESS  \\\n",
       "0  15025SSCLR400ST  1396100016272  USS-CLAIRTON PLANT  400 STATE ST MS 71   \n",
       "1  15025SSCLR400ST  1396100016272  USS-CLAIRTON PLANT  400 STATE ST MS 71   \n",
       "2  15106THHMM235HO  1387010137127         O HOMMEL CO         235 HOPE ST   \n",
       "3  15106THHMM235HO  1387010137127         O HOMMEL CO         235 HOPE ST   \n",
       "4  15025SSCLR400ST  1392065615205  USS-CLAIRTON PLANT  400 STATE ST MS 71   \n",
       "\n",
       "  CITY_NAME COUNTY_NAME  STATE_COUNTY_FIPS_CODE STATE_ABBR  ZIP_CODE  REGION  \\\n",
       "0  CLAIRTON   ALLEGHENY                   42003         PA     15025       3   \n",
       "1  CLAIRTON   ALLEGHENY                   42003         PA     15025       3   \n",
       "2  CARNEGIE   ALLEGHENY                   42003         PA     15106       3   \n",
       "3  CARNEGIE   ALLEGHENY                   42003         PA     15106       3   \n",
       "4  CLAIRTON   ALLEGHENY                   42003         PA     15025       3   \n",
       "\n",
       "   ...  NAICS_CODES INDUSTRY_CODE    SRS_ID PFAS_IND ENVIRONMENTAL_MEDIUM  \\\n",
       "0  ...          NaN           331   14183.0        0              AIR FUG   \n",
       "1  ...          NaN           331   14183.0        0            AIR STACK   \n",
       "2  ...          NaN           325  149583.0        0              AIR FUG   \n",
       "3  ...          NaN           325  149583.0        0            AIR STACK   \n",
       "4  ...          NaN           331    5090.0        0              AIR FUG   \n",
       "\n",
       "  RELEASE_RANGE_CODE  TOTAL_RELEASE  REL_EST_AMT  RELEASE_NA  \\\n",
       "0                NaN          380.0        380.0           0   \n",
       "1                NaN            0.0          0.0           0   \n",
       "2                NaN            NaN          0.0           0   \n",
       "3                NaN         1784.0       1784.0           0   \n",
       "4                NaN        16000.0      16000.0           0   \n",
       "\n",
       "  RELEASE_BASIS_EST_CODE  \n",
       "0                      O  \n",
       "1                      O  \n",
       "2                      O  \n",
       "3                      O  \n",
       "4                      E  \n",
       "\n",
       "[5 rows x 38 columns]"
      ]
     },
     "execution_count": 117,
     "metadata": {},
     "output_type": "execute_result"
    }
   ],
   "source": [
    "air.head()"
   ]
  },
  {
   "cell_type": "markdown",
   "metadata": {},
   "source": [
    "Showing the beginning of the chart to give a few examples of the dataset we are looking at"
   ]
  },
  {
   "cell_type": "code",
   "execution_count": 118,
   "metadata": {},
   "outputs": [
    {
     "name": "stdout",
     "output_type": "stream",
     "text": [
      "136976755.5773927\n"
     ]
    }
   ],
   "source": [
    "a_release = air['TOTAL_RELEASE'].sum()\n",
    "print(a_release)"
   ]
  },
  {
   "cell_type": "markdown",
   "metadata": {},
   "source": [
    "The line of code above sums the weight of all the total chemicals that have been released into Allegheny County Air over the past 30 years, which comes out to an astounding large number (in lbs)"
   ]
  },
  {
   "cell_type": "code",
   "execution_count": 119,
   "metadata": {},
   "outputs": [
    {
     "data": {
      "text/plain": [
       "(25536, 38)"
      ]
     },
     "execution_count": 119,
     "metadata": {},
     "output_type": "execute_result"
    }
   ],
   "source": [
    "air.shape"
   ]
  },
  {
   "cell_type": "markdown",
   "metadata": {},
   "source": [
    "This describes the shape of the data so we know just how big the dataset really is"
   ]
  },
  {
   "cell_type": "markdown",
   "metadata": {},
   "source": [
    "The total amount (in pounds) of the toxic chemical released to air, water, land, and underground injection wells during the calendar year (January 1 - December 31). This means that there are 136976755.5773927 lbs of toxic chemicals released into the air (so far)."
   ]
  },
  {
   "cell_type": "markdown",
   "metadata": {},
   "source": [
    "Below: This line of code shows quite how many different toxic chemicals there are in the air by checking the names of the chemical compound listed in the category chemical"
   ]
  },
  {
   "cell_type": "code",
   "execution_count": 120,
   "metadata": {},
   "outputs": [
    {
     "data": {
      "text/plain": [
       "array(['Biphenyl', 'Lead', 'Ethylene', 'Naphthalene', 'Methanol',\n",
       "       'Cresol (mixed isomers)', 'Ethyl acrylate', 'Toluene',\n",
       "       'Cyanide compounds', 'Acetone', 'p-Cresol', 'Anthracene',\n",
       "       'Barium compounds (except for barium sulfate (CAS No. 7727-43-7))',\n",
       "       'Acrylic acid', 'Titanium tetrachloride', '1,2,4-Trimethylbenzene',\n",
       "       'Phthalic anhydride', 'Maleic anhydride', 'Dibenzofuran',\n",
       "       'Sodium hydroxide (solution)',\n",
       "       'Nitrate compounds (water dissociable; reportable only when in aqueous solution)',\n",
       "       'Ethylene glycol', 'Xylene (mixed isomers)',\n",
       "       'Sulfuric acid (acid aerosols including mists, vapors, gas, fog, and other airborne forms of any particle size)',\n",
       "       'Phosphoric acid', 'Zinc compounds',\n",
       "       'Chromium compounds (except for chromite ore mined in the Transvaal Region)',\n",
       "       'Nickel compounds', 'Certain glycol ethers', 'n-Butyl alcohol',\n",
       "       'Butyl acrylate', 'p-Xylene', 'Ethylbenzene',\n",
       "       'Molybdenum trioxide', 'Copper compounds', 'Styrene',\n",
       "       'Di(2-ethylhexyl) phthalate', 'Copper', 'Benzoyl peroxide',\n",
       "       'Dibutyl phthalate', 'Arsenic compounds',\n",
       "       'Aluminum oxide (fibrous forms)', 'Zinc (fume or dust)',\n",
       "       '4,4&apos;-Methylenedi(phenyl isocyanate)', 'Hydrogen fluoride',\n",
       "       'Cumene', 'Tetrachloroethylene', '1,1,1-Trichloroethane',\n",
       "       'Ammonia', 'Lead compounds', 'Beryllium compounds',\n",
       "       'Dioxin and dioxin-like compounds', 'LEAD  and LEAD COMPOUNDS',\n",
       "       'Phenol', 'Vanadium compounds', 'Methyl ethyl ketone',\n",
       "       'Formaldehyde', 'Chromium', 'Nickel', 'sec-Butyl alcohol',\n",
       "       'Carbon disulfide', 'Diisocyanates',\n",
       "       'Polycyclic aromatic compounds', 'COPPER  and COPPER COMPOUNDS',\n",
       "       'Benzo[g,h,i]perylene', 'Creosote', 'Benzene',\n",
       "       'tert-Butyl alcohol', 'Cobalt', '4,4&apos;-Isopropylidenediphenol',\n",
       "       'Formic acid', 'Manganese compounds', 'Manganese', 'Phenanthrene',\n",
       "       'Nitric acid', 'Methyl isobutyl ketone', 'n-Hexane',\n",
       "       'Dicyclopentadiene', 'Dichloromethane',\n",
       "       'Hydrochloric acid (acid aerosols including mists, vapors, gas, fog, and other airborne forms of any particle size)',\n",
       "       'Aluminum (fume or dust)', 'Terephthalic acid', 'Chloromethane',\n",
       "       'Selenium', 'Cobalt compounds', 'Cyclohexanol',\n",
       "       'Methyl methacrylate', 'Antimony', 'SILVER and SILVER COMPOUNDS',\n",
       "       'Quinoline', 'N-Methyl-2-pyrrolidone',\n",
       "       'Sodium dimethyldithiocarbamate', 'Methyl tert-butyl ether',\n",
       "       '2,4-Dimethylphenol', 'Pyridine', 'Mercury', 'Sodium nitrite',\n",
       "       'Mercury compounds', 'Antimony compounds', 'Chlorine',\n",
       "       '2,4-Dinitrophenol', 'N,N-Dimethylaniline', 'Propylene',\n",
       "       'Ethylene oxide', '1,1,2,2-Tetrachloroethane', 'Isoprene',\n",
       "       'Mixture', 'Cyclohexane', 'Nitrobenzene', 'Tetrabromobisphenol A',\n",
       "       'Toluene-2,4-diisocyanate', 'Dichlorodifluoromethane (CFC-12)',\n",
       "       '2-Ethoxyethanol', 'Dimethyl phthalate', 'o-Xylene', 'Chloroform',\n",
       "       'Benzoyl chloride', 'Hydrogen cyanide',\n",
       "       'CHROMIUM COMPOUNDS(EXCEPT CHROMITE ORE MINED IN THE TRANSVAAL REGION)',\n",
       "       'm-Xylene', '2-Methylpyridine', 'm-Cresol',\n",
       "       'MANGANESE  and MANGANESE COMPOUNDS', 'Boron trifluoride',\n",
       "       'Butyl benzyl phthalate', 'Ammonium sulfate (solution)',\n",
       "       'N,N-Dimethylformamide', 'Triethylamine', '1,1,2-Trichloroethane',\n",
       "       'o-Cresol', 'Epichlorohydrin', 'Acetonitrile', 'Propargyl alcohol',\n",
       "       'Cadmium compounds', 'Hydrogen sulfide',\n",
       "       'NICKEL  and NICKEL COMPOUNDS', 'Lithium carbonate',\n",
       "       'Bis(2-ethylhexyl) adipate', 'Allyl alcohol',\n",
       "       'Toluene-2,6-diisocyanate', 'Benzyl chloride',\n",
       "       'Freon 113 (CFC-113)',\n",
       "       'Isopropyl alcohol (only persons who manufacture by the strong acid process are subject, no supplier notification)',\n",
       "       'Trichloroethylene', 'Silver', 'Chlorobenzene',\n",
       "       'Asbestos (friable)', '1,4-Dichlorobenzene', '2,4-Dinitrotoluene',\n",
       "       'Toluene diisocyanate (mixed isomers)',\n",
       "       'MERCURY  and MERCURY COMPOUNDS', 'Diethanolamine',\n",
       "       'COBALT  and COBALT COMPOUNDS',\n",
       "       '2-Chloro-1,1,1,2-tetrafluoroethane (HCFC-124)', 'Diphenylamine',\n",
       "       'Acrylamide', 'Silver compounds', 'Barium', 'n-Dioctyl phthalate',\n",
       "       '2,6-Dinitrotoluene',\n",
       "       'Vanadium (except when contained in an alloy)',\n",
       "       'Hexachlorobenzene', 'Selenium compounds', 'Calcium cyanamide',\n",
       "       'Carbonyl sulfide', 'Bromomethane', 'Phosphorus (yellow or white)',\n",
       "       'Dazomet', 'Polychlorinated biphenyls',\n",
       "       '1-Bromo-1-(bromomethyl)-1,3-propanedicarbonitrile',\n",
       "       'Sodium sulfate (solution)', '1,2-Dichlorobenzene',\n",
       "       'Thiabendazole', '2-Phenylphenol', '2-Methoxyethanol'],\n",
       "      dtype=object)"
      ]
     },
     "execution_count": 120,
     "metadata": {},
     "output_type": "execute_result"
    }
   ],
   "source": [
    "air['CHEM_NAME'].unique()"
   ]
  },
  {
   "cell_type": "code",
   "execution_count": 121,
   "metadata": {},
   "outputs": [
    {
     "data": {
      "text/plain": [
       "175"
      ]
     },
     "execution_count": 121,
     "metadata": {},
     "output_type": "execute_result"
    }
   ],
   "source": [
    "len(air['CHEM_NAME'].unique())"
   ]
  },
  {
   "cell_type": "markdown",
   "metadata": {},
   "source": [
    "The above line counts how many different chemicals I just listed. There are 175 different chemicals or chemical compounds being released into the air currently"
   ]
  },
  {
   "cell_type": "code",
   "execution_count": 122,
   "metadata": {},
   "outputs": [
    {
     "data": {
      "text/plain": [
       "49"
      ]
     },
     "execution_count": 122,
     "metadata": {},
     "output_type": "execute_result"
    }
   ],
   "source": [
    "len(air['CITY_NAME'].unique())"
   ]
  },
  {
   "cell_type": "markdown",
   "metadata": {},
   "source": [
    "The above line of code counts how many different neighborhoods there are listed which could give a little insight to how widespread the problem is. It's not necessarily a few neighborhoods releasing a lot into the air but it could be many neighborhoods releasing a little. But for calculating each neighborhood I will be going by zipcode/combination of zipcodes that make up a neighborhood"
   ]
  },
  {
   "cell_type": "code",
   "execution_count": 123,
   "metadata": {},
   "outputs": [
    {
     "data": {
      "text/plain": [
       "count    1.709100e+04\n",
       "mean     8.014555e+03\n",
       "std      6.910453e+04\n",
       "min      0.000000e+00\n",
       "25%      4.000000e+00\n",
       "50%      1.222000e+02\n",
       "75%      1.494000e+03\n",
       "max      2.600800e+06\n",
       "Name: TOTAL_RELEASE, dtype: float64"
      ]
     },
     "execution_count": 123,
     "metadata": {},
     "output_type": "execute_result"
    }
   ],
   "source": [
    "air['TOTAL_RELEASE'].describe()"
   ]
  },
  {
   "cell_type": "markdown",
   "metadata": {},
   "source": [
    "The above code shows some basic statistical analysis on the data and it counts how many instances of toxic chemical release there were"
   ]
  },
  {
   "cell_type": "markdown",
   "metadata": {},
   "source": [
    "There are 17091 different releases of toxic gases (many come from multiple plants/facilities, it's not 17091 different facilities)"
   ]
  },
  {
   "cell_type": "code",
   "execution_count": 124,
   "metadata": {},
   "outputs": [
    {
     "data": {
      "text/plain": [
       "204"
      ]
     },
     "execution_count": 124,
     "metadata": {},
     "output_type": "execute_result"
    }
   ],
   "source": [
    "num_fac = len(air['FACILITY_NAME'].unique())\n",
    "num_fac"
   ]
  },
  {
   "cell_type": "markdown",
   "metadata": {},
   "source": [
    "This line shows us how many different facilities there are that are releasing toxic chemicals into the air"
   ]
  },
  {
   "cell_type": "markdown",
   "metadata": {},
   "source": [
    "The line of code below cuts down the dataset to only the most important columns we need to determine the amount of toxic chemicals released into the air"
   ]
  },
  {
   "cell_type": "code",
   "execution_count": 125,
   "metadata": {},
   "outputs": [
    {
     "data": {
      "text/html": [
       "<div>\n",
       "<style scoped>\n",
       "    .dataframe tbody tr th:only-of-type {\n",
       "        vertical-align: middle;\n",
       "    }\n",
       "\n",
       "    .dataframe tbody tr th {\n",
       "        vertical-align: top;\n",
       "    }\n",
       "\n",
       "    .dataframe thead th {\n",
       "        text-align: right;\n",
       "    }\n",
       "</style>\n",
       "<table border=\"1\" class=\"dataframe\">\n",
       "  <thead>\n",
       "    <tr style=\"text-align: right;\">\n",
       "      <th></th>\n",
       "      <th>ZIP_CODE</th>\n",
       "      <th>CARCINOGEN</th>\n",
       "      <th>CLEAN_AIR</th>\n",
       "      <th>REL_EST_AMT</th>\n",
       "    </tr>\n",
       "  </thead>\n",
       "  <tbody>\n",
       "    <tr>\n",
       "      <th>0</th>\n",
       "      <td>15025</td>\n",
       "      <td>N</td>\n",
       "      <td>Y</td>\n",
       "      <td>380.000</td>\n",
       "    </tr>\n",
       "    <tr>\n",
       "      <th>1</th>\n",
       "      <td>15025</td>\n",
       "      <td>N</td>\n",
       "      <td>Y</td>\n",
       "      <td>0.000</td>\n",
       "    </tr>\n",
       "    <tr>\n",
       "      <th>2</th>\n",
       "      <td>15106</td>\n",
       "      <td>Y</td>\n",
       "      <td>Y</td>\n",
       "      <td>0.000</td>\n",
       "    </tr>\n",
       "    <tr>\n",
       "      <th>3</th>\n",
       "      <td>15106</td>\n",
       "      <td>Y</td>\n",
       "      <td>Y</td>\n",
       "      <td>1784.000</td>\n",
       "    </tr>\n",
       "    <tr>\n",
       "      <th>4</th>\n",
       "      <td>15025</td>\n",
       "      <td>N</td>\n",
       "      <td>N</td>\n",
       "      <td>16000.000</td>\n",
       "    </tr>\n",
       "    <tr>\n",
       "      <th>...</th>\n",
       "      <td>...</td>\n",
       "      <td>...</td>\n",
       "      <td>...</td>\n",
       "      <td>...</td>\n",
       "    </tr>\n",
       "    <tr>\n",
       "      <th>25531</th>\n",
       "      <td>15025</td>\n",
       "      <td>Y</td>\n",
       "      <td>Y</td>\n",
       "      <td>1.146</td>\n",
       "    </tr>\n",
       "    <tr>\n",
       "      <th>25532</th>\n",
       "      <td>15225</td>\n",
       "      <td>N</td>\n",
       "      <td>Y</td>\n",
       "      <td>1.000</td>\n",
       "    </tr>\n",
       "    <tr>\n",
       "      <th>25533</th>\n",
       "      <td>15225</td>\n",
       "      <td>N</td>\n",
       "      <td>Y</td>\n",
       "      <td>1.000</td>\n",
       "    </tr>\n",
       "    <tr>\n",
       "      <th>25534</th>\n",
       "      <td>15014</td>\n",
       "      <td>Y</td>\n",
       "      <td>Y</td>\n",
       "      <td>250.000</td>\n",
       "    </tr>\n",
       "    <tr>\n",
       "      <th>25535</th>\n",
       "      <td>15014</td>\n",
       "      <td>Y</td>\n",
       "      <td>Y</td>\n",
       "      <td>1600.000</td>\n",
       "    </tr>\n",
       "  </tbody>\n",
       "</table>\n",
       "<p>25536 rows × 4 columns</p>\n",
       "</div>"
      ],
      "text/plain": [
       "       ZIP_CODE CARCINOGEN CLEAN_AIR  REL_EST_AMT\n",
       "0         15025          N         Y      380.000\n",
       "1         15025          N         Y        0.000\n",
       "2         15106          Y         Y        0.000\n",
       "3         15106          Y         Y     1784.000\n",
       "4         15025          N         N    16000.000\n",
       "...         ...        ...       ...          ...\n",
       "25531     15025          Y         Y        1.146\n",
       "25532     15225          N         Y        1.000\n",
       "25533     15225          N         Y        1.000\n",
       "25534     15014          Y         Y      250.000\n",
       "25535     15014          Y         Y     1600.000\n",
       "\n",
       "[25536 rows x 4 columns]"
      ]
     },
     "execution_count": 125,
     "metadata": {},
     "output_type": "execute_result"
    }
   ],
   "source": [
    "a_done = air.drop(columns = ['TRI_FACILITY_ID', 'DOC_CTRL_NUM','STATE_ABBR','STATE_COUNTY_FIPS_CODE','NAICS_CODES','PFAS_IND','RELEASE_RANGE_CODE',\n",
    "                    'ENVIRONMENTAL_MEDIUM','RELEASE_BASIS_EST_CODE','STREET_ADDRESS', 'REGION','RELEASE_NA','ENVIRONMENTAL_MEDIUM','SRS_ID',\n",
    "                   'INDUSTRY_CODE','COUNTY_NAME','TOTAL_RELEASE','FACILITY_NAME','CITY_NAME','ASGN_FEDERAL_IND','ASGN_AGENCY',\n",
    "                    'PARENT_CO_DB_NUM','STANDARDIZED_PARENT_COMPANY','EPA_REGISTRY_ID','TRADE_SECRET_IND','FAC_CLOSED_IND','PARENT_CO_NAME','REPORTING_YEAR',\n",
    "                   'CAS_NUM','ELEMENTAL_METAL_INCLUDED','CHEM_NAME','LIST_3350','PRIMARY_SIC_CODE','SIC_CODES','PRIMARY_NAICS_CODE'])\n",
    "a_done"
   ]
  },
  {
   "cell_type": "markdown",
   "metadata": {},
   "source": [
    "Now this chart is narrowed down to four different catergories, being: Zip code, Carcinogen (a substance that is defined as something that can cause cancer to humans), Clean air, and Relistic Estimated Amount. The way I will narrow down whether or a substance is dangerous is if the answer to the question of clean air is no (N in the chart) OR is the answer to is a carcinogen is yes (Y in the carcinogen category). If the category of CLEAN_AIR is marked as yes (Y) then I won't say that the release of chemicals is dangerous because it has been determined by the surveyors that the air is clean (even if the chemcial being released is a carcinogen). Then I will have a chart which I will sum the total amount of toxic chemicals released (when it's deemed that they make the air \"unclean\") by zip code and rank zip codes by amount of toxic chemicals released."
   ]
  },
  {
   "cell_type": "code",
   "execution_count": null,
   "metadata": {},
   "outputs": [],
   "source": []
  },
  {
   "cell_type": "markdown",
   "metadata": {},
   "source": [
    "After filtering this all out I created multiple query masks to filter out the facilites that aren't releasing dangerous chemicals into the air.\n",
    "To do this I create 3 groups that I will filter by: are there carcinogens released (they do not have to be in the air for the release to be marked as yes, but if the air is deemed clean then the release of chemicals isn't going into the air, it's just going somewhere else) is the air determined to be clean, and if there is a release of toxic chemicals into the air is it a large amount"
   ]
  },
  {
   "cell_type": "markdown",
   "metadata": {},
   "source": [
    "This code checks if the release is a carcinogen"
   ]
  },
  {
   "cell_type": "code",
   "execution_count": 126,
   "metadata": {},
   "outputs": [
    {
     "data": {
      "text/plain": [
       "0    False\n",
       "1    False\n",
       "2     True\n",
       "3     True\n",
       "4    False\n",
       "Name: CARCINOGEN, dtype: bool"
      ]
     },
     "execution_count": 126,
     "metadata": {},
     "output_type": "execute_result"
    }
   ],
   "source": [
    "query_mask = a_done['CARCINOGEN'] != 'N'\n",
    "query_mask.head(5)"
   ]
  },
  {
   "cell_type": "markdown",
   "metadata": {},
   "source": [
    "If it is it's kept. Example"
   ]
  },
  {
   "cell_type": "code",
   "execution_count": 127,
   "metadata": {},
   "outputs": [
    {
     "data": {
      "text/html": [
       "<div>\n",
       "<style scoped>\n",
       "    .dataframe tbody tr th:only-of-type {\n",
       "        vertical-align: middle;\n",
       "    }\n",
       "\n",
       "    .dataframe tbody tr th {\n",
       "        vertical-align: top;\n",
       "    }\n",
       "\n",
       "    .dataframe thead th {\n",
       "        text-align: right;\n",
       "    }\n",
       "</style>\n",
       "<table border=\"1\" class=\"dataframe\">\n",
       "  <thead>\n",
       "    <tr style=\"text-align: right;\">\n",
       "      <th></th>\n",
       "      <th>ZIP_CODE</th>\n",
       "      <th>CARCINOGEN</th>\n",
       "      <th>CLEAN_AIR</th>\n",
       "      <th>REL_EST_AMT</th>\n",
       "    </tr>\n",
       "  </thead>\n",
       "  <tbody>\n",
       "    <tr>\n",
       "      <th>2</th>\n",
       "      <td>15106</td>\n",
       "      <td>Y</td>\n",
       "      <td>Y</td>\n",
       "      <td>0.0</td>\n",
       "    </tr>\n",
       "    <tr>\n",
       "      <th>3</th>\n",
       "      <td>15106</td>\n",
       "      <td>Y</td>\n",
       "      <td>Y</td>\n",
       "      <td>1784.0</td>\n",
       "    </tr>\n",
       "    <tr>\n",
       "      <th>6</th>\n",
       "      <td>15225</td>\n",
       "      <td>Y</td>\n",
       "      <td>Y</td>\n",
       "      <td>250.0</td>\n",
       "    </tr>\n",
       "    <tr>\n",
       "      <th>7</th>\n",
       "      <td>15225</td>\n",
       "      <td>Y</td>\n",
       "      <td>Y</td>\n",
       "      <td>250.0</td>\n",
       "    </tr>\n",
       "    <tr>\n",
       "      <th>12</th>\n",
       "      <td>15144</td>\n",
       "      <td>Y</td>\n",
       "      <td>Y</td>\n",
       "      <td>0.0</td>\n",
       "    </tr>\n",
       "    <tr>\n",
       "      <th>13</th>\n",
       "      <td>15144</td>\n",
       "      <td>Y</td>\n",
       "      <td>Y</td>\n",
       "      <td>3200.0</td>\n",
       "    </tr>\n",
       "    <tr>\n",
       "      <th>58</th>\n",
       "      <td>15122</td>\n",
       "      <td>Y</td>\n",
       "      <td>Y</td>\n",
       "      <td>0.0</td>\n",
       "    </tr>\n",
       "    <tr>\n",
       "      <th>59</th>\n",
       "      <td>15122</td>\n",
       "      <td>Y</td>\n",
       "      <td>Y</td>\n",
       "      <td>9.0</td>\n",
       "    </tr>\n",
       "    <tr>\n",
       "      <th>82</th>\n",
       "      <td>15144</td>\n",
       "      <td>Y</td>\n",
       "      <td>Y</td>\n",
       "      <td>5.0</td>\n",
       "    </tr>\n",
       "    <tr>\n",
       "      <th>83</th>\n",
       "      <td>15144</td>\n",
       "      <td>Y</td>\n",
       "      <td>Y</td>\n",
       "      <td>898.0</td>\n",
       "    </tr>\n",
       "  </tbody>\n",
       "</table>\n",
       "</div>"
      ],
      "text/plain": [
       "    ZIP_CODE CARCINOGEN CLEAN_AIR  REL_EST_AMT\n",
       "2      15106          Y         Y          0.0\n",
       "3      15106          Y         Y       1784.0\n",
       "6      15225          Y         Y        250.0\n",
       "7      15225          Y         Y        250.0\n",
       "12     15144          Y         Y          0.0\n",
       "13     15144          Y         Y       3200.0\n",
       "58     15122          Y         Y          0.0\n",
       "59     15122          Y         Y          9.0\n",
       "82     15144          Y         Y          5.0\n",
       "83     15144          Y         Y        898.0"
      ]
     },
     "execution_count": 127,
     "metadata": {},
     "output_type": "execute_result"
    }
   ],
   "source": [
    "car_no = a_done[query_mask]\n",
    "car_no.head(10)"
   ]
  },
  {
   "cell_type": "markdown",
   "metadata": {},
   "source": [
    "The above snippet removes all the non-carcinogens but now I also have to remove the rows in which the air is deemed clean, because that air is up to par. So I'm going to create another query mask to only accept rows in which the air is marked as not clean or (N)"
   ]
  },
  {
   "cell_type": "code",
   "execution_count": 128,
   "metadata": {},
   "outputs": [
    {
     "data": {
      "text/plain": [
       "0    False\n",
       "1    False\n",
       "2    False\n",
       "3    False\n",
       "4     True\n",
       "Name: CLEAN_AIR, dtype: bool"
      ]
     },
     "execution_count": 128,
     "metadata": {},
     "output_type": "execute_result"
    }
   ],
   "source": [
    "qquery_mask = a_done['CLEAN_AIR'] == 'N'\n",
    "qquery_mask.head()"
   ]
  },
  {
   "cell_type": "markdown",
   "metadata": {},
   "source": [
    "Now I'm going to create a third query mask to check for releases over a sizeable margin (100 lbs released) and anything less than that will be removed"
   ]
  },
  {
   "cell_type": "code",
   "execution_count": 129,
   "metadata": {},
   "outputs": [
    {
     "data": {
      "text/plain": [
       "0     True\n",
       "1    False\n",
       "2    False\n",
       "3     True\n",
       "4     True\n",
       "Name: REL_EST_AMT, dtype: bool"
      ]
     },
     "execution_count": 129,
     "metadata": {},
     "output_type": "execute_result"
    }
   ],
   "source": [
    "qqquery_mask = a_done['REL_EST_AMT'] >= 100\n",
    "qqquery_mask.head()"
   ]
  },
  {
   "cell_type": "code",
   "execution_count": 130,
   "metadata": {},
   "outputs": [
    {
     "data": {
      "text/html": [
       "<div>\n",
       "<style scoped>\n",
       "    .dataframe tbody tr th:only-of-type {\n",
       "        vertical-align: middle;\n",
       "    }\n",
       "\n",
       "    .dataframe tbody tr th {\n",
       "        vertical-align: top;\n",
       "    }\n",
       "\n",
       "    .dataframe thead th {\n",
       "        text-align: right;\n",
       "    }\n",
       "</style>\n",
       "<table border=\"1\" class=\"dataframe\">\n",
       "  <thead>\n",
       "    <tr style=\"text-align: right;\">\n",
       "      <th></th>\n",
       "      <th>ZIP_CODE</th>\n",
       "      <th>CARCINOGEN</th>\n",
       "      <th>CLEAN_AIR</th>\n",
       "      <th>REL_EST_AMT</th>\n",
       "    </tr>\n",
       "  </thead>\n",
       "  <tbody>\n",
       "    <tr>\n",
       "      <th>4893</th>\n",
       "      <td>15025</td>\n",
       "      <td>Y</td>\n",
       "      <td>N</td>\n",
       "      <td>1300.0</td>\n",
       "    </tr>\n",
       "    <tr>\n",
       "      <th>7482</th>\n",
       "      <td>15025</td>\n",
       "      <td>Y</td>\n",
       "      <td>N</td>\n",
       "      <td>230.0</td>\n",
       "    </tr>\n",
       "    <tr>\n",
       "      <th>7483</th>\n",
       "      <td>15025</td>\n",
       "      <td>Y</td>\n",
       "      <td>N</td>\n",
       "      <td>1613.0</td>\n",
       "    </tr>\n",
       "    <tr>\n",
       "      <th>8442</th>\n",
       "      <td>15025</td>\n",
       "      <td>Y</td>\n",
       "      <td>N</td>\n",
       "      <td>185.0</td>\n",
       "    </tr>\n",
       "    <tr>\n",
       "      <th>8443</th>\n",
       "      <td>15025</td>\n",
       "      <td>Y</td>\n",
       "      <td>N</td>\n",
       "      <td>1085.0</td>\n",
       "    </tr>\n",
       "    <tr>\n",
       "      <th>8942</th>\n",
       "      <td>15144</td>\n",
       "      <td>Y</td>\n",
       "      <td>N</td>\n",
       "      <td>250.0</td>\n",
       "    </tr>\n",
       "    <tr>\n",
       "      <th>8943</th>\n",
       "      <td>15144</td>\n",
       "      <td>Y</td>\n",
       "      <td>N</td>\n",
       "      <td>250.0</td>\n",
       "    </tr>\n",
       "    <tr>\n",
       "      <th>18812</th>\n",
       "      <td>15144</td>\n",
       "      <td>Y</td>\n",
       "      <td>N</td>\n",
       "      <td>250.0</td>\n",
       "    </tr>\n",
       "    <tr>\n",
       "      <th>20735</th>\n",
       "      <td>15025</td>\n",
       "      <td>Y</td>\n",
       "      <td>N</td>\n",
       "      <td>1430.0</td>\n",
       "    </tr>\n",
       "  </tbody>\n",
       "</table>\n",
       "</div>"
      ],
      "text/plain": [
       "       ZIP_CODE CARCINOGEN CLEAN_AIR  REL_EST_AMT\n",
       "4893      15025          Y         N       1300.0\n",
       "7482      15025          Y         N        230.0\n",
       "7483      15025          Y         N       1613.0\n",
       "8442      15025          Y         N        185.0\n",
       "8443      15025          Y         N       1085.0\n",
       "8942      15144          Y         N        250.0\n",
       "8943      15144          Y         N        250.0\n",
       "18812     15144          Y         N        250.0\n",
       "20735     15025          Y         N       1430.0"
      ]
     },
     "execution_count": 130,
     "metadata": {},
     "output_type": "execute_result"
    }
   ],
   "source": [
    "final = a_done[(query_mask & qquery_mask) & qqquery_mask]\n",
    "final.head(100)"
   ]
  },
  {
   "cell_type": "markdown",
   "metadata": {},
   "source": [
    "After applying the 3 query masks it is clear that there are two zip codes in particular that release large amounts of carcinogenic material into the air to make it unsafe. The two zip codes correspond to Clairton and Springdale"
   ]
  },
  {
   "cell_type": "code",
   "execution_count": 131,
   "metadata": {},
   "outputs": [
    {
     "data": {
      "text/html": [
       "<div>\n",
       "<style scoped>\n",
       "    .dataframe tbody tr th:only-of-type {\n",
       "        vertical-align: middle;\n",
       "    }\n",
       "\n",
       "    .dataframe tbody tr th {\n",
       "        vertical-align: top;\n",
       "    }\n",
       "\n",
       "    .dataframe thead th {\n",
       "        text-align: right;\n",
       "    }\n",
       "</style>\n",
       "<table border=\"1\" class=\"dataframe\">\n",
       "  <thead>\n",
       "    <tr style=\"text-align: right;\">\n",
       "      <th></th>\n",
       "      <th>ZIP_CODE</th>\n",
       "      <th>CARCINOGEN</th>\n",
       "      <th>CLEAN_AIR</th>\n",
       "      <th>REL_EST_AMT</th>\n",
       "    </tr>\n",
       "  </thead>\n",
       "  <tbody>\n",
       "    <tr>\n",
       "      <th>4515</th>\n",
       "      <td>15144</td>\n",
       "      <td>Y</td>\n",
       "      <td>N</td>\n",
       "      <td>13.0</td>\n",
       "    </tr>\n",
       "    <tr>\n",
       "      <th>4893</th>\n",
       "      <td>15025</td>\n",
       "      <td>Y</td>\n",
       "      <td>N</td>\n",
       "      <td>1300.0</td>\n",
       "    </tr>\n",
       "    <tr>\n",
       "      <th>5406</th>\n",
       "      <td>15204</td>\n",
       "      <td>Y</td>\n",
       "      <td>N</td>\n",
       "      <td>1.0</td>\n",
       "    </tr>\n",
       "    <tr>\n",
       "      <th>5407</th>\n",
       "      <td>15204</td>\n",
       "      <td>Y</td>\n",
       "      <td>N</td>\n",
       "      <td>2.0</td>\n",
       "    </tr>\n",
       "    <tr>\n",
       "      <th>6377</th>\n",
       "      <td>15144</td>\n",
       "      <td>Y</td>\n",
       "      <td>N</td>\n",
       "      <td>55.0</td>\n",
       "    </tr>\n",
       "    <tr>\n",
       "      <th>6450</th>\n",
       "      <td>15204</td>\n",
       "      <td>Y</td>\n",
       "      <td>N</td>\n",
       "      <td>5.0</td>\n",
       "    </tr>\n",
       "    <tr>\n",
       "      <th>6451</th>\n",
       "      <td>15204</td>\n",
       "      <td>Y</td>\n",
       "      <td>N</td>\n",
       "      <td>5.0</td>\n",
       "    </tr>\n",
       "    <tr>\n",
       "      <th>7482</th>\n",
       "      <td>15025</td>\n",
       "      <td>Y</td>\n",
       "      <td>N</td>\n",
       "      <td>230.0</td>\n",
       "    </tr>\n",
       "    <tr>\n",
       "      <th>7483</th>\n",
       "      <td>15025</td>\n",
       "      <td>Y</td>\n",
       "      <td>N</td>\n",
       "      <td>1613.0</td>\n",
       "    </tr>\n",
       "    <tr>\n",
       "      <th>8442</th>\n",
       "      <td>15025</td>\n",
       "      <td>Y</td>\n",
       "      <td>N</td>\n",
       "      <td>185.0</td>\n",
       "    </tr>\n",
       "    <tr>\n",
       "      <th>8443</th>\n",
       "      <td>15025</td>\n",
       "      <td>Y</td>\n",
       "      <td>N</td>\n",
       "      <td>1085.0</td>\n",
       "    </tr>\n",
       "    <tr>\n",
       "      <th>8942</th>\n",
       "      <td>15144</td>\n",
       "      <td>Y</td>\n",
       "      <td>N</td>\n",
       "      <td>250.0</td>\n",
       "    </tr>\n",
       "    <tr>\n",
       "      <th>8943</th>\n",
       "      <td>15144</td>\n",
       "      <td>Y</td>\n",
       "      <td>N</td>\n",
       "      <td>250.0</td>\n",
       "    </tr>\n",
       "    <tr>\n",
       "      <th>11093</th>\n",
       "      <td>15225</td>\n",
       "      <td>Y</td>\n",
       "      <td>N</td>\n",
       "      <td>2.0</td>\n",
       "    </tr>\n",
       "    <tr>\n",
       "      <th>15656</th>\n",
       "      <td>15204</td>\n",
       "      <td>Y</td>\n",
       "      <td>N</td>\n",
       "      <td>5.0</td>\n",
       "    </tr>\n",
       "    <tr>\n",
       "      <th>15657</th>\n",
       "      <td>15204</td>\n",
       "      <td>Y</td>\n",
       "      <td>N</td>\n",
       "      <td>5.0</td>\n",
       "    </tr>\n",
       "    <tr>\n",
       "      <th>16013</th>\n",
       "      <td>15144</td>\n",
       "      <td>Y</td>\n",
       "      <td>N</td>\n",
       "      <td>42.0</td>\n",
       "    </tr>\n",
       "    <tr>\n",
       "      <th>18367</th>\n",
       "      <td>15225</td>\n",
       "      <td>Y</td>\n",
       "      <td>N</td>\n",
       "      <td>2.0</td>\n",
       "    </tr>\n",
       "    <tr>\n",
       "      <th>18812</th>\n",
       "      <td>15144</td>\n",
       "      <td>Y</td>\n",
       "      <td>N</td>\n",
       "      <td>250.0</td>\n",
       "    </tr>\n",
       "    <tr>\n",
       "      <th>19090</th>\n",
       "      <td>15204</td>\n",
       "      <td>Y</td>\n",
       "      <td>N</td>\n",
       "      <td>1.0</td>\n",
       "    </tr>\n",
       "    <tr>\n",
       "      <th>19091</th>\n",
       "      <td>15204</td>\n",
       "      <td>Y</td>\n",
       "      <td>N</td>\n",
       "      <td>1.0</td>\n",
       "    </tr>\n",
       "    <tr>\n",
       "      <th>19388</th>\n",
       "      <td>15204</td>\n",
       "      <td>Y</td>\n",
       "      <td>N</td>\n",
       "      <td>5.0</td>\n",
       "    </tr>\n",
       "    <tr>\n",
       "      <th>19389</th>\n",
       "      <td>15204</td>\n",
       "      <td>Y</td>\n",
       "      <td>N</td>\n",
       "      <td>5.0</td>\n",
       "    </tr>\n",
       "    <tr>\n",
       "      <th>20346</th>\n",
       "      <td>15204</td>\n",
       "      <td>Y</td>\n",
       "      <td>N</td>\n",
       "      <td>5.0</td>\n",
       "    </tr>\n",
       "    <tr>\n",
       "      <th>20347</th>\n",
       "      <td>15204</td>\n",
       "      <td>Y</td>\n",
       "      <td>N</td>\n",
       "      <td>5.0</td>\n",
       "    </tr>\n",
       "    <tr>\n",
       "      <th>20735</th>\n",
       "      <td>15025</td>\n",
       "      <td>Y</td>\n",
       "      <td>N</td>\n",
       "      <td>1430.0</td>\n",
       "    </tr>\n",
       "    <tr>\n",
       "      <th>20821</th>\n",
       "      <td>15144</td>\n",
       "      <td>Y</td>\n",
       "      <td>N</td>\n",
       "      <td>11.0</td>\n",
       "    </tr>\n",
       "    <tr>\n",
       "      <th>21611</th>\n",
       "      <td>15204</td>\n",
       "      <td>Y</td>\n",
       "      <td>N</td>\n",
       "      <td>1.0</td>\n",
       "    </tr>\n",
       "    <tr>\n",
       "      <th>23790</th>\n",
       "      <td>15204</td>\n",
       "      <td>Y</td>\n",
       "      <td>N</td>\n",
       "      <td>5.0</td>\n",
       "    </tr>\n",
       "    <tr>\n",
       "      <th>23791</th>\n",
       "      <td>15204</td>\n",
       "      <td>Y</td>\n",
       "      <td>N</td>\n",
       "      <td>5.0</td>\n",
       "    </tr>\n",
       "    <tr>\n",
       "      <th>24078</th>\n",
       "      <td>15204</td>\n",
       "      <td>Y</td>\n",
       "      <td>N</td>\n",
       "      <td>5.0</td>\n",
       "    </tr>\n",
       "    <tr>\n",
       "      <th>24079</th>\n",
       "      <td>15204</td>\n",
       "      <td>Y</td>\n",
       "      <td>N</td>\n",
       "      <td>5.0</td>\n",
       "    </tr>\n",
       "  </tbody>\n",
       "</table>\n",
       "</div>"
      ],
      "text/plain": [
       "       ZIP_CODE CARCINOGEN CLEAN_AIR  REL_EST_AMT\n",
       "4515      15144          Y         N         13.0\n",
       "4893      15025          Y         N       1300.0\n",
       "5406      15204          Y         N          1.0\n",
       "5407      15204          Y         N          2.0\n",
       "6377      15144          Y         N         55.0\n",
       "6450      15204          Y         N          5.0\n",
       "6451      15204          Y         N          5.0\n",
       "7482      15025          Y         N        230.0\n",
       "7483      15025          Y         N       1613.0\n",
       "8442      15025          Y         N        185.0\n",
       "8443      15025          Y         N       1085.0\n",
       "8942      15144          Y         N        250.0\n",
       "8943      15144          Y         N        250.0\n",
       "11093     15225          Y         N          2.0\n",
       "15656     15204          Y         N          5.0\n",
       "15657     15204          Y         N          5.0\n",
       "16013     15144          Y         N         42.0\n",
       "18367     15225          Y         N          2.0\n",
       "18812     15144          Y         N        250.0\n",
       "19090     15204          Y         N          1.0\n",
       "19091     15204          Y         N          1.0\n",
       "19388     15204          Y         N          5.0\n",
       "19389     15204          Y         N          5.0\n",
       "20346     15204          Y         N          5.0\n",
       "20347     15204          Y         N          5.0\n",
       "20735     15025          Y         N       1430.0\n",
       "20821     15144          Y         N         11.0\n",
       "21611     15204          Y         N          1.0\n",
       "23790     15204          Y         N          5.0\n",
       "23791     15204          Y         N          5.0\n",
       "24078     15204          Y         N          5.0\n",
       "24079     15204          Y         N          5.0"
      ]
     },
     "execution_count": 131,
     "metadata": {},
     "output_type": "execute_result"
    }
   ],
   "source": [
    "rquery_mask = a_done['REL_EST_AMT'] >= 1\n",
    "\n",
    "final_all_n = a_done[(query_mask & qquery_mask) & rquery_mask]\n",
    "final_all_n"
   ]
  },
  {
   "cell_type": "markdown",
   "metadata": {},
   "source": [
    "After changing the third query mask to show all toxic releases a new zip code that releases small amounts of material (just more often) is 15204 which corresponds to Sheraden and another that releases 2 lbs twice 15225 which corresponds to Neville Island"
   ]
  },
  {
   "cell_type": "markdown",
   "metadata": {},
   "source": [
    "Below I'm just going to remove the labels for clean air and carcinogen and then I'm going to plot the values on a bar graph"
   ]
  },
  {
   "cell_type": "code",
   "execution_count": 132,
   "metadata": {},
   "outputs": [
    {
     "data": {
      "text/html": [
       "<div>\n",
       "<style scoped>\n",
       "    .dataframe tbody tr th:only-of-type {\n",
       "        vertical-align: middle;\n",
       "    }\n",
       "\n",
       "    .dataframe tbody tr th {\n",
       "        vertical-align: top;\n",
       "    }\n",
       "\n",
       "    .dataframe thead th {\n",
       "        text-align: right;\n",
       "    }\n",
       "</style>\n",
       "<table border=\"1\" class=\"dataframe\">\n",
       "  <thead>\n",
       "    <tr style=\"text-align: right;\">\n",
       "      <th></th>\n",
       "      <th>ZIP_CODE</th>\n",
       "      <th>REL_EST_AMT</th>\n",
       "    </tr>\n",
       "  </thead>\n",
       "  <tbody>\n",
       "    <tr>\n",
       "      <th>4515</th>\n",
       "      <td>15144</td>\n",
       "      <td>13.0</td>\n",
       "    </tr>\n",
       "    <tr>\n",
       "      <th>4893</th>\n",
       "      <td>15025</td>\n",
       "      <td>1300.0</td>\n",
       "    </tr>\n",
       "    <tr>\n",
       "      <th>5406</th>\n",
       "      <td>15204</td>\n",
       "      <td>1.0</td>\n",
       "    </tr>\n",
       "    <tr>\n",
       "      <th>5407</th>\n",
       "      <td>15204</td>\n",
       "      <td>2.0</td>\n",
       "    </tr>\n",
       "    <tr>\n",
       "      <th>6377</th>\n",
       "      <td>15144</td>\n",
       "      <td>55.0</td>\n",
       "    </tr>\n",
       "    <tr>\n",
       "      <th>6450</th>\n",
       "      <td>15204</td>\n",
       "      <td>5.0</td>\n",
       "    </tr>\n",
       "    <tr>\n",
       "      <th>6451</th>\n",
       "      <td>15204</td>\n",
       "      <td>5.0</td>\n",
       "    </tr>\n",
       "    <tr>\n",
       "      <th>7482</th>\n",
       "      <td>15025</td>\n",
       "      <td>230.0</td>\n",
       "    </tr>\n",
       "    <tr>\n",
       "      <th>7483</th>\n",
       "      <td>15025</td>\n",
       "      <td>1613.0</td>\n",
       "    </tr>\n",
       "    <tr>\n",
       "      <th>8442</th>\n",
       "      <td>15025</td>\n",
       "      <td>185.0</td>\n",
       "    </tr>\n",
       "    <tr>\n",
       "      <th>8443</th>\n",
       "      <td>15025</td>\n",
       "      <td>1085.0</td>\n",
       "    </tr>\n",
       "    <tr>\n",
       "      <th>8942</th>\n",
       "      <td>15144</td>\n",
       "      <td>250.0</td>\n",
       "    </tr>\n",
       "    <tr>\n",
       "      <th>8943</th>\n",
       "      <td>15144</td>\n",
       "      <td>250.0</td>\n",
       "    </tr>\n",
       "    <tr>\n",
       "      <th>11093</th>\n",
       "      <td>15225</td>\n",
       "      <td>2.0</td>\n",
       "    </tr>\n",
       "    <tr>\n",
       "      <th>15656</th>\n",
       "      <td>15204</td>\n",
       "      <td>5.0</td>\n",
       "    </tr>\n",
       "    <tr>\n",
       "      <th>15657</th>\n",
       "      <td>15204</td>\n",
       "      <td>5.0</td>\n",
       "    </tr>\n",
       "    <tr>\n",
       "      <th>16013</th>\n",
       "      <td>15144</td>\n",
       "      <td>42.0</td>\n",
       "    </tr>\n",
       "    <tr>\n",
       "      <th>18367</th>\n",
       "      <td>15225</td>\n",
       "      <td>2.0</td>\n",
       "    </tr>\n",
       "    <tr>\n",
       "      <th>18812</th>\n",
       "      <td>15144</td>\n",
       "      <td>250.0</td>\n",
       "    </tr>\n",
       "    <tr>\n",
       "      <th>19090</th>\n",
       "      <td>15204</td>\n",
       "      <td>1.0</td>\n",
       "    </tr>\n",
       "    <tr>\n",
       "      <th>19091</th>\n",
       "      <td>15204</td>\n",
       "      <td>1.0</td>\n",
       "    </tr>\n",
       "    <tr>\n",
       "      <th>19388</th>\n",
       "      <td>15204</td>\n",
       "      <td>5.0</td>\n",
       "    </tr>\n",
       "    <tr>\n",
       "      <th>19389</th>\n",
       "      <td>15204</td>\n",
       "      <td>5.0</td>\n",
       "    </tr>\n",
       "    <tr>\n",
       "      <th>20346</th>\n",
       "      <td>15204</td>\n",
       "      <td>5.0</td>\n",
       "    </tr>\n",
       "    <tr>\n",
       "      <th>20347</th>\n",
       "      <td>15204</td>\n",
       "      <td>5.0</td>\n",
       "    </tr>\n",
       "    <tr>\n",
       "      <th>20735</th>\n",
       "      <td>15025</td>\n",
       "      <td>1430.0</td>\n",
       "    </tr>\n",
       "    <tr>\n",
       "      <th>20821</th>\n",
       "      <td>15144</td>\n",
       "      <td>11.0</td>\n",
       "    </tr>\n",
       "    <tr>\n",
       "      <th>21611</th>\n",
       "      <td>15204</td>\n",
       "      <td>1.0</td>\n",
       "    </tr>\n",
       "    <tr>\n",
       "      <th>23790</th>\n",
       "      <td>15204</td>\n",
       "      <td>5.0</td>\n",
       "    </tr>\n",
       "    <tr>\n",
       "      <th>23791</th>\n",
       "      <td>15204</td>\n",
       "      <td>5.0</td>\n",
       "    </tr>\n",
       "    <tr>\n",
       "      <th>24078</th>\n",
       "      <td>15204</td>\n",
       "      <td>5.0</td>\n",
       "    </tr>\n",
       "    <tr>\n",
       "      <th>24079</th>\n",
       "      <td>15204</td>\n",
       "      <td>5.0</td>\n",
       "    </tr>\n",
       "  </tbody>\n",
       "</table>\n",
       "</div>"
      ],
      "text/plain": [
       "       ZIP_CODE  REL_EST_AMT\n",
       "4515      15144         13.0\n",
       "4893      15025       1300.0\n",
       "5406      15204          1.0\n",
       "5407      15204          2.0\n",
       "6377      15144         55.0\n",
       "6450      15204          5.0\n",
       "6451      15204          5.0\n",
       "7482      15025        230.0\n",
       "7483      15025       1613.0\n",
       "8442      15025        185.0\n",
       "8443      15025       1085.0\n",
       "8942      15144        250.0\n",
       "8943      15144        250.0\n",
       "11093     15225          2.0\n",
       "15656     15204          5.0\n",
       "15657     15204          5.0\n",
       "16013     15144         42.0\n",
       "18367     15225          2.0\n",
       "18812     15144        250.0\n",
       "19090     15204          1.0\n",
       "19091     15204          1.0\n",
       "19388     15204          5.0\n",
       "19389     15204          5.0\n",
       "20346     15204          5.0\n",
       "20347     15204          5.0\n",
       "20735     15025       1430.0\n",
       "20821     15144         11.0\n",
       "21611     15204          1.0\n",
       "23790     15204          5.0\n",
       "23791     15204          5.0\n",
       "24078     15204          5.0\n",
       "24079     15204          5.0"
      ]
     },
     "execution_count": 132,
     "metadata": {},
     "output_type": "execute_result"
    }
   ],
   "source": [
    "fin = final_all_n.drop(columns = ['CARCINOGEN','CLEAN_AIR'])\n",
    "fin"
   ]
  },
  {
   "cell_type": "code",
   "execution_count": 133,
   "metadata": {},
   "outputs": [
    {
     "data": {
      "text/plain": [
       "<matplotlib.axes._subplots.AxesSubplot at 0x7f1d9e798d60>"
      ]
     },
     "execution_count": 133,
     "metadata": {},
     "output_type": "execute_result"
    },
    {
     "data": {
      "image/png": "[encoded data removed]",
      "text/plain": [
       "<Figure size 1296x720 with 1 Axes>"
      ]
     },
     "metadata": {
      "needs_background": "light"
     },
     "output_type": "display_data"
    }
   ],
   "source": [
    "fin.plot.bar(figsize=(18,10), x='ZIP_CODE', y='REL_EST_AMT',rot=1, title=\"Total Amount of Toxic Materials Released by Zip Code\")\n"
   ]
  },
  {
   "cell_type": "markdown",
   "metadata": {},
   "source": [
    "This above bar graph is really ugly because it plots each instance of the release and it doesn't organize the by zip code"
   ]
  },
  {
   "cell_type": "markdown",
   "metadata": {},
   "source": [
    "To split it up by zip code I created a query mask for each of the neighborhoods and then I separated the neighborhoods."
   ]
  },
  {
   "cell_type": "code",
   "execution_count": 134,
   "metadata": {},
   "outputs": [],
   "source": [
    "Clairton_query_mask = fin['ZIP_CODE'] != 15025\n",
    "Springdale_query_mask = fin['ZIP_CODE'] != 15144\n",
    "Sheraden_query_mask = fin['ZIP_CODE'] != 15204\n",
    "Neville_query_mask = fin['ZIP_CODE'] != 15225"
   ]
  },
  {
   "cell_type": "code",
   "execution_count": 135,
   "metadata": {},
   "outputs": [
    {
     "data": {
      "text/html": [
       "<div>\n",
       "<style scoped>\n",
       "    .dataframe tbody tr th:only-of-type {\n",
       "        vertical-align: middle;\n",
       "    }\n",
       "\n",
       "    .dataframe tbody tr th {\n",
       "        vertical-align: top;\n",
       "    }\n",
       "\n",
       "    .dataframe thead th {\n",
       "        text-align: right;\n",
       "    }\n",
       "</style>\n",
       "<table border=\"1\" class=\"dataframe\">\n",
       "  <thead>\n",
       "    <tr style=\"text-align: right;\">\n",
       "      <th></th>\n",
       "      <th>ZIP_CODE</th>\n",
       "      <th>REL_EST_AMT</th>\n",
       "    </tr>\n",
       "  </thead>\n",
       "  <tbody>\n",
       "    <tr>\n",
       "      <th>4893</th>\n",
       "      <td>15025</td>\n",
       "      <td>1300.0</td>\n",
       "    </tr>\n",
       "    <tr>\n",
       "      <th>7482</th>\n",
       "      <td>15025</td>\n",
       "      <td>230.0</td>\n",
       "    </tr>\n",
       "    <tr>\n",
       "      <th>7483</th>\n",
       "      <td>15025</td>\n",
       "      <td>1613.0</td>\n",
       "    </tr>\n",
       "    <tr>\n",
       "      <th>8442</th>\n",
       "      <td>15025</td>\n",
       "      <td>185.0</td>\n",
       "    </tr>\n",
       "    <tr>\n",
       "      <th>8443</th>\n",
       "      <td>15025</td>\n",
       "      <td>1085.0</td>\n",
       "    </tr>\n",
       "    <tr>\n",
       "      <th>20735</th>\n",
       "      <td>15025</td>\n",
       "      <td>1430.0</td>\n",
       "    </tr>\n",
       "  </tbody>\n",
       "</table>\n",
       "</div>"
      ],
      "text/plain": [
       "       ZIP_CODE  REL_EST_AMT\n",
       "4893      15025       1300.0\n",
       "7482      15025        230.0\n",
       "7483      15025       1613.0\n",
       "8442      15025        185.0\n",
       "8443      15025       1085.0\n",
       "20735     15025       1430.0"
      ]
     },
     "execution_count": 135,
     "metadata": {},
     "output_type": "execute_result"
    }
   ],
   "source": [
    "Clairton = fin[Springdale_query_mask & Sheraden_query_mask & Neville_query_mask]\n",
    "#Clairton neighborhood totals below\n",
    "Clairton"
   ]
  },
  {
   "cell_type": "code",
   "execution_count": 136,
   "metadata": {},
   "outputs": [
    {
     "data": {
      "text/plain": [
       "REL_EST_AMT    5843.0\n",
       "dtype: float64"
      ]
     },
     "execution_count": 136,
     "metadata": {},
     "output_type": "execute_result"
    }
   ],
   "source": [
    "Clairton = Clairton.drop(columns = ['ZIP_CODE'])\n",
    "Clairton.sum()"
   ]
  },
  {
   "cell_type": "code",
   "execution_count": 137,
   "metadata": {},
   "outputs": [
    {
     "data": {
      "text/html": [
       "<div>\n",
       "<style scoped>\n",
       "    .dataframe tbody tr th:only-of-type {\n",
       "        vertical-align: middle;\n",
       "    }\n",
       "\n",
       "    .dataframe tbody tr th {\n",
       "        vertical-align: top;\n",
       "    }\n",
       "\n",
       "    .dataframe thead th {\n",
       "        text-align: right;\n",
       "    }\n",
       "</style>\n",
       "<table border=\"1\" class=\"dataframe\">\n",
       "  <thead>\n",
       "    <tr style=\"text-align: right;\">\n",
       "      <th></th>\n",
       "      <th>ZIP_CODE</th>\n",
       "      <th>REL_EST_AMT</th>\n",
       "    </tr>\n",
       "  </thead>\n",
       "  <tbody>\n",
       "    <tr>\n",
       "      <th>4515</th>\n",
       "      <td>15144</td>\n",
       "      <td>13.0</td>\n",
       "    </tr>\n",
       "    <tr>\n",
       "      <th>6377</th>\n",
       "      <td>15144</td>\n",
       "      <td>55.0</td>\n",
       "    </tr>\n",
       "    <tr>\n",
       "      <th>8942</th>\n",
       "      <td>15144</td>\n",
       "      <td>250.0</td>\n",
       "    </tr>\n",
       "    <tr>\n",
       "      <th>8943</th>\n",
       "      <td>15144</td>\n",
       "      <td>250.0</td>\n",
       "    </tr>\n",
       "    <tr>\n",
       "      <th>16013</th>\n",
       "      <td>15144</td>\n",
       "      <td>42.0</td>\n",
       "    </tr>\n",
       "    <tr>\n",
       "      <th>18812</th>\n",
       "      <td>15144</td>\n",
       "      <td>250.0</td>\n",
       "    </tr>\n",
       "    <tr>\n",
       "      <th>20821</th>\n",
       "      <td>15144</td>\n",
       "      <td>11.0</td>\n",
       "    </tr>\n",
       "  </tbody>\n",
       "</table>\n",
       "</div>"
      ],
      "text/plain": [
       "       ZIP_CODE  REL_EST_AMT\n",
       "4515      15144         13.0\n",
       "6377      15144         55.0\n",
       "8942      15144        250.0\n",
       "8943      15144        250.0\n",
       "16013     15144         42.0\n",
       "18812     15144        250.0\n",
       "20821     15144         11.0"
      ]
     },
     "execution_count": 137,
     "metadata": {},
     "output_type": "execute_result"
    }
   ],
   "source": [
    "Springdale = fin[Clairton_query_mask & Sheraden_query_mask & Neville_query_mask]\n",
    "#Springdale neighborhood totals below\n",
    "Springdale"
   ]
  },
  {
   "cell_type": "code",
   "execution_count": 138,
   "metadata": {},
   "outputs": [
    {
     "data": {
      "text/plain": [
       "REL_EST_AMT    871.0\n",
       "dtype: float64"
      ]
     },
     "execution_count": 138,
     "metadata": {},
     "output_type": "execute_result"
    }
   ],
   "source": [
    "Springdale = Springdale.drop(columns = ['ZIP_CODE'])\n",
    "Springdale.sum()"
   ]
  },
  {
   "cell_type": "code",
   "execution_count": 139,
   "metadata": {},
   "outputs": [
    {
     "data": {
      "text/html": [
       "<div>\n",
       "<style scoped>\n",
       "    .dataframe tbody tr th:only-of-type {\n",
       "        vertical-align: middle;\n",
       "    }\n",
       "\n",
       "    .dataframe tbody tr th {\n",
       "        vertical-align: top;\n",
       "    }\n",
       "\n",
       "    .dataframe thead th {\n",
       "        text-align: right;\n",
       "    }\n",
       "</style>\n",
       "<table border=\"1\" class=\"dataframe\">\n",
       "  <thead>\n",
       "    <tr style=\"text-align: right;\">\n",
       "      <th></th>\n",
       "      <th>ZIP_CODE</th>\n",
       "      <th>REL_EST_AMT</th>\n",
       "    </tr>\n",
       "  </thead>\n",
       "  <tbody>\n",
       "    <tr>\n",
       "      <th>5406</th>\n",
       "      <td>15204</td>\n",
       "      <td>1.0</td>\n",
       "    </tr>\n",
       "    <tr>\n",
       "      <th>5407</th>\n",
       "      <td>15204</td>\n",
       "      <td>2.0</td>\n",
       "    </tr>\n",
       "    <tr>\n",
       "      <th>6450</th>\n",
       "      <td>15204</td>\n",
       "      <td>5.0</td>\n",
       "    </tr>\n",
       "    <tr>\n",
       "      <th>6451</th>\n",
       "      <td>15204</td>\n",
       "      <td>5.0</td>\n",
       "    </tr>\n",
       "    <tr>\n",
       "      <th>15656</th>\n",
       "      <td>15204</td>\n",
       "      <td>5.0</td>\n",
       "    </tr>\n",
       "    <tr>\n",
       "      <th>15657</th>\n",
       "      <td>15204</td>\n",
       "      <td>5.0</td>\n",
       "    </tr>\n",
       "    <tr>\n",
       "      <th>19090</th>\n",
       "      <td>15204</td>\n",
       "      <td>1.0</td>\n",
       "    </tr>\n",
       "    <tr>\n",
       "      <th>19091</th>\n",
       "      <td>15204</td>\n",
       "      <td>1.0</td>\n",
       "    </tr>\n",
       "    <tr>\n",
       "      <th>19388</th>\n",
       "      <td>15204</td>\n",
       "      <td>5.0</td>\n",
       "    </tr>\n",
       "    <tr>\n",
       "      <th>19389</th>\n",
       "      <td>15204</td>\n",
       "      <td>5.0</td>\n",
       "    </tr>\n",
       "    <tr>\n",
       "      <th>20346</th>\n",
       "      <td>15204</td>\n",
       "      <td>5.0</td>\n",
       "    </tr>\n",
       "    <tr>\n",
       "      <th>20347</th>\n",
       "      <td>15204</td>\n",
       "      <td>5.0</td>\n",
       "    </tr>\n",
       "    <tr>\n",
       "      <th>21611</th>\n",
       "      <td>15204</td>\n",
       "      <td>1.0</td>\n",
       "    </tr>\n",
       "    <tr>\n",
       "      <th>23790</th>\n",
       "      <td>15204</td>\n",
       "      <td>5.0</td>\n",
       "    </tr>\n",
       "    <tr>\n",
       "      <th>23791</th>\n",
       "      <td>15204</td>\n",
       "      <td>5.0</td>\n",
       "    </tr>\n",
       "    <tr>\n",
       "      <th>24078</th>\n",
       "      <td>15204</td>\n",
       "      <td>5.0</td>\n",
       "    </tr>\n",
       "    <tr>\n",
       "      <th>24079</th>\n",
       "      <td>15204</td>\n",
       "      <td>5.0</td>\n",
       "    </tr>\n",
       "  </tbody>\n",
       "</table>\n",
       "</div>"
      ],
      "text/plain": [
       "       ZIP_CODE  REL_EST_AMT\n",
       "5406      15204          1.0\n",
       "5407      15204          2.0\n",
       "6450      15204          5.0\n",
       "6451      15204          5.0\n",
       "15656     15204          5.0\n",
       "15657     15204          5.0\n",
       "19090     15204          1.0\n",
       "19091     15204          1.0\n",
       "19388     15204          5.0\n",
       "19389     15204          5.0\n",
       "20346     15204          5.0\n",
       "20347     15204          5.0\n",
       "21611     15204          1.0\n",
       "23790     15204          5.0\n",
       "23791     15204          5.0\n",
       "24078     15204          5.0\n",
       "24079     15204          5.0"
      ]
     },
     "execution_count": 139,
     "metadata": {},
     "output_type": "execute_result"
    }
   ],
   "source": [
    "Sheraden = fin[Springdale_query_mask & Clairton_query_mask & Neville_query_mask]\n",
    "#Sheraden neighborhood totals below\n",
    "Sheraden"
   ]
  },
  {
   "cell_type": "code",
   "execution_count": 140,
   "metadata": {},
   "outputs": [
    {
     "data": {
      "text/plain": [
       "REL_EST_AMT    66.0\n",
       "dtype: float64"
      ]
     },
     "execution_count": 140,
     "metadata": {},
     "output_type": "execute_result"
    }
   ],
   "source": [
    "Sheraden = Sheraden.drop(columns = ['ZIP_CODE'])\n",
    "Sheraden.sum()"
   ]
  },
  {
   "cell_type": "code",
   "execution_count": 141,
   "metadata": {},
   "outputs": [
    {
     "data": {
      "text/html": [
       "<div>\n",
       "<style scoped>\n",
       "    .dataframe tbody tr th:only-of-type {\n",
       "        vertical-align: middle;\n",
       "    }\n",
       "\n",
       "    .dataframe tbody tr th {\n",
       "        vertical-align: top;\n",
       "    }\n",
       "\n",
       "    .dataframe thead th {\n",
       "        text-align: right;\n",
       "    }\n",
       "</style>\n",
       "<table border=\"1\" class=\"dataframe\">\n",
       "  <thead>\n",
       "    <tr style=\"text-align: right;\">\n",
       "      <th></th>\n",
       "      <th>ZIP_CODE</th>\n",
       "      <th>REL_EST_AMT</th>\n",
       "    </tr>\n",
       "  </thead>\n",
       "  <tbody>\n",
       "    <tr>\n",
       "      <th>11093</th>\n",
       "      <td>15225</td>\n",
       "      <td>2.0</td>\n",
       "    </tr>\n",
       "    <tr>\n",
       "      <th>18367</th>\n",
       "      <td>15225</td>\n",
       "      <td>2.0</td>\n",
       "    </tr>\n",
       "  </tbody>\n",
       "</table>\n",
       "</div>"
      ],
      "text/plain": [
       "       ZIP_CODE  REL_EST_AMT\n",
       "11093     15225          2.0\n",
       "18367     15225          2.0"
      ]
     },
     "execution_count": 141,
     "metadata": {},
     "output_type": "execute_result"
    }
   ],
   "source": [
    "Neville = fin[Springdale_query_mask & Sheraden_query_mask & Clairton_query_mask]\n",
    "#Neville Island neighborhood totals below\n",
    "Neville"
   ]
  },
  {
   "cell_type": "code",
   "execution_count": 142,
   "metadata": {},
   "outputs": [
    {
     "data": {
      "text/plain": [
       "REL_EST_AMT    4.0\n",
       "dtype: float64"
      ]
     },
     "execution_count": 142,
     "metadata": {},
     "output_type": "execute_result"
    }
   ],
   "source": [
    "Neville = Neville.drop(columns = ['ZIP_CODE'])\n",
    "Neville.sum()"
   ]
  },
  {
   "cell_type": "markdown",
   "metadata": {},
   "source": [
    "Now that I've got all my totals I'm going to organize the totals into a dataframe so I can easily plot this onto a graph"
   ]
  },
  {
   "cell_type": "code",
   "execution_count": 143,
   "metadata": {},
   "outputs": [
    {
     "data": {
      "text/html": [
       "<div>\n",
       "<style scoped>\n",
       "    .dataframe tbody tr th:only-of-type {\n",
       "        vertical-align: middle;\n",
       "    }\n",
       "\n",
       "    .dataframe tbody tr th {\n",
       "        vertical-align: top;\n",
       "    }\n",
       "\n",
       "    .dataframe thead th {\n",
       "        text-align: right;\n",
       "    }\n",
       "</style>\n",
       "<table border=\"1\" class=\"dataframe\">\n",
       "  <thead>\n",
       "    <tr style=\"text-align: right;\">\n",
       "      <th></th>\n",
       "      <th>Amount Released</th>\n",
       "      <th>Neighborhoods</th>\n",
       "    </tr>\n",
       "  </thead>\n",
       "  <tbody>\n",
       "    <tr>\n",
       "      <th>1</th>\n",
       "      <td>5843</td>\n",
       "      <td>Clairton</td>\n",
       "    </tr>\n",
       "    <tr>\n",
       "      <th>2</th>\n",
       "      <td>871</td>\n",
       "      <td>Springdale</td>\n",
       "    </tr>\n",
       "    <tr>\n",
       "      <th>3</th>\n",
       "      <td>66</td>\n",
       "      <td>Sheraden</td>\n",
       "    </tr>\n",
       "    <tr>\n",
       "      <th>4</th>\n",
       "      <td>4</td>\n",
       "      <td>Neville Island</td>\n",
       "    </tr>\n",
       "  </tbody>\n",
       "</table>\n",
       "</div>"
      ],
      "text/plain": [
       "   Amount Released   Neighborhoods\n",
       "1             5843        Clairton\n",
       "2              871      Springdale\n",
       "3               66        Sheraden\n",
       "4                4  Neville Island"
      ]
     },
     "execution_count": 143,
     "metadata": {},
     "output_type": "execute_result"
    }
   ],
   "source": [
    "totals = pd.DataFrame({\"Amount Released\":[5843,871,66,4],\n",
    "                    \"Neighborhoods\":[\"Clairton\",\"Springdale\",\"Sheraden\",\"Neville Island\"]},index=[1,2,3,4])\n",
    "totals"
   ]
  },
  {
   "cell_type": "markdown",
   "metadata": {},
   "source": [
    "Now I'm going to set up my bar graph based on the dataframe above"
   ]
  },
  {
   "cell_type": "code",
   "execution_count": 144,
   "metadata": {},
   "outputs": [
    {
     "data": {
      "text/plain": [
       "<matplotlib.axes._subplots.AxesSubplot at 0x7f1d9e650670>"
      ]
     },
     "execution_count": 144,
     "metadata": {},
     "output_type": "execute_result"
    },
    {
     "data": {
      "image/png": "[encoded data removed]",
      "text/plain": [
       "<Figure size 432x288 with 1 Axes>"
      ]
     },
     "metadata": {
      "needs_background": "light"
     },
     "output_type": "display_data"
    }
   ],
   "source": [
    "totals.plot.bar(x='Neighborhoods', y='Amount Released',rot=1, title=\"Total Amount of Toxic Materials Released by Zip Code\")"
   ]
  },
  {
   "cell_type": "markdown",
   "metadata": {},
   "source": [
    "Since air quality or amount of toxic chemicals released into the air isn't as important of a quality of a neighborhood as crime or diversity in education I'm subtracting but only by a relatively small amount because compared to crime and diversity in schools, air quality isn't a family's first priority for where they're going to live.\n",
    "\n",
    "Total releases and score subtractions Lbs released / 10,000\n",
    "\n",
    "Clairton with 5843 lbs released -.5843\n",
    "\n",
    "Springdale with 871 lbs released   -.0871\n",
    "\n",
    "Sheraden with 66 lbs released   -.0066\n",
    "\n",
    "Neville Island with 4 lbs released   -.0004"
   ]
  },
  {
   "cell_type": "markdown",
   "metadata": {},
   "source": [
    "# Conclusion\n",
    "There are only 4 neighborhoods that release amounts of toxic chemicals that are worth remarking and those four zip codes are 15144, 15025, 15225, 15204. These four zip codes are Springdale, Clairton, Neville Island and Sheraden. Clairton is the biggest culprit as they release will over 5 times the combined rest of Pittsburgh so if air quality is something that matters to you then Clairton is a place to avoid. The metric of air quality is a little bit different especially in terms of release amount. The best is 0 and you can't do better than 0 so there aren't winners that stand out, mainly 4 losers. So, I subtracted points from the losers instead of adding to the winners."
   ]
  }
 ],
 "metadata": {
  "kernelspec": {
   "display_name": "Python 3",
   "language": "python",
   "name": "python3"
  },
  "language_info": {
   "codemirror_mode": {
    "name": "ipython",
    "version": 3
   },
   "file_extension": ".py",
   "mimetype": "text/x-python",
   "name": "python",
   "nbconvert_exporter": "python",
   "pygments_lexer": "ipython3",
   "version": "3.8.3"
  }
 },
 "nbformat": 4,
 "nbformat_minor": 4
}
