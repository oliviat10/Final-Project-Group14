{
 "cells": [
  {
   "cell_type": "markdown",
   "metadata": {},
   "source": [
    "# Marko Melishchuk Notebook Big Ideas Final Project"
   ]
  },
  {
   "cell_type": "code",
   "execution_count": 10,
   "metadata": {},
   "outputs": [
    {
     "name": "stdout",
     "output_type": "stream",
     "text": [
      "Cloning into 'Final-Project-MOK'...\n",
      "remote: Enumerating objects: 17, done.\u001b[K\n",
      "remote: Counting objects: 100% (17/17), done.\u001b[K\n",
      "remote: Compressing objects: 100% (14/14), done.\u001b[K\n",
      "remote: Total 17 (delta 3), reused 0 (delta 0), pack-reused 0\u001b[K\n",
      "Unpacking objects: 100% (17/17), done.\n"
     ]
    }
   ],
   "source": [
    "!git clone https://github.com/oliviat10/Final-Project-MOK.git"
   ]
  },
  {
   "cell_type": "markdown",
   "metadata": {},
   "source": [
    "Marko's Notebook"
   ]
  },
  {
   "cell_type": "code",
   "execution_count": 2,
   "metadata": {},
   "outputs": [],
   "source": [
    "import numpy as np\n",
    "import pandas as pd\n",
    "\n",
    "\n",
    "air = pd.read_csv('toxicair.csv')\n"
   ]
  },
  {
   "cell_type": "code",
   "execution_count": 3,
   "metadata": {},
   "outputs": [
    {
     "data": {
      "text/html": [
       "<div>\n",
       "<style scoped>\n",
       "    .dataframe tbody tr th:only-of-type {\n",
       "        vertical-align: middle;\n",
       "    }\n",
       "\n",
       "    .dataframe tbody tr th {\n",
       "        vertical-align: top;\n",
       "    }\n",
       "\n",
       "    .dataframe thead th {\n",
       "        text-align: right;\n",
       "    }\n",
       "</style>\n",
       "<table border=\"1\" class=\"dataframe\">\n",
       "  <thead>\n",
       "    <tr style=\"text-align: right;\">\n",
       "      <th></th>\n",
       "      <th>TRI_FACILITY_ID</th>\n",
       "      <th>DOC_CTRL_NUM</th>\n",
       "      <th>FACILITY_NAME</th>\n",
       "      <th>STREET_ADDRESS</th>\n",
       "      <th>CITY_NAME</th>\n",
       "      <th>COUNTY_NAME</th>\n",
       "      <th>STATE_COUNTY_FIPS_CODE</th>\n",
       "      <th>STATE_ABBR</th>\n",
       "      <th>ZIP_CODE</th>\n",
       "      <th>REGION</th>\n",
       "      <th>...</th>\n",
       "      <th>NAICS_CODES</th>\n",
       "      <th>INDUSTRY_CODE</th>\n",
       "      <th>SRS_ID</th>\n",
       "      <th>PFAS_IND</th>\n",
       "      <th>ENVIRONMENTAL_MEDIUM</th>\n",
       "      <th>RELEASE_RANGE_CODE</th>\n",
       "      <th>TOTAL_RELEASE</th>\n",
       "      <th>REL_EST_AMT</th>\n",
       "      <th>RELEASE_NA</th>\n",
       "      <th>RELEASE_BASIS_EST_CODE</th>\n",
       "    </tr>\n",
       "  </thead>\n",
       "  <tbody>\n",
       "    <tr>\n",
       "      <th>0</th>\n",
       "      <td>15025SSCLR400ST</td>\n",
       "      <td>1396100016272</td>\n",
       "      <td>USS-CLAIRTON PLANT</td>\n",
       "      <td>400 STATE ST MS 71</td>\n",
       "      <td>CLAIRTON</td>\n",
       "      <td>ALLEGHENY</td>\n",
       "      <td>42003</td>\n",
       "      <td>PA</td>\n",
       "      <td>15025</td>\n",
       "      <td>3</td>\n",
       "      <td>...</td>\n",
       "      <td>NaN</td>\n",
       "      <td>331</td>\n",
       "      <td>14183.0</td>\n",
       "      <td>0</td>\n",
       "      <td>AIR FUG</td>\n",
       "      <td>NaN</td>\n",
       "      <td>380.0</td>\n",
       "      <td>380.0</td>\n",
       "      <td>0</td>\n",
       "      <td>O</td>\n",
       "    </tr>\n",
       "    <tr>\n",
       "      <th>1</th>\n",
       "      <td>15025SSCLR400ST</td>\n",
       "      <td>1396100016272</td>\n",
       "      <td>USS-CLAIRTON PLANT</td>\n",
       "      <td>400 STATE ST MS 71</td>\n",
       "      <td>CLAIRTON</td>\n",
       "      <td>ALLEGHENY</td>\n",
       "      <td>42003</td>\n",
       "      <td>PA</td>\n",
       "      <td>15025</td>\n",
       "      <td>3</td>\n",
       "      <td>...</td>\n",
       "      <td>NaN</td>\n",
       "      <td>331</td>\n",
       "      <td>14183.0</td>\n",
       "      <td>0</td>\n",
       "      <td>AIR STACK</td>\n",
       "      <td>NaN</td>\n",
       "      <td>0.0</td>\n",
       "      <td>0.0</td>\n",
       "      <td>0</td>\n",
       "      <td>O</td>\n",
       "    </tr>\n",
       "    <tr>\n",
       "      <th>2</th>\n",
       "      <td>15106THHMM235HO</td>\n",
       "      <td>1387010137127</td>\n",
       "      <td>O HOMMEL CO</td>\n",
       "      <td>235 HOPE ST</td>\n",
       "      <td>CARNEGIE</td>\n",
       "      <td>ALLEGHENY</td>\n",
       "      <td>42003</td>\n",
       "      <td>PA</td>\n",
       "      <td>15106</td>\n",
       "      <td>3</td>\n",
       "      <td>...</td>\n",
       "      <td>NaN</td>\n",
       "      <td>325</td>\n",
       "      <td>149583.0</td>\n",
       "      <td>0</td>\n",
       "      <td>AIR FUG</td>\n",
       "      <td>NaN</td>\n",
       "      <td>NaN</td>\n",
       "      <td>0.0</td>\n",
       "      <td>0</td>\n",
       "      <td>O</td>\n",
       "    </tr>\n",
       "    <tr>\n",
       "      <th>3</th>\n",
       "      <td>15106THHMM235HO</td>\n",
       "      <td>1387010137127</td>\n",
       "      <td>O HOMMEL CO</td>\n",
       "      <td>235 HOPE ST</td>\n",
       "      <td>CARNEGIE</td>\n",
       "      <td>ALLEGHENY</td>\n",
       "      <td>42003</td>\n",
       "      <td>PA</td>\n",
       "      <td>15106</td>\n",
       "      <td>3</td>\n",
       "      <td>...</td>\n",
       "      <td>NaN</td>\n",
       "      <td>325</td>\n",
       "      <td>149583.0</td>\n",
       "      <td>0</td>\n",
       "      <td>AIR STACK</td>\n",
       "      <td>NaN</td>\n",
       "      <td>1784.0</td>\n",
       "      <td>1784.0</td>\n",
       "      <td>0</td>\n",
       "      <td>O</td>\n",
       "    </tr>\n",
       "    <tr>\n",
       "      <th>4</th>\n",
       "      <td>15025SSCLR400ST</td>\n",
       "      <td>1392065615205</td>\n",
       "      <td>USS-CLAIRTON PLANT</td>\n",
       "      <td>400 STATE ST MS 71</td>\n",
       "      <td>CLAIRTON</td>\n",
       "      <td>ALLEGHENY</td>\n",
       "      <td>42003</td>\n",
       "      <td>PA</td>\n",
       "      <td>15025</td>\n",
       "      <td>3</td>\n",
       "      <td>...</td>\n",
       "      <td>NaN</td>\n",
       "      <td>331</td>\n",
       "      <td>5090.0</td>\n",
       "      <td>0</td>\n",
       "      <td>AIR FUG</td>\n",
       "      <td>NaN</td>\n",
       "      <td>16000.0</td>\n",
       "      <td>16000.0</td>\n",
       "      <td>0</td>\n",
       "      <td>E</td>\n",
       "    </tr>\n",
       "  </tbody>\n",
       "</table>\n",
       "<p>5 rows × 38 columns</p>\n",
       "</div>"
      ],
      "text/plain": [
       "   TRI_FACILITY_ID   DOC_CTRL_NUM       FACILITY_NAME      STREET_ADDRESS  \\\n",
       "0  15025SSCLR400ST  1396100016272  USS-CLAIRTON PLANT  400 STATE ST MS 71   \n",
       "1  15025SSCLR400ST  1396100016272  USS-CLAIRTON PLANT  400 STATE ST MS 71   \n",
       "2  15106THHMM235HO  1387010137127         O HOMMEL CO         235 HOPE ST   \n",
       "3  15106THHMM235HO  1387010137127         O HOMMEL CO         235 HOPE ST   \n",
       "4  15025SSCLR400ST  1392065615205  USS-CLAIRTON PLANT  400 STATE ST MS 71   \n",
       "\n",
       "  CITY_NAME COUNTY_NAME  STATE_COUNTY_FIPS_CODE STATE_ABBR  ZIP_CODE  REGION  \\\n",
       "0  CLAIRTON   ALLEGHENY                   42003         PA     15025       3   \n",
       "1  CLAIRTON   ALLEGHENY                   42003         PA     15025       3   \n",
       "2  CARNEGIE   ALLEGHENY                   42003         PA     15106       3   \n",
       "3  CARNEGIE   ALLEGHENY                   42003         PA     15106       3   \n",
       "4  CLAIRTON   ALLEGHENY                   42003         PA     15025       3   \n",
       "\n",
       "   ...  NAICS_CODES INDUSTRY_CODE    SRS_ID PFAS_IND ENVIRONMENTAL_MEDIUM  \\\n",
       "0  ...          NaN           331   14183.0        0              AIR FUG   \n",
       "1  ...          NaN           331   14183.0        0            AIR STACK   \n",
       "2  ...          NaN           325  149583.0        0              AIR FUG   \n",
       "3  ...          NaN           325  149583.0        0            AIR STACK   \n",
       "4  ...          NaN           331    5090.0        0              AIR FUG   \n",
       "\n",
       "  RELEASE_RANGE_CODE  TOTAL_RELEASE  REL_EST_AMT  RELEASE_NA  \\\n",
       "0                NaN          380.0        380.0           0   \n",
       "1                NaN            0.0          0.0           0   \n",
       "2                NaN            NaN          0.0           0   \n",
       "3                NaN         1784.0       1784.0           0   \n",
       "4                NaN        16000.0      16000.0           0   \n",
       "\n",
       "  RELEASE_BASIS_EST_CODE  \n",
       "0                      O  \n",
       "1                      O  \n",
       "2                      O  \n",
       "3                      O  \n",
       "4                      E  \n",
       "\n",
       "[5 rows x 38 columns]"
      ]
     },
     "execution_count": 3,
     "metadata": {},
     "output_type": "execute_result"
    }
   ],
   "source": [
    "air.head()"
   ]
  },
  {
   "cell_type": "code",
   "execution_count": 4,
   "metadata": {},
   "outputs": [
    {
     "name": "stdout",
     "output_type": "stream",
     "text": [
      "136976755.5773927\n"
     ]
    }
   ],
   "source": [
    "a_release = air['TOTAL_RELEASE'].sum()\n",
    "print(a_release)"
   ]
  },
  {
   "cell_type": "code",
   "execution_count": 5,
   "metadata": {},
   "outputs": [
    {
     "data": {
      "text/plain": [
       "(25536, 38)"
      ]
     },
     "execution_count": 5,
     "metadata": {},
     "output_type": "execute_result"
    }
   ],
   "source": [
    "air.shape"
   ]
  },
  {
   "cell_type": "markdown",
   "metadata": {},
   "source": [
    "The total amount (in pounds) of the toxic chemical released to air, water, land, and underground injection wells during the calendar year (January 1 - December 31). This means that there are 136976755.5773927 lbs of toxic chemicals released into the air (so far)."
   ]
  },
  {
   "cell_type": "code",
   "execution_count": 6,
   "metadata": {},
   "outputs": [
    {
     "data": {
      "text/plain": [
       "array(['Biphenyl', 'Lead', 'Ethylene', 'Naphthalene', 'Methanol',\n",
       "       'Cresol (mixed isomers)', 'Ethyl acrylate', 'Toluene',\n",
       "       'Cyanide compounds', 'Acetone', 'p-Cresol', 'Anthracene',\n",
       "       'Barium compounds (except for barium sulfate (CAS No. 7727-43-7))',\n",
       "       'Acrylic acid', 'Titanium tetrachloride', '1,2,4-Trimethylbenzene',\n",
       "       'Phthalic anhydride', 'Maleic anhydride', 'Dibenzofuran',\n",
       "       'Sodium hydroxide (solution)',\n",
       "       'Nitrate compounds (water dissociable; reportable only when in aqueous solution)',\n",
       "       'Ethylene glycol', 'Xylene (mixed isomers)',\n",
       "       'Sulfuric acid (acid aerosols including mists, vapors, gas, fog, and other airborne forms of any particle size)',\n",
       "       'Phosphoric acid', 'Zinc compounds',\n",
       "       'Chromium compounds (except for chromite ore mined in the Transvaal Region)',\n",
       "       'Nickel compounds', 'Certain glycol ethers', 'n-Butyl alcohol',\n",
       "       'Butyl acrylate', 'p-Xylene', 'Ethylbenzene',\n",
       "       'Molybdenum trioxide', 'Copper compounds', 'Styrene',\n",
       "       'Di(2-ethylhexyl) phthalate', 'Copper', 'Benzoyl peroxide',\n",
       "       'Dibutyl phthalate', 'Arsenic compounds',\n",
       "       'Aluminum oxide (fibrous forms)', 'Zinc (fume or dust)',\n",
       "       '4,4&apos;-Methylenedi(phenyl isocyanate)', 'Hydrogen fluoride',\n",
       "       'Cumene', 'Tetrachloroethylene', '1,1,1-Trichloroethane',\n",
       "       'Ammonia', 'Lead compounds', 'Beryllium compounds',\n",
       "       'Dioxin and dioxin-like compounds', 'LEAD  and LEAD COMPOUNDS',\n",
       "       'Phenol', 'Vanadium compounds', 'Methyl ethyl ketone',\n",
       "       'Formaldehyde', 'Chromium', 'Nickel', 'sec-Butyl alcohol',\n",
       "       'Carbon disulfide', 'Diisocyanates',\n",
       "       'Polycyclic aromatic compounds', 'COPPER  and COPPER COMPOUNDS',\n",
       "       'Benzo[g,h,i]perylene', 'Creosote', 'Benzene',\n",
       "       'tert-Butyl alcohol', 'Cobalt', '4,4&apos;-Isopropylidenediphenol',\n",
       "       'Formic acid', 'Manganese compounds', 'Manganese', 'Phenanthrene',\n",
       "       'Nitric acid', 'Methyl isobutyl ketone', 'n-Hexane',\n",
       "       'Dicyclopentadiene', 'Dichloromethane',\n",
       "       'Hydrochloric acid (acid aerosols including mists, vapors, gas, fog, and other airborne forms of any particle size)',\n",
       "       'Aluminum (fume or dust)', 'Terephthalic acid', 'Chloromethane',\n",
       "       'Selenium', 'Cobalt compounds', 'Cyclohexanol',\n",
       "       'Methyl methacrylate', 'Antimony', 'SILVER and SILVER COMPOUNDS',\n",
       "       'Quinoline', 'N-Methyl-2-pyrrolidone',\n",
       "       'Sodium dimethyldithiocarbamate', 'Methyl tert-butyl ether',\n",
       "       '2,4-Dimethylphenol', 'Pyridine', 'Mercury', 'Sodium nitrite',\n",
       "       'Mercury compounds', 'Antimony compounds', 'Chlorine',\n",
       "       '2,4-Dinitrophenol', 'N,N-Dimethylaniline', 'Propylene',\n",
       "       'Ethylene oxide', '1,1,2,2-Tetrachloroethane', 'Isoprene',\n",
       "       'Mixture', 'Cyclohexane', 'Nitrobenzene', 'Tetrabromobisphenol A',\n",
       "       'Toluene-2,4-diisocyanate', 'Dichlorodifluoromethane (CFC-12)',\n",
       "       '2-Ethoxyethanol', 'Dimethyl phthalate', 'o-Xylene', 'Chloroform',\n",
       "       'Benzoyl chloride', 'Hydrogen cyanide',\n",
       "       'CHROMIUM COMPOUNDS(EXCEPT CHROMITE ORE MINED IN THE TRANSVAAL REGION)',\n",
       "       'm-Xylene', '2-Methylpyridine', 'm-Cresol',\n",
       "       'MANGANESE  and MANGANESE COMPOUNDS', 'Boron trifluoride',\n",
       "       'Butyl benzyl phthalate', 'Ammonium sulfate (solution)',\n",
       "       'N,N-Dimethylformamide', 'Triethylamine', '1,1,2-Trichloroethane',\n",
       "       'o-Cresol', 'Epichlorohydrin', 'Acetonitrile', 'Propargyl alcohol',\n",
       "       'Cadmium compounds', 'Hydrogen sulfide',\n",
       "       'NICKEL  and NICKEL COMPOUNDS', 'Lithium carbonate',\n",
       "       'Bis(2-ethylhexyl) adipate', 'Allyl alcohol',\n",
       "       'Toluene-2,6-diisocyanate', 'Benzyl chloride',\n",
       "       'Freon 113 (CFC-113)',\n",
       "       'Isopropyl alcohol (only persons who manufacture by the strong acid process are subject, no supplier notification)',\n",
       "       'Trichloroethylene', 'Silver', 'Chlorobenzene',\n",
       "       'Asbestos (friable)', '1,4-Dichlorobenzene', '2,4-Dinitrotoluene',\n",
       "       'Toluene diisocyanate (mixed isomers)',\n",
       "       'MERCURY  and MERCURY COMPOUNDS', 'Diethanolamine',\n",
       "       'COBALT  and COBALT COMPOUNDS',\n",
       "       '2-Chloro-1,1,1,2-tetrafluoroethane (HCFC-124)', 'Diphenylamine',\n",
       "       'Acrylamide', 'Silver compounds', 'Barium', 'n-Dioctyl phthalate',\n",
       "       '2,6-Dinitrotoluene',\n",
       "       'Vanadium (except when contained in an alloy)',\n",
       "       'Hexachlorobenzene', 'Selenium compounds', 'Calcium cyanamide',\n",
       "       'Carbonyl sulfide', 'Bromomethane', 'Phosphorus (yellow or white)',\n",
       "       'Dazomet', 'Polychlorinated biphenyls',\n",
       "       '1-Bromo-1-(bromomethyl)-1,3-propanedicarbonitrile',\n",
       "       'Sodium sulfate (solution)', '1,2-Dichlorobenzene',\n",
       "       'Thiabendazole', '2-Phenylphenol', '2-Methoxyethanol'],\n",
       "      dtype=object)"
      ]
     },
     "execution_count": 6,
     "metadata": {},
     "output_type": "execute_result"
    }
   ],
   "source": [
    "air['CHEM_NAME'].unique()"
   ]
  },
  {
   "cell_type": "code",
   "execution_count": 7,
   "metadata": {},
   "outputs": [
    {
     "data": {
      "text/plain": [
       "175"
      ]
     },
     "execution_count": 7,
     "metadata": {},
     "output_type": "execute_result"
    }
   ],
   "source": [
    "len(air['CHEM_NAME'].unique())"
   ]
  },
  {
   "cell_type": "markdown",
   "metadata": {},
   "source": [
    "There are 175 different chemicals or chemical compounds being released into the air currently"
   ]
  },
  {
   "cell_type": "code",
   "execution_count": 9,
   "metadata": {},
   "outputs": [
    {
     "data": {
      "text/plain": [
       "array(['CLAIRTON', 'CARNEGIE', 'PITTSBURGH', 'SPRINGDALE', 'CHESWICK',\n",
       "       'BRADDOCK', 'GLENSHAW', 'BRIDGEVILLE', 'BAKERSTOWN',\n",
       "       'WEST MIFFLIN', 'WEST ELIZABETH', 'OAKMONT', 'BRACKENRIDGE',\n",
       "       'CREIGHTON', 'MUNHALL', 'LEETSDALE', 'SEWICKLEY', 'VERONA',\n",
       "       'HARWICK', 'MC KEES ROCKS', 'HOMESTEAD', 'WILMERDING',\n",
       "       'CORAOPOLIS', 'NATRONA HEIGHTS', 'MONROEVILLE', 'MC KEESPORT',\n",
       "       'GIBSONIA', 'BUNOLA', 'OAKDALE', 'CLINTON', 'JEFFERSON HILLS',\n",
       "       'MC DONALD', 'TURTLE CREEK', 'INDIANOLA', 'MCKEESPORT', 'DUQUESNE',\n",
       "       'NEVILLE ISLAND', 'SOUTH PARK', 'GLASSPORT', 'HEIDELBERG',\n",
       "       'RANKIN', 'SHARPSBURG', 'MCKEES ROCKS', 'EAST PITTSBURGH',\n",
       "       'LIBERTY BOROUGH', 'BLAWNOX', 'TARENTUM', 'DRAVOSBURG',\n",
       "       'MONONGAHELA'], dtype=object)"
      ]
     },
     "execution_count": 9,
     "metadata": {},
     "output_type": "execute_result"
    }
   ],
   "source": [
    "(air['CITY_NAME'].unique()"
   ]
  },
  {
   "cell_type": "code",
   "execution_count": null,
   "metadata": {},
   "outputs": [],
   "source": []
  }
 ],
 "metadata": {
  "kernelspec": {
   "display_name": "Python 3",
   "language": "python",
   "name": "python3"
  },
  "language_info": {
   "codemirror_mode": {
    "name": "ipython",
    "version": 3
   },
   "file_extension": ".py",
   "mimetype": "text/x-python",
   "name": "python",
   "nbconvert_exporter": "python",
   "pygments_lexer": "ipython3",
   "version": "3.8.3"
  }
 },
 "nbformat": 4,
 "nbformat_minor": 4
}
