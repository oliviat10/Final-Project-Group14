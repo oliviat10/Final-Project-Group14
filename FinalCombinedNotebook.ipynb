{
 "cells": [
  {
   "cell_type": "markdown",
   "metadata": {},
   "source": [
    "# <b> The Great Search for the Best Neighborhood in Pittsburgh </b>\n",
    "## (\"Best Neighborhood to Raise a Healthy/Comfortable Family\")\n",
    "\n",
    "\n",
    "### Group 14 (aka 'The KOMpilers')\n",
    "\n",
    "\n",
    "* Our group decided to determine \"the Best Neighborhood in Pittsburgh\" by evaluating the most important factors which make a neighborhood the best place to raise a healthy and comfortable family. \n",
    "* The metrics that we decided were critical to this evaluation were: \n",
    "    - Median age of death (lower median age = higher chance of loss of parents)\n",
    "    - Number of students in each neighborhood that are enrolled in Pittsburgh's public schools\n",
    "    - Levels of toxic chemicals in the air (since cities are already typically areas of such highly polluted air)\n",
    "    \n",
    "\n",
    "* We decided that the top contender in each category will receive 3 points, the runner up will receive 2 points, and the second runner-up will receive 1 point. We also concluded as a group that public school enrollment was the most important metric of the three (and it also has two subfactors), so its impact will have a weight of 1.5x. Median age at death and toxic chemical release will each be weighted at 1x. These weighted point values will be combined and summed for each neighborhood at the end of the analysis in order to determine the \"best\" overall neighborhood!"
   ]
  },
  {
   "cell_type": "markdown",
   "metadata": {},
   "source": [
    "## <b> Metric # 1: Allegheny County Median Age at Death (Kyle) </b>"
   ]
  },
  {
   "cell_type": "markdown",
   "metadata": {},
   "source": [
    "### <u> <b> Introduction: </b> </u>\n",
    "Using the dataset provided by the WPRDC, I decided to evaluate Pittsburgh's neighborhoods based on their median age of death from 2011-2015.\n",
    "\n",
    "In terms of our group metric, evaluating the best neighborhood based on suitability to raise a family, median age of death can show the neighborhoods that support longer lifespans. A nieghborhood with longer lifespans can be beneficial when raising a family, as it displays less of a risk of a member of the family dying. This obviously leads to happier, healthier families, as a family member dying could lead to decreased quality of life and even the splintering of a family."
   ]
  },
  {
   "cell_type": "markdown",
   "metadata": {},
   "source": [
    "I think it is important for me to clarify why the median age of death is better than the mean age of death in this evaluation. The median age of death is based on the age which is found in the center of the data when each value is organized from least to greatest. The mean would be the age found when all values are added and divided by the number of values. In a dataset in which the values can be more \"skewed\" and less evenly distributed, the median provides a more accurate representation of the central value because it is less affected by the outliers or the skew than the mean. Thus, since the age of deaths have a general skew towards older ages, it is better to use the median value to find a more accurate central value.\n",
    "\n",
    "Below are examples, using data that is not related to the median age of death in Pittsburgh neighborhoods, that show a normally distributed data set and a skewed data set, specifically a right-skewed data set. These are just to help display why the median might be a more accurate representation than the mean, as ages of death would most liekly have a left-skewed data, leaning towards older ages."
   ]
  },
  {
   "cell_type": "code",
   "execution_count": 2,
   "metadata": {},
   "outputs": [
    {
     "data": {
      "image/png": "[encoded data removed]",
      "text/plain": [
       "<IPython.core.display.Image object>"
      ]
     },
     "execution_count": 2,
     "metadata": {},
     "output_type": "execute_result"
    }
   ],
   "source": [
    "from IPython import display\n",
    "display.Image(\"./normalData.png\")"
   ]
  },
  {
   "cell_type": "code",
   "execution_count": 3,
   "metadata": {},
   "outputs": [
    {
     "data": {
      "image/png": "[encoded data removed]",
      "text/plain": [
       "<IPython.core.display.Image object>"
      ]
     },
     "execution_count": 3,
     "metadata": {},
     "output_type": "execute_result"
    }
   ],
   "source": [
    "display.Image(\"./skeweData.png\")"
   ]
  },
  {
   "cell_type": "markdown",
   "metadata": {},
   "source": [
    "Image Credits: https://statistics.laerd.com/statistical-guides/measures-central-tendency-mean-mode-median.php\n",
    "* As a note, South Shore, a neighborhood with a population of about 20, had 0 reported deaths in the data from 2011-2015, so I decided to exclude it from the following evaluation. Chateu was also excluded, as the WPRDC data set had no value for total median age of death.*"
   ]
  },
  {
   "cell_type": "markdown",
   "metadata": {},
   "source": [
    "### _Data and Analysis_:\n",
    "\n",
    "First, we import pandas as pd.\n",
    "\n",
    "That allows us to read in the dataset from WPRDC, saved locally and uploaded to JupyterLab.\n",
    "\n",
    "We remove the columns separating deaths by race, as only total neighboorhood deaths will be considered, as we believe it gives a more comprehensive representation of the neighborhood and many neighborhoods were missing data for these columns.\n",
    "\n",
    "*Reminder: Deaths are based on the deceased's neighborhood of residence, not the neighborhood in which the death occurred.*\n",
    "\n",
    "Finally, we remove the row that contains South Shore's data, as explained above in the introduction."
   ]
  },
  {
   "cell_type": "code",
   "execution_count": 3,
   "metadata": {},
   "outputs": [],
   "source": [
    "import pandas as pd\n",
    "\n",
    "data = pd.read_csv(\"medianAgeAtDeath.csv\")\n",
    "dfInitial = data.drop(columns = ['BLACKdeaths','Black MD AGE AT DEATH','WHITEdeaths','White MD AGE AT DEATH'])\n",
    "df = dfInitial.iloc[2:90]"
   ]
  },
  {
   "cell_type": "markdown",
   "metadata": {},
   "source": [
    "Now that we have the final edited dataset, we can begin our analysis."
   ]
  },
  {
   "cell_type": "markdown",
   "metadata": {},
   "source": [
    "**Bottom 5 Neighborhoods Organized by Median Age at Death**\n",
    "\n",
    "- We can find the bottom five neighborhoods using the ascending sort method."
   ]
  },
  {
   "cell_type": "code",
   "execution_count": 15,
   "metadata": {},
   "outputs": [
    {
     "data": {
      "text/html": [
       "<div>\n",
       "<style scoped>\n",
       "    .dataframe tbody tr th:only-of-type {\n",
       "        vertical-align: middle;\n",
       "    }\n",
       "\n",
       "    .dataframe tbody tr th {\n",
       "        vertical-align: top;\n",
       "    }\n",
       "\n",
       "    .dataframe thead th {\n",
       "        text-align: right;\n",
       "    }\n",
       "</style>\n",
       "<table border=\"1\" class=\"dataframe\">\n",
       "  <thead>\n",
       "    <tr style=\"text-align: right;\">\n",
       "      <th></th>\n",
       "      <th>NEIGHBORHOOD</th>\n",
       "      <th>TOTALdeaths*</th>\n",
       "      <th>TOTAL MD AGE AT DEATH</th>\n",
       "    </tr>\n",
       "  </thead>\n",
       "  <tbody>\n",
       "    <tr>\n",
       "      <th>9</th>\n",
       "      <td>FAIRYWOOD</td>\n",
       "      <td>21.0</td>\n",
       "      <td>53.3</td>\n",
       "    </tr>\n",
       "    <tr>\n",
       "      <th>7</th>\n",
       "      <td>ARLINGTON HEIGHTS</td>\n",
       "      <td>17.0</td>\n",
       "      <td>63.7</td>\n",
       "    </tr>\n",
       "    <tr>\n",
       "      <th>3</th>\n",
       "      <td>ALLEGHENY WEST</td>\n",
       "      <td>8.0</td>\n",
       "      <td>65.0</td>\n",
       "    </tr>\n",
       "    <tr>\n",
       "      <th>49</th>\n",
       "      <td>EAST ALLEGHENY</td>\n",
       "      <td>157.0</td>\n",
       "      <td>66.2</td>\n",
       "    </tr>\n",
       "    <tr>\n",
       "      <th>42</th>\n",
       "      <td>ALLENTOWN</td>\n",
       "      <td>126.0</td>\n",
       "      <td>66.5</td>\n",
       "    </tr>\n",
       "  </tbody>\n",
       "</table>\n",
       "</div>"
      ],
      "text/plain": [
       "         NEIGHBORHOOD  TOTALdeaths*  TOTAL MD AGE AT DEATH\n",
       "9           FAIRYWOOD          21.0                   53.3\n",
       "7   ARLINGTON HEIGHTS          17.0                   63.7\n",
       "3      ALLEGHENY WEST           8.0                   65.0\n",
       "49     EAST ALLEGHENY         157.0                   66.2\n",
       "42          ALLENTOWN         126.0                   66.5"
      ]
     },
     "execution_count": 15,
     "metadata": {},
     "output_type": "execute_result"
    }
   ],
   "source": [
    "df.sort_values(by=['TOTAL MD AGE AT DEATH'], ascending=True).head(5)"
   ]
  },
  {
   "cell_type": "markdown",
   "metadata": {},
   "source": [
    "**Top 5 Neighborhoods Organized by Median Age at Death**\n",
    "\n",
    "- We can find the top five neighborhoods by using the descending sort method. "
   ]
  },
  {
   "cell_type": "code",
   "execution_count": 6,
   "metadata": {},
   "outputs": [
    {
     "data": {
      "text/html": [
       "<div>\n",
       "<style scoped>\n",
       "    .dataframe tbody tr th:only-of-type {\n",
       "        vertical-align: middle;\n",
       "    }\n",
       "\n",
       "    .dataframe tbody tr th {\n",
       "        vertical-align: top;\n",
       "    }\n",
       "\n",
       "    .dataframe thead th {\n",
       "        text-align: right;\n",
       "    }\n",
       "</style>\n",
       "<table border=\"1\" class=\"dataframe\">\n",
       "  <thead>\n",
       "    <tr style=\"text-align: right;\">\n",
       "      <th></th>\n",
       "      <th>NEIGHBORHOOD</th>\n",
       "      <th>TOTALdeaths*</th>\n",
       "      <th>TOTAL MD AGE AT DEATH</th>\n",
       "    </tr>\n",
       "  </thead>\n",
       "  <tbody>\n",
       "    <tr>\n",
       "      <th>89</th>\n",
       "      <td>SQUIRREL HILL SOUTH</td>\n",
       "      <td>802.0</td>\n",
       "      <td>85.9</td>\n",
       "    </tr>\n",
       "    <tr>\n",
       "      <th>76</th>\n",
       "      <td>NORTH OAKLAND</td>\n",
       "      <td>279.0</td>\n",
       "      <td>85.6</td>\n",
       "    </tr>\n",
       "    <tr>\n",
       "      <th>71</th>\n",
       "      <td>BANKSVILLE</td>\n",
       "      <td>253.0</td>\n",
       "      <td>85.5</td>\n",
       "    </tr>\n",
       "    <tr>\n",
       "      <th>53</th>\n",
       "      <td>POINT BREEZE</td>\n",
       "      <td>175.0</td>\n",
       "      <td>85.1</td>\n",
       "    </tr>\n",
       "    <tr>\n",
       "      <th>68</th>\n",
       "      <td>SQUIRREL HILL NORTH</td>\n",
       "      <td>242.0</td>\n",
       "      <td>85.0</td>\n",
       "    </tr>\n",
       "  </tbody>\n",
       "</table>\n",
       "</div>"
      ],
      "text/plain": [
       "           NEIGHBORHOOD  TOTALdeaths*  TOTAL MD AGE AT DEATH\n",
       "89  SQUIRREL HILL SOUTH         802.0                   85.9\n",
       "76        NORTH OAKLAND         279.0                   85.6\n",
       "71           BANKSVILLE         253.0                   85.5\n",
       "53         POINT BREEZE         175.0                   85.1\n",
       "68  SQUIRREL HILL NORTH         242.0                   85.0"
      ]
     },
     "execution_count": 6,
     "metadata": {},
     "output_type": "execute_result"
    }
   ],
   "source": [
    "df.sort_values(by=['TOTAL MD AGE AT DEATH'], ascending=False).head(5)"
   ]
  },
  {
   "cell_type": "markdown",
   "metadata": {},
   "source": [
    "And here is the entire list from oldest median age of death to youngest in text format."
   ]
  },
  {
   "cell_type": "code",
   "execution_count": 32,
   "metadata": {},
   "outputs": [
    {
     "name": "stdout",
     "output_type": "stream",
     "text": [
      "                 NEIGHBORHOOD  TOTALdeaths*  TOTAL MD AGE AT DEATH\n",
      "89        SQUIRREL HILL SOUTH         802.0                   85.9\n",
      "76              NORTH OAKLAND         279.0                   85.6\n",
      "71                 BANKSVILLE         253.0                   85.5\n",
      "53               POINT BREEZE         175.0                   85.1\n",
      "68        SQUIRREL HILL NORTH         242.0                   85.0\n",
      "20            CENTRAL OAKLAND          52.0                   84.0\n",
      "28              NEW HOMESTEAD          71.0                   83.4\n",
      "27             SWISSHELM PARK          67.0                   83.1\n",
      "77                  OVERBROOK         289.0                   82.2\n",
      "83                  SHADYSIDE         406.0                   82.1\n",
      "18           ALLEGHENY CENTER          46.0                   81.7\n",
      "60                 UPPER HILL         191.0                   81.7\n",
      "79      CENTRAL LAWRENCEVILLE         358.0                   81.3\n",
      "75            STANTON HEIGHTS         278.0                   80.5\n",
      "25              HOMEWOOD WEST          66.0                   80.3\n",
      "2                 NORTH SHORE           5.0                   80.0\n",
      "12              EAST CARNEGIE          27.0                   80.0\n",
      "43                 GLEN HAZEL         131.0                   79.8\n",
      "66              LINCOLN PLACE         217.0                   79.8\n",
      "33               WEST OAKLAND          93.0                   79.5\n",
      "21                  RIDGEMONT          52.0                   79.3\n",
      "65              HIGHLAND PARK         213.0                   79.2\n",
      "45           DUQUESNE HEIGHTS         134.0                   79.2\n",
      "78                 GREENFIELD         337.0                   79.2\n",
      "84                  BEECHVIEW         434.0                   78.9\n",
      "86           BRIGHTON HEIGHTS         496.0                   78.9\n",
      "29                    OAKWOOD          82.0                   78.8\n",
      "81   LINCOLN-LEMINGTON-BELMAR         389.0                   78.8\n",
      "19                    BON AIR          51.0                   78.5\n",
      "74            SOUTHSIDE FLATS         277.0                   78.4\n",
      "24                SUMMER HILL          64.0                   78.3\n",
      "10                       HAYS          24.0                   78.3\n",
      "82                 BLOOMFIELD         394.0                   78.2\n",
      "59       SPRING HILL-CITYVIEW         189.0                   77.8\n",
      "50                MORNINGSIDE         161.0                   77.8\n",
      "88                  BROOKLINE         750.0                   77.8\n",
      "5                    WEST END          14.0                   77.5\n",
      "37                    WINDGAP         104.0                   77.5\n",
      "67           SOUTHSIDE SLOPES         220.0                   77.2\n",
      "36              SOUTH OAKLAND         103.0                   77.1\n",
      "51                   WESTWOOD         173.0                   77.0\n",
      "15             CHARTIERS CITY          35.0                   76.9\n",
      "13              REGENT SQUARE          28.0                   76.7\n",
      "41                BELTZHOOVER         125.0                   76.6\n",
      "63             HOMEWOOD SOUTH         204.0                   76.5\n",
      "72                PERRY SOUTH         259.0                   76.4\n",
      "85           MOUNT WASHINGTON         476.0                   76.3\n",
      "87                    CARRICK         678.0                   75.9\n",
      "52                    LARIMER         174.0                   75.3\n",
      "56             HOMEWOOD NORTH         185.0                   75.1\n",
      "11  MOUNT OLIVER NEIGHBORHOOD          26.0                   75.0\n",
      "62           CRAWFORD ROBERTS         202.0                   74.8\n",
      "64                PERRY NORTH         205.0                   74.6\n",
      "44  CENTRAL BUSINESS DISTRICT         133.0                   73.9\n",
      "46        LOWER LAWRENCEVILLE         138.0                   73.9\n",
      "39        UPPER LAWRENCEVILLE         119.0                   73.7\n",
      "34                  ARLINGTON          96.0                   73.7\n",
      "57            CRAFTON HEIGHTS         187.0                   73.5\n",
      "61                   GARFIELD         198.0                   73.5\n",
      "31         POINT BREEZE NORTH          87.0                   73.2\n",
      "80               EAST LIBERTY         364.0                   73.0\n",
      "8              STRIP DISTRICT          19.0                   72.5\n",
      "55                MIDDLE HILL         183.0                   72.4\n",
      "30                POLISH HILL          85.0                   72.2\n",
      "73                  HAZELWOOD         261.0                   72.2\n",
      "40                    ELLIOTT         121.0                   72.0\n",
      "69                   SHERADEN         248.0                   72.0\n",
      "26              SPRING GARDEN          67.0                   71.8\n",
      "58                  KNOXVILLE         188.0                   71.7\n",
      "6                      ESPLEN          16.0                   71.7\n",
      "47          CENTRAL NORTHSIDE         147.0                   71.7\n",
      "32          BEDFORD DWELLINGS          88.0                   71.4\n",
      "35            TERRACE VILLAGE          99.0                   71.2\n",
      "16                 FRIENDSHIP          41.0                   71.1\n",
      "54                 EAST HILLS         177.0                   70.9\n",
      "23                   FINEVIEW          58.0                   70.8\n",
      "48    TROY HILL/HERR'S ISLAND         151.0                   70.3\n",
      "70         MARSHALL-SHADELAND         252.0                   70.0\n",
      "17                      BLUFF          42.0                   70.0\n",
      "14       CALIFORNIA-KIRKBRIDE          30.0                   69.3\n",
      "22          NORTHVIEW HEIGHTS          54.0                   68.0\n",
      "4                 SAINT CLAIR          10.0                   67.5\n",
      "38                 MANCHESTER         113.0                   67.4\n",
      "42                  ALLENTOWN         126.0                   66.5\n",
      "49             EAST ALLEGHENY         157.0                   66.2\n",
      "3              ALLEGHENY WEST           8.0                   65.0\n",
      "7           ARLINGTON HEIGHTS          17.0                   63.7\n",
      "9                   FAIRYWOOD          21.0                   53.3\n"
     ]
    }
   ],
   "source": [
    "pd.set_option(\"display.max_rows\", None, \"display.max_columns\", None)\n",
    "print(df.sort_values(by=[\"TOTAL MD AGE AT DEATH\"], ascending = False))"
   ]
  },
  {
   "cell_type": "markdown",
   "metadata": {},
   "source": [
    "Now, for visualization purposes, we can add a bar graph that displays the Pittsburgh neighborhoods' median ages of death."
   ]
  },
  {
   "cell_type": "code",
   "execution_count": 7,
   "metadata": {},
   "outputs": [
    {
     "data": {
      "text/plain": [
       "<matplotlib.axes._subplots.AxesSubplot at 0x7f3ab9d2ec40>"
      ]
     },
     "execution_count": 7,
     "metadata": {},
     "output_type": "execute_result"
    },
    {
     "data": {
      "image/png": "[encoded data removed]",
      "text/plain": [
       "<Figure size 432x288 with 1 Axes>"
      ]
     },
     "metadata": {
      "needs_background": "light"
     },
     "output_type": "display_data"
    }
   ],
   "source": [
    "df.plot.bar(x='NEIGHBORHOOD', y = 'TOTAL MD AGE AT DEATH', rot = 1)"
   ]
  },
  {
   "cell_type": "markdown",
   "metadata": {},
   "source": [
    "Obviously, this graph is extremely hard to read, with the neighborhood labels way too cluttered to read. It does give us a good view of the overall outline and distribution of Pittsburgh neighborhoods' median ages of death, but without the labels, we cannot tell which is which.\n",
    "\n",
    "Let's make the graph bigger and sort it in ascending order of median age of death, which will help us to better understand the data."
   ]
  },
  {
   "cell_type": "code",
   "execution_count": 8,
   "metadata": {},
   "outputs": [
    {
     "data": {
      "text/plain": [
       "<matplotlib.axes._subplots.AxesSubplot at 0x7f3ab6181fa0>"
      ]
     },
     "execution_count": 8,
     "metadata": {},
     "output_type": "execute_result"
    },
    {
     "data": {
      "image/png": "[encoded data removed]",
      "text/plain": [
       "<Figure size 1440x720 with 1 Axes>"
      ]
     },
     "metadata": {
      "needs_background": "light"
     },
     "output_type": "display_data"
    }
   ],
   "source": [
    "dfGraph = df.sort_values(by=['TOTAL MD AGE AT DEATH'], ascending=True)\n",
    "dfGraph.plot.bar(x = \"NEIGHBORHOOD\", y = \"TOTAL MD AGE AT DEATH\",figsize=(20,10), legend=None)"
   ]
  },
  {
   "cell_type": "markdown",
   "metadata": {},
   "source": [
    "Now, we have a useful, readable representation of Pittsburgh neighborhoods with which we can make our conclusions about the best neighborhood in Pittsburgh based on median age of death."
   ]
  },
  {
   "cell_type": "markdown",
   "metadata": {},
   "source": [
    "### <u> <b> Kyle's Conclusion: </b> </u>\n",
    "We can conclude that Squirrel Hill South is the best neighborhood in Pittsburgh, in terms of the median age of death metric. Here, you are more likely to live a longer life, which we can assume means there is a better quality of life in this neighborhood that allows for a longer lifespan.\n",
    "\n",
    "North Oakland, Banksville, Point Breeze, and Squirrel Hill North are all close seconds within 1 year of Squirrel Hill South, and therefore should also be noted as top neighborhoods.\n",
    "\n",
    "As an extra observation, Fairywood is considerably the worst neighborhood, as they have a median age of death of 53.3 years, 10.4 years worse than the next neighborhood, Arlington Heights. Allegheny West, East Allegheny, and Allentown round out the bottom five Pittsburgh neighborhoods.\n",
    "\n",
    "\n",
    "\n",
    "Being from Dallas, I cannot testify much on my personal experiences to Pittsburgh neighborhoods, but so far, my favorite neighborhoods have been Central Oakland and Shadyside, which are really the only ones I have in depth experience with. Central Oakland is sixth best by median age of death and Shadyside is 10th, so both neighborhoods have desirable qualities of life, based on my metric. In a purely data-based observation, Squirrel Hill South takes the crown for the best Pittsburgh neighborhood by median age of death."
   ]
  },
  {
   "cell_type": "markdown",
   "metadata": {},
   "source": [
    "### _Updated Scoring_:\n",
    "- Banksville (+1) = <b> 1 </b>\n",
    "- North Oakland (+2) = <b> 2 </b>\n",
    "- Squirrel Hill South (+3) = <b> 3 </b>"
   ]
  },
  {
   "cell_type": "code",
   "execution_count": 9,
   "metadata": {},
   "outputs": [
    {
     "data": {
      "text/html": [
       "<div>\n",
       "<style scoped>\n",
       "    .dataframe tbody tr th:only-of-type {\n",
       "        vertical-align: middle;\n",
       "    }\n",
       "\n",
       "    .dataframe tbody tr th {\n",
       "        vertical-align: top;\n",
       "    }\n",
       "\n",
       "    .dataframe thead th {\n",
       "        text-align: right;\n",
       "    }\n",
       "</style>\n",
       "<table border=\"1\" class=\"dataframe\">\n",
       "  <thead>\n",
       "    <tr style=\"text-align: right;\">\n",
       "      <th></th>\n",
       "      <th>Points</th>\n",
       "    </tr>\n",
       "  </thead>\n",
       "  <tbody>\n",
       "    <tr>\n",
       "      <th>Squirrel Hill South</th>\n",
       "      <td>3</td>\n",
       "    </tr>\n",
       "    <tr>\n",
       "      <th>North Oakland</th>\n",
       "      <td>2</td>\n",
       "    </tr>\n",
       "    <tr>\n",
       "      <th>Banksville</th>\n",
       "      <td>1</td>\n",
       "    </tr>\n",
       "  </tbody>\n",
       "</table>\n",
       "</div>"
      ],
      "text/plain": [
       "                     Points\n",
       "Squirrel Hill South       3\n",
       "North Oakland             2\n",
       "Banksville                1"
      ]
     },
     "execution_count": 9,
     "metadata": {},
     "output_type": "execute_result"
    }
   ],
   "source": [
    "#Create a new data frame to keep track of the accumulated points per neighborhood\n",
    "scores= pd.DataFrame(\n",
    "            {\"Points\": [1, 2, 3]},\n",
    "    index= [\"Banksville\", \"North Oakland\", \"Squirrel Hill South\"])\n",
    "\n",
    "#Rank the neighborhoods from highest to lowest point values\n",
    "scores.sort_values('Points', ascending=False)"
   ]
  },
  {
   "cell_type": "markdown",
   "metadata": {},
   "source": [
    "## <b> Metric # 2: Pittsburgh Public Schools Enrollment by Neighborhood 2020-21 School Year (Olivia) </b>"
   ]
  },
  {
   "cell_type": "markdown",
   "metadata": {},
   "source": [
    "### <u> <b> Introduction:</b> </u>\n",
    "* I chose to evaluate quantity and diversity in regards to student enrollment in Pittsburgh's public schools, by neighborhood. It would be critical for building a sense of community and youthfulness that there exists a large population of other K-12 students in the neighborhood where a family is placing its roots. Additionally, a diverse school environment will help to not only provide a greater cultural awareness and understanding for the family's children, promoting empathy and reducing prejudice, but it will also create a sense of comfort and culture for students existing within each ethnicity group. \n",
    "    - The quantity factor will be assessed by combining the categorizations by grade level for each neighborhood and finding which neighborhood has the greatest total number of students enrolled.\n",
    "    - The diversity factor will be assessed conjunctively by creating pie charts which serve to show the percentage breakdown of ethnicity groups within each neighborhood, and also by utilizing a minor point system to rank the degree of diversity in the neighborhoods found to be most relevant to the metric.\n",
    "    - The point values will be divided in half in order to account fairly for both factors without further interrupting the degree of impact imposed upon the other metrics."
   ]
  },
  {
   "cell_type": "markdown",
   "metadata": {},
   "source": [
    "### <u> Total Enrollment Evaluation <u>"
   ]
  },
  {
   "cell_type": "code",
   "execution_count": 10,
   "metadata": {},
   "outputs": [
    {
     "name": "stdout",
     "output_type": "stream",
     "text": [
      "                     total_students_enrolled\n",
      "neighborhood                                \n",
      "Carrick                               1276.0\n",
      "Brookline                             1169.0\n",
      "Beechview                              794.0\n",
      "Sheraden                               694.0\n",
      "Squirrel Hill South                    679.0\n",
      "Knoxville                              616.0\n",
      "Brighton Heights                       598.0\n",
      "Homewood North                         589.0\n",
      "East Hills                             569.0\n",
      "Hazelwood                              567.0\n"
     ]
    }
   ],
   "source": [
    "#Read in the student enrollment data\n",
    "school= pd.read_csv(\"enrollment.csv\")\n",
    "\n",
    "#Drop ethnicity-based data columns to focus on total student enrollment\n",
    "student_enrollment = school.drop(columns=['african_american','american_indian','asian__not_pacific_islander', \n",
    "                    'hispanic','multiracial','native_hawaiian_or_other_pacific_islander', 'white'])\n",
    "\n",
    "\n",
    "#Group rows of data pertaining to the same neighborhood together and sum their student enrollment totals\n",
    "total_student_enrollment=student_enrollment.groupby(student_enrollment['neighborhood']).aggregate({'total_students_enrolled': 'sum'})\n",
    "\n",
    "#Sort student enrollment totals by neighborhood from high to low\n",
    "student_enrollment_rankings=total_student_enrollment.sort_values('total_students_enrolled', ascending=False)\n",
    "print(student_enrollment_rankings.head(10))"
   ]
  },
  {
   "cell_type": "markdown",
   "metadata": {},
   "source": [
    "Ranked above are the top ten neighborhoods in terms of total student enrollment. I am choosing to proceed with evaluating only these neighborhoods in the second half of my evaluation (diversity) to ensure that the winning neighborhood within my metric is well-rounded in both aspects."
   ]
  },
  {
   "cell_type": "code",
   "execution_count": 11,
   "metadata": {},
   "outputs": [
    {
     "data": {
      "text/plain": [
       "<matplotlib.axes._subplots.AxesSubplot at 0x7f3ab5beafd0>"
      ]
     },
     "execution_count": 11,
     "metadata": {},
     "output_type": "execute_result"
    },
    {
     "data": {
      "image/png": "[encoded data removed]",
      "text/plain": [
       "<Figure size 432x288 with 1 Axes>"
      ]
     },
     "metadata": {
      "needs_background": "light"
     },
     "output_type": "display_data"
    }
   ],
   "source": [
    "#Create bar graph of student enrollment by neighborhood\n",
    "student_enrollment_rankings.plot.bar(x=None,y='total_students_enrolled',rot=1)"
   ]
  },
  {
   "cell_type": "markdown",
   "metadata": {},
   "source": [
    "This representation is a bit ugly and cluttered due to the overlapping axis labels. Regardless, it works alongside the ordered dataframe to demonstrate that one neighborhood stands out above the rest.. Carrick has the  highest total number of students enrolled out of all the neighborhoods surveyed. It is closely followed by Brookline and Beechview. All of these neighborhoods are geographically located south of central Pittsburgh, across the Monongahela River."
   ]
  },
  {
   "cell_type": "code",
   "execution_count": 12,
   "metadata": {},
   "outputs": [
    {
     "data": {
      "text/plain": [
       "<matplotlib.axes._subplots.AxesSubplot at 0x7f3ab5f501f0>"
      ]
     },
     "execution_count": 12,
     "metadata": {},
     "output_type": "execute_result"
    },
    {
     "data": {
      "image/png": "[encoded data removed]",
      "text/plain": [
       "<Figure size 1296x720 with 1 Axes>"
      ]
     },
     "metadata": {
      "needs_background": "light"
     },
     "output_type": "display_data"
    }
   ],
   "source": [
    "#Create a new dataframe of just the top ten neighborhoods\n",
    "highest_student_enrollments= student_enrollment_rankings.head(10)\n",
    "\n",
    "#Display more narrowed-down bar graph of student enrollment by neighborhood\n",
    "highest_student_enrollments.plot.bar(figsize=(18,10), x=None, y='total_students_enrolled',rot=1, title=\"Total Students Enrolled in Pittsburgh Public Schools (K-12) vs. Pittsburgh Neighborhood\")"
   ]
  },
  {
   "cell_type": "markdown",
   "metadata": {},
   "source": [
    "The adapted bar graph is much more readable for the user. This plot continues to demonstrate that the Carrick neighborhood carries the highest public school student enrollment (K-12) in Pittsburgh. Carrick will receive 1.5 points, Brookline will receive 1 point, and Beechview will receive 0.5 points."
   ]
  },
  {
   "cell_type": "markdown",
   "metadata": {},
   "source": [
    "### _Updated Scoring_:\n",
    "\n",
    "- Banksville (+0) = <b> 1 </b>\n",
    "- Beechview (+0.5)= 0.5 * 1.5 = <b> 0.75 </b>\n",
    "- Brookline (+1) = 1 * 1.5 = <b> 1.5 </b>\n",
    "- Carrick (+1.5) = 1.5 * 1.5 = <b> 2.25 </b>\n",
    "- North Oakland (+0) = <b> 2 </b>\n",
    "- Squirrel Hill South (+0) = <b> 3 </b>"
   ]
  },
  {
   "cell_type": "code",
   "execution_count": 13,
   "metadata": {},
   "outputs": [
    {
     "data": {
      "text/html": [
       "<div>\n",
       "<style scoped>\n",
       "    .dataframe tbody tr th:only-of-type {\n",
       "        vertical-align: middle;\n",
       "    }\n",
       "\n",
       "    .dataframe tbody tr th {\n",
       "        vertical-align: top;\n",
       "    }\n",
       "\n",
       "    .dataframe thead th {\n",
       "        text-align: right;\n",
       "    }\n",
       "</style>\n",
       "<table border=\"1\" class=\"dataframe\">\n",
       "  <thead>\n",
       "    <tr style=\"text-align: right;\">\n",
       "      <th></th>\n",
       "      <th>Points</th>\n",
       "    </tr>\n",
       "  </thead>\n",
       "  <tbody>\n",
       "    <tr>\n",
       "      <th>Squirrel Hill South</th>\n",
       "      <td>3.00</td>\n",
       "    </tr>\n",
       "    <tr>\n",
       "      <th>Carrick</th>\n",
       "      <td>2.25</td>\n",
       "    </tr>\n",
       "    <tr>\n",
       "      <th>North Oakland</th>\n",
       "      <td>2.00</td>\n",
       "    </tr>\n",
       "    <tr>\n",
       "      <th>Brookline</th>\n",
       "      <td>1.50</td>\n",
       "    </tr>\n",
       "    <tr>\n",
       "      <th>Banksville</th>\n",
       "      <td>1.00</td>\n",
       "    </tr>\n",
       "    <tr>\n",
       "      <th>Beechview</th>\n",
       "      <td>0.75</td>\n",
       "    </tr>\n",
       "  </tbody>\n",
       "</table>\n",
       "</div>"
      ],
      "text/plain": [
       "                     Points\n",
       "Squirrel Hill South    3.00\n",
       "Carrick                2.25\n",
       "North Oakland          2.00\n",
       "Brookline              1.50\n",
       "Banksville             1.00\n",
       "Beechview              0.75"
      ]
     },
     "execution_count": 13,
     "metadata": {},
     "output_type": "execute_result"
    }
   ],
   "source": [
    "#Rewrite over the scores dataframe to redefine it including the newest neighborhoods on the scoreboard\n",
    "scores= pd.DataFrame(\n",
    "            {\"Points\": [1, 0.75, 1.5, 2.25, 2, 3]},\n",
    "    index= [\"Banksville\", \"Beechview\", \"Brookline\", \"Carrick\", \"North Oakland\", \"Squirrel Hill South\"])\n",
    "\n",
    "#Rank the neighborhoods from highest to lowest point value\n",
    "scores.sort_values('Points', ascending=False)"
   ]
  },
  {
   "cell_type": "markdown",
   "metadata": {},
   "source": [
    "### <u> Diversity Evaluation <u>"
   ]
  },
  {
   "cell_type": "markdown",
   "metadata": {},
   "source": [
    "The diversity of a neighborhood will be evaluated using the <b> Simpson's Diversity Index </b>, which is often used in measuring biodiversity.\n",
    "\n",
    "The index will utilize the following formula to generate values representative of the level of each neighborhood's diversification:\n",
    "\n",
    "### D = 1 - [ Σn(n-1) / N(N-1) ]\n",
    "\n",
    "Where:\n",
    "* D = Simpson's Diversity Index level\n",
    "* n = # of students per respective ethnicity per respective neighborhood \n",
    "* N = total # of students in respective neighborhood\n",
    "\n",
    "Values closer to 0 indicate a lesser degree of diversity within a neighborhood, whereas neighborhoods with values closer to 1 are more diverse."
   ]
  },
  {
   "cell_type": "code",
   "execution_count": 14,
   "metadata": {},
   "outputs": [
    {
     "data": {
      "text/html": [
       "<div>\n",
       "<style scoped>\n",
       "    .dataframe tbody tr th:only-of-type {\n",
       "        vertical-align: middle;\n",
       "    }\n",
       "\n",
       "    .dataframe tbody tr th {\n",
       "        vertical-align: top;\n",
       "    }\n",
       "\n",
       "    .dataframe thead th {\n",
       "        text-align: right;\n",
       "    }\n",
       "</style>\n",
       "<table border=\"1\" class=\"dataframe\">\n",
       "  <thead>\n",
       "    <tr style=\"text-align: right;\">\n",
       "      <th></th>\n",
       "      <th>total_students_enrolled</th>\n",
       "      <th>african_american</th>\n",
       "      <th>asian__not_pacific_islander</th>\n",
       "      <th>hispanic</th>\n",
       "      <th>multiracial</th>\n",
       "      <th>white</th>\n",
       "      <th>other/unknown</th>\n",
       "      <th>AA Value</th>\n",
       "      <th>ANPI Value</th>\n",
       "      <th>HIS Value</th>\n",
       "      <th>MULT Value</th>\n",
       "      <th>WHITE Value</th>\n",
       "      <th>Tot Enroll x (Tot Enroll-1)</th>\n",
       "      <th>Diversity Level</th>\n",
       "    </tr>\n",
       "    <tr>\n",
       "      <th>neighborhood</th>\n",
       "      <th></th>\n",
       "      <th></th>\n",
       "      <th></th>\n",
       "      <th></th>\n",
       "      <th></th>\n",
       "      <th></th>\n",
       "      <th></th>\n",
       "      <th></th>\n",
       "      <th></th>\n",
       "      <th></th>\n",
       "      <th></th>\n",
       "      <th></th>\n",
       "      <th></th>\n",
       "      <th></th>\n",
       "    </tr>\n",
       "  </thead>\n",
       "  <tbody>\n",
       "    <tr>\n",
       "      <th>Beechview</th>\n",
       "      <td>794.0</td>\n",
       "      <td>187.0</td>\n",
       "      <td>0.0</td>\n",
       "      <td>177.0</td>\n",
       "      <td>81.0</td>\n",
       "      <td>326.0</td>\n",
       "      <td>23.0</td>\n",
       "      <td>34782.0</td>\n",
       "      <td>-0.0</td>\n",
       "      <td>31152.0</td>\n",
       "      <td>6480.0</td>\n",
       "      <td>105950.0</td>\n",
       "      <td>629642.0</td>\n",
       "      <td>0.716722</td>\n",
       "    </tr>\n",
       "    <tr>\n",
       "      <th>Carrick</th>\n",
       "      <td>1276.0</td>\n",
       "      <td>362.0</td>\n",
       "      <td>157.0</td>\n",
       "      <td>37.0</td>\n",
       "      <td>156.0</td>\n",
       "      <td>546.0</td>\n",
       "      <td>18.0</td>\n",
       "      <td>130682.0</td>\n",
       "      <td>24492.0</td>\n",
       "      <td>1332.0</td>\n",
       "      <td>24180.0</td>\n",
       "      <td>297570.0</td>\n",
       "      <td>1626900.0</td>\n",
       "      <td>0.706032</td>\n",
       "    </tr>\n",
       "    <tr>\n",
       "      <th>Brighton Heights</th>\n",
       "      <td>598.0</td>\n",
       "      <td>314.0</td>\n",
       "      <td>0.0</td>\n",
       "      <td>0.0</td>\n",
       "      <td>65.0</td>\n",
       "      <td>185.0</td>\n",
       "      <td>34.0</td>\n",
       "      <td>98282.0</td>\n",
       "      <td>-0.0</td>\n",
       "      <td>-0.0</td>\n",
       "      <td>4160.0</td>\n",
       "      <td>34040.0</td>\n",
       "      <td>357006.0</td>\n",
       "      <td>0.617704</td>\n",
       "    </tr>\n",
       "    <tr>\n",
       "      <th>Knoxville</th>\n",
       "      <td>616.0</td>\n",
       "      <td>394.0</td>\n",
       "      <td>0.0</td>\n",
       "      <td>24.0</td>\n",
       "      <td>64.0</td>\n",
       "      <td>96.0</td>\n",
       "      <td>38.0</td>\n",
       "      <td>154842.0</td>\n",
       "      <td>-0.0</td>\n",
       "      <td>552.0</td>\n",
       "      <td>4032.0</td>\n",
       "      <td>9120.0</td>\n",
       "      <td>378840.0</td>\n",
       "      <td>0.555100</td>\n",
       "    </tr>\n",
       "    <tr>\n",
       "      <th>Brookline</th>\n",
       "      <td>1169.0</td>\n",
       "      <td>153.0</td>\n",
       "      <td>33.0</td>\n",
       "      <td>63.0</td>\n",
       "      <td>131.0</td>\n",
       "      <td>758.0</td>\n",
       "      <td>31.0</td>\n",
       "      <td>23256.0</td>\n",
       "      <td>1056.0</td>\n",
       "      <td>3906.0</td>\n",
       "      <td>17030.0</td>\n",
       "      <td>573806.0</td>\n",
       "      <td>1365392.0</td>\n",
       "      <td>0.546611</td>\n",
       "    </tr>\n",
       "    <tr>\n",
       "      <th>Squirrel Hill South</th>\n",
       "      <td>679.0</td>\n",
       "      <td>40.0</td>\n",
       "      <td>77.0</td>\n",
       "      <td>14.0</td>\n",
       "      <td>61.0</td>\n",
       "      <td>446.0</td>\n",
       "      <td>41.0</td>\n",
       "      <td>1560.0</td>\n",
       "      <td>5852.0</td>\n",
       "      <td>182.0</td>\n",
       "      <td>3660.0</td>\n",
       "      <td>198470.0</td>\n",
       "      <td>460362.0</td>\n",
       "      <td>0.544437</td>\n",
       "    </tr>\n",
       "    <tr>\n",
       "      <th>Hazelwood</th>\n",
       "      <td>567.0</td>\n",
       "      <td>390.0</td>\n",
       "      <td>0.0</td>\n",
       "      <td>0.0</td>\n",
       "      <td>23.0</td>\n",
       "      <td>120.0</td>\n",
       "      <td>34.0</td>\n",
       "      <td>151710.0</td>\n",
       "      <td>-0.0</td>\n",
       "      <td>-0.0</td>\n",
       "      <td>506.0</td>\n",
       "      <td>14280.0</td>\n",
       "      <td>320922.0</td>\n",
       "      <td>0.481195</td>\n",
       "    </tr>\n",
       "    <tr>\n",
       "      <th>Sheraden</th>\n",
       "      <td>694.0</td>\n",
       "      <td>490.0</td>\n",
       "      <td>0.0</td>\n",
       "      <td>0.0</td>\n",
       "      <td>89.0</td>\n",
       "      <td>75.0</td>\n",
       "      <td>40.0</td>\n",
       "      <td>239610.0</td>\n",
       "      <td>-0.0</td>\n",
       "      <td>-0.0</td>\n",
       "      <td>7832.0</td>\n",
       "      <td>5550.0</td>\n",
       "      <td>480942.0</td>\n",
       "      <td>0.473966</td>\n",
       "    </tr>\n",
       "    <tr>\n",
       "      <th>Homewood North</th>\n",
       "      <td>589.0</td>\n",
       "      <td>551.0</td>\n",
       "      <td>0.0</td>\n",
       "      <td>0.0</td>\n",
       "      <td>11.0</td>\n",
       "      <td>0.0</td>\n",
       "      <td>27.0</td>\n",
       "      <td>303050.0</td>\n",
       "      <td>-0.0</td>\n",
       "      <td>-0.0</td>\n",
       "      <td>110.0</td>\n",
       "      <td>-0.0</td>\n",
       "      <td>346332.0</td>\n",
       "      <td>0.124655</td>\n",
       "    </tr>\n",
       "    <tr>\n",
       "      <th>East Hills</th>\n",
       "      <td>569.0</td>\n",
       "      <td>533.0</td>\n",
       "      <td>0.0</td>\n",
       "      <td>0.0</td>\n",
       "      <td>14.0</td>\n",
       "      <td>0.0</td>\n",
       "      <td>22.0</td>\n",
       "      <td>283556.0</td>\n",
       "      <td>-0.0</td>\n",
       "      <td>-0.0</td>\n",
       "      <td>182.0</td>\n",
       "      <td>-0.0</td>\n",
       "      <td>323192.0</td>\n",
       "      <td>0.122076</td>\n",
       "    </tr>\n",
       "  </tbody>\n",
       "</table>\n",
       "</div>"
      ],
      "text/plain": [
       "                     total_students_enrolled  african_american  \\\n",
       "neighborhood                                                     \n",
       "Beechview                              794.0             187.0   \n",
       "Carrick                               1276.0             362.0   \n",
       "Brighton Heights                       598.0             314.0   \n",
       "Knoxville                              616.0             394.0   \n",
       "Brookline                             1169.0             153.0   \n",
       "Squirrel Hill South                    679.0              40.0   \n",
       "Hazelwood                              567.0             390.0   \n",
       "Sheraden                               694.0             490.0   \n",
       "Homewood North                         589.0             551.0   \n",
       "East Hills                             569.0             533.0   \n",
       "\n",
       "                     asian__not_pacific_islander  hispanic  multiracial  \\\n",
       "neighborhood                                                              \n",
       "Beechview                                    0.0     177.0         81.0   \n",
       "Carrick                                    157.0      37.0        156.0   \n",
       "Brighton Heights                             0.0       0.0         65.0   \n",
       "Knoxville                                    0.0      24.0         64.0   \n",
       "Brookline                                   33.0      63.0        131.0   \n",
       "Squirrel Hill South                         77.0      14.0         61.0   \n",
       "Hazelwood                                    0.0       0.0         23.0   \n",
       "Sheraden                                     0.0       0.0         89.0   \n",
       "Homewood North                               0.0       0.0         11.0   \n",
       "East Hills                                   0.0       0.0         14.0   \n",
       "\n",
       "                     white  other/unknown  AA Value  ANPI Value  HIS Value  \\\n",
       "neighborhood                                                                 \n",
       "Beechview            326.0           23.0   34782.0        -0.0    31152.0   \n",
       "Carrick              546.0           18.0  130682.0     24492.0     1332.0   \n",
       "Brighton Heights     185.0           34.0   98282.0        -0.0       -0.0   \n",
       "Knoxville             96.0           38.0  154842.0        -0.0      552.0   \n",
       "Brookline            758.0           31.0   23256.0      1056.0     3906.0   \n",
       "Squirrel Hill South  446.0           41.0    1560.0      5852.0      182.0   \n",
       "Hazelwood            120.0           34.0  151710.0        -0.0       -0.0   \n",
       "Sheraden              75.0           40.0  239610.0        -0.0       -0.0   \n",
       "Homewood North         0.0           27.0  303050.0        -0.0       -0.0   \n",
       "East Hills             0.0           22.0  283556.0        -0.0       -0.0   \n",
       "\n",
       "                     MULT Value  WHITE Value  Tot Enroll x (Tot Enroll-1)  \\\n",
       "neighborhood                                                                \n",
       "Beechview                6480.0     105950.0                     629642.0   \n",
       "Carrick                 24180.0     297570.0                    1626900.0   \n",
       "Brighton Heights         4160.0      34040.0                     357006.0   \n",
       "Knoxville                4032.0       9120.0                     378840.0   \n",
       "Brookline               17030.0     573806.0                    1365392.0   \n",
       "Squirrel Hill South      3660.0     198470.0                     460362.0   \n",
       "Hazelwood                 506.0      14280.0                     320922.0   \n",
       "Sheraden                 7832.0       5550.0                     480942.0   \n",
       "Homewood North            110.0         -0.0                     346332.0   \n",
       "East Hills                182.0         -0.0                     323192.0   \n",
       "\n",
       "                     Diversity Level  \n",
       "neighborhood                          \n",
       "Beechview                   0.716722  \n",
       "Carrick                     0.706032  \n",
       "Brighton Heights            0.617704  \n",
       "Knoxville                   0.555100  \n",
       "Brookline                   0.546611  \n",
       "Squirrel Hill South         0.544437  \n",
       "Hazelwood                   0.481195  \n",
       "Sheraden                    0.473966  \n",
       "Homewood North              0.124655  \n",
       "East Hills                  0.122076  "
      ]
     },
     "execution_count": 14,
     "metadata": {},
     "output_type": "execute_result"
    }
   ],
   "source": [
    "#Remove irrelevant columns (in regards to diversity)\n",
    "school_clean=school.drop(columns=['student_count_redactions','grade_level','attending_feeder','attending_nonfeeder','total_with_feeder_status','feeder_count_redactions','american_indian','native_hawaiian_or_other_pacific_islander'])\n",
    "\n",
    "\n",
    "#Group data from the same neighborhood together (disregard grade level distinctions)\n",
    "diversity_totals=school_clean.groupby(school_clean['neighborhood']).aggregate({'total_students_enrolled': 'sum','african_american':'sum','asian__not_pacific_islander':\n",
    "                                                                        'sum','hispanic':'sum','multiracial':'sum','white':'sum'}) \n",
    "\n",
    "#Create a new dataframe that represents the diversity data of the ten neighborhoods with top student enrollment totals\n",
    "diversity_totals_by_enrollment=diversity_totals.sort_values('total_students_enrolled', ascending=False)\n",
    "\n",
    "#Add a new \"other/unknown\" column for students whose ethnicities are unaccounted for\n",
    "diversity_totals_by_enrollment['other/unknown'] = 2*diversity_totals_by_enrollment['total_students_enrolled'] - diversity_totals_by_enrollment.sum(axis=1)\n",
    "diversity_totals_by_enrollment.head(10)\n",
    "\n",
    "#Create a new dataframe to index values meausuring degree of diversity by neighborhood \n",
    "diversity_index=diversity_totals_by_enrollment.copy()\n",
    "\n",
    "#Determine the product of (# students per ethnicity per neighborhood) * (# students per ethnicity per neighborhood-1)\n",
    "diversity_index['AA Value']= (diversity_index['african_american'] * (diversity_index['african_american']-1))\n",
    "diversity_index['ANPI Value']= (diversity_index['asian__not_pacific_islander'] * (diversity_index['asian__not_pacific_islander']-1)) \n",
    "diversity_index['HIS Value']= (diversity_index['hispanic'] * (diversity_index['hispanic']-1)) \n",
    "diversity_index['MULT Value']= (diversity_index['multiracial'] * (diversity_index['multiracial']-1)) \n",
    "diversity_index['WHITE Value']= (diversity_index['white'] * (diversity_index['white']-1)) \n",
    "\n",
    "\n",
    "#Determine the product of (total # students per neighborhood) * (total # students per neighborhood-1)\n",
    "diversity_index['Tot Enroll x (Tot Enroll-1)']= diversity_index['total_students_enrolled'] * (diversity_index['total_students_enrolled'] -1)\n",
    "\n",
    "\n",
    "#Use the Simpson's Diversity Index equation to create a column with each neighborhood's diversity level\n",
    "diversity_index['Diversity Level']= 1- (diversity_index.iloc[:,7:12].sum(axis=1) / diversity_index['Tot Enroll x (Tot Enroll-1)'])\n",
    "\n",
    "\n",
    "#Make a new dataframe that only includes only the ten neighborhoods from the total student enrollment analysis\n",
    "shrink=diversity_index.head(10)\n",
    "\n",
    "#Sort neighborhoods from highest to lowest diversity level\n",
    "shrink.sort_values('Diversity Level',ascending=False)"
   ]
  },
  {
   "cell_type": "markdown",
   "metadata": {},
   "source": [
    "## &emsp; &emsp; &emsp; &emsp; &emsp; &emsp; &emsp; &emsp; &emsp; &emsp; &emsp; &emsp; &emsp;  Diversity in Pittsburgh's Public Schools"
   ]
  },
  {
   "cell_type": "code",
   "execution_count": 31,
   "metadata": {},
   "outputs": [
    {
     "data": {
      "image/png": "[encoded data removed]",
      "text/plain": [
       "<Figure size 1800x1800 with 3 Axes>"
      ]
     },
     "metadata": {},
     "output_type": "display_data"
    },
    {
     "data": {
      "image/png": "[encoded data removed]",
      "text/plain": [
       "<Figure size 1800x1800 with 3 Axes>"
      ]
     },
     "metadata": {},
     "output_type": "display_data"
    },
    {
     "data": {
      "image/png": "[encoded data removed]",
      "text/plain": [
       "<Figure size 1800x1800 with 4 Axes>"
      ]
     },
     "metadata": {},
     "output_type": "display_data"
    }
   ],
   "source": [
    "#Create a new dataframe with swapped x and y axes in order to make pie chart formation easier\n",
    "diversity_pie_data=diversity_totals_by_enrollment.swapaxes(\"index\",\"columns\").iloc[1:,0:10]\n",
    "\n",
    "#Display pie charts of each neighborhood's diversity breakdown (organized in three rows)\n",
    "pies_row1 = diversity_pie_data.iloc[:,0:3].plot.pie(subplots=True, figsize=(25, 25),autopct=lambda p: '{:.1f}%'.format(round(p)) if p > 0 else '',labeldistance=None)\n",
    "pies_row2 = diversity_pie_data.iloc[:,3:6].plot.pie(subplots=True, figsize=(25, 25),autopct=lambda p: '{:.1f}%'.format(round(p)) if p > 0 else '',labeldistance=None)\n",
    "pies_row3 = diversity_pie_data.iloc[:,6:10].plot.pie(subplots=True, figsize=(25, 25),autopct=lambda p: '{:.1f}%'.format(round(p)) if p > 0 else '',labeldistance=None)\n"
   ]
  },
  {
   "cell_type": "markdown",
   "metadata": {},
   "source": [
    "Because Beechview had the greatest diversity level (~0.7167) according to Simpson's Diversity Index, it comes out as the most diverse neighborhood in Pittsburgh (under the constraint of also having a high total student enrollment). Carrick was close behind with a diversity level of ~0.7060 and Brighton Heights took third place with a level of ~0.6177. "
   ]
  },
  {
   "cell_type": "markdown",
   "metadata": {},
   "source": [
    "### <u> <b> Olivia's Conclusion: </b> </u>"
   ]
  },
  {
   "cell_type": "markdown",
   "metadata": {},
   "source": [
    "Since Carrick has the greatest total student enrollment and also gathered the second-most amount of points during the diversity evaluation, it seems to take the cake for being the best neighborhood to raise a healthy and comfortable family within the context of the metric. Carrick's respective pie chart shows that there is no ethnic supermajority in its student population (simply a plurality), demonstrating a significant degree of spread diversification. The chart also includes a pie slice from each one of the ethnicities surveyed, so the neighborhood does not lack total representation for any one group. \n",
    "\n",
    "Beechview was a very close runner-up with the third highest total student enrollment and the overall most diverse atmosphere. Raising children within a diverse environment is crucial because it allows for their exposure to a wide variety of different cultures and ethnicities. Experiences like this at a young age tend to help expand cultural consciousness, increase unity, and reduce negative racial/ethnic biases. \n",
    "\n",
    "In either of these neighborhoods, a family's children are bound to be surrounded by lots of other young students from all different backgrounds, which is very beneficial for building a strong sense of a youthful and diverse community."
   ]
  },
  {
   "cell_type": "markdown",
   "metadata": {},
   "source": [
    "### _Notable mentions_: \n",
    "* Beechview had the greatest Hispanic student population out of all the neighborhoods surveyed.\n",
    "* Carrick, Brookline, and Squirrel Hill South were the only neighborhoods of those surveyed which included members of every ethnicity group. \n",
    "* Although the greatest fraction of Carrick's and Beechview's student populations were white, the white population did not hold a supermajority over the other ethnicity groups.\n",
    "* The neighborhoods of Sheraden, Knoxville, Brighton Heights, Homewood North, East Hills, and Hazelwood all showed majority African-American student populations."
   ]
  },
  {
   "cell_type": "markdown",
   "metadata": {},
   "source": [
    "### _Updated Scoring_:\n"
   ]
  },
  {
   "cell_type": "markdown",
   "metadata": {},
   "source": [
    "- Banksville (+0) = <b> 1 </b>\n",
    "- Beechview (+1.5)= 0.5 + 1.5 * 1.5 = <b> 2.75 </b>\n",
    "- Brighton Heights (+0.5)= 0.5 * 1.5 = <b> 0.75 </b>\n",
    "- Brookline (+0) =  <b> 1 </b>\n",
    "- Carrick (+1) = 1.5 + 1 * 1.5 = <b> 3 </b>\n",
    "- North Oakland (+0) = <b> 2 </b>\n",
    "- Squirrel Hill South (+0) = <b> 3 </b>"
   ]
  },
  {
   "cell_type": "code",
   "execution_count": 20,
   "metadata": {},
   "outputs": [
    {
     "data": {
      "text/html": [
       "<div>\n",
       "<style scoped>\n",
       "    .dataframe tbody tr th:only-of-type {\n",
       "        vertical-align: middle;\n",
       "    }\n",
       "\n",
       "    .dataframe tbody tr th {\n",
       "        vertical-align: top;\n",
       "    }\n",
       "\n",
       "    .dataframe thead th {\n",
       "        text-align: right;\n",
       "    }\n",
       "</style>\n",
       "<table border=\"1\" class=\"dataframe\">\n",
       "  <thead>\n",
       "    <tr style=\"text-align: right;\">\n",
       "      <th></th>\n",
       "      <th>Points</th>\n",
       "    </tr>\n",
       "  </thead>\n",
       "  <tbody>\n",
       "    <tr>\n",
       "      <th>Carrick</th>\n",
       "      <td>3.00</td>\n",
       "    </tr>\n",
       "    <tr>\n",
       "      <th>Squirrel Hill South</th>\n",
       "      <td>3.00</td>\n",
       "    </tr>\n",
       "    <tr>\n",
       "      <th>Beechview</th>\n",
       "      <td>2.75</td>\n",
       "    </tr>\n",
       "    <tr>\n",
       "      <th>North Oakland</th>\n",
       "      <td>2.00</td>\n",
       "    </tr>\n",
       "    <tr>\n",
       "      <th>Banksville</th>\n",
       "      <td>1.00</td>\n",
       "    </tr>\n",
       "    <tr>\n",
       "      <th>Brookline</th>\n",
       "      <td>1.00</td>\n",
       "    </tr>\n",
       "    <tr>\n",
       "      <th>Brighton Heights</th>\n",
       "      <td>0.75</td>\n",
       "    </tr>\n",
       "  </tbody>\n",
       "</table>\n",
       "</div>"
      ],
      "text/plain": [
       "                     Points\n",
       "Carrick                3.00\n",
       "Squirrel Hill South    3.00\n",
       "Beechview              2.75\n",
       "North Oakland          2.00\n",
       "Banksville             1.00\n",
       "Brookline              1.00\n",
       "Brighton Heights       0.75"
      ]
     },
     "execution_count": 20,
     "metadata": {},
     "output_type": "execute_result"
    }
   ],
   "source": [
    "#Rewrite over the scores dataframe with updated point values\n",
    "scores= pd.DataFrame(\n",
    "            {\"Points\": [1, 2.75, 0.75, 1, 3, 2, 3]},\n",
    "    index= [\"Banksville\", \"Beechview\", \"Brighton Heights\", \"Brookline\", \"Carrick\", \"North Oakland\", \"Squirrel Hill South\"])\n",
    "\n",
    "#Rank neighborhoods from highest to lowest point values\n",
    "scores.sort_values('Points', ascending=False)"
   ]
  },
  {
   "cell_type": "markdown",
   "metadata": {},
   "source": [
    "## <b> Metric # 3: Toxic Air Releases (Marko) </b>"
   ]
  },
  {
   "cell_type": "markdown",
   "metadata": {},
   "source": [
    "### <u> <b> Introduction: </b> </u>\n",
    "My metric is Air Quality or more specifically amount of toxic waste released into the air (because the dataset focuses on that). I am going to calculate the amount of carcinogenic material released into the (it's exempted if the neighborhood is labeled as having clean air by the standard of the surveyors who complied this dataset). If a neighborhood has released toxic material that is unsafe into the air it loses points because clean air is an expectation for a family to live."
   ]
  },
  {
   "cell_type": "code",
   "execution_count": 4,
   "metadata": {},
   "outputs": [
    {
     "data": {
      "text/html": [
       "<div>\n",
       "<style scoped>\n",
       "    .dataframe tbody tr th:only-of-type {\n",
       "        vertical-align: middle;\n",
       "    }\n",
       "\n",
       "    .dataframe tbody tr th {\n",
       "        vertical-align: top;\n",
       "    }\n",
       "\n",
       "    .dataframe thead th {\n",
       "        text-align: right;\n",
       "    }\n",
       "</style>\n",
       "<table border=\"1\" class=\"dataframe\">\n",
       "  <thead>\n",
       "    <tr style=\"text-align: right;\">\n",
       "      <th></th>\n",
       "      <th>TRI_FACILITY_ID</th>\n",
       "      <th>DOC_CTRL_NUM</th>\n",
       "      <th>FACILITY_NAME</th>\n",
       "      <th>STREET_ADDRESS</th>\n",
       "      <th>CITY_NAME</th>\n",
       "      <th>COUNTY_NAME</th>\n",
       "      <th>STATE_COUNTY_FIPS_CODE</th>\n",
       "      <th>STATE_ABBR</th>\n",
       "      <th>ZIP_CODE</th>\n",
       "      <th>REGION</th>\n",
       "      <th>...</th>\n",
       "      <th>NAICS_CODES</th>\n",
       "      <th>INDUSTRY_CODE</th>\n",
       "      <th>SRS_ID</th>\n",
       "      <th>PFAS_IND</th>\n",
       "      <th>ENVIRONMENTAL_MEDIUM</th>\n",
       "      <th>RELEASE_RANGE_CODE</th>\n",
       "      <th>TOTAL_RELEASE</th>\n",
       "      <th>REL_EST_AMT</th>\n",
       "      <th>RELEASE_NA</th>\n",
       "      <th>RELEASE_BASIS_EST_CODE</th>\n",
       "    </tr>\n",
       "  </thead>\n",
       "  <tbody>\n",
       "    <tr>\n",
       "      <th>0</th>\n",
       "      <td>15025SSCLR400ST</td>\n",
       "      <td>1396100016272</td>\n",
       "      <td>USS-CLAIRTON PLANT</td>\n",
       "      <td>400 STATE ST MS 71</td>\n",
       "      <td>CLAIRTON</td>\n",
       "      <td>ALLEGHENY</td>\n",
       "      <td>42003</td>\n",
       "      <td>PA</td>\n",
       "      <td>15025</td>\n",
       "      <td>3</td>\n",
       "      <td>...</td>\n",
       "      <td>NaN</td>\n",
       "      <td>331</td>\n",
       "      <td>14183.0</td>\n",
       "      <td>0</td>\n",
       "      <td>AIR FUG</td>\n",
       "      <td>NaN</td>\n",
       "      <td>380.0</td>\n",
       "      <td>380.0</td>\n",
       "      <td>0</td>\n",
       "      <td>O</td>\n",
       "    </tr>\n",
       "    <tr>\n",
       "      <th>1</th>\n",
       "      <td>15025SSCLR400ST</td>\n",
       "      <td>1396100016272</td>\n",
       "      <td>USS-CLAIRTON PLANT</td>\n",
       "      <td>400 STATE ST MS 71</td>\n",
       "      <td>CLAIRTON</td>\n",
       "      <td>ALLEGHENY</td>\n",
       "      <td>42003</td>\n",
       "      <td>PA</td>\n",
       "      <td>15025</td>\n",
       "      <td>3</td>\n",
       "      <td>...</td>\n",
       "      <td>NaN</td>\n",
       "      <td>331</td>\n",
       "      <td>14183.0</td>\n",
       "      <td>0</td>\n",
       "      <td>AIR STACK</td>\n",
       "      <td>NaN</td>\n",
       "      <td>0.0</td>\n",
       "      <td>0.0</td>\n",
       "      <td>0</td>\n",
       "      <td>O</td>\n",
       "    </tr>\n",
       "    <tr>\n",
       "      <th>2</th>\n",
       "      <td>15106THHMM235HO</td>\n",
       "      <td>1387010137127</td>\n",
       "      <td>O HOMMEL CO</td>\n",
       "      <td>235 HOPE ST</td>\n",
       "      <td>CARNEGIE</td>\n",
       "      <td>ALLEGHENY</td>\n",
       "      <td>42003</td>\n",
       "      <td>PA</td>\n",
       "      <td>15106</td>\n",
       "      <td>3</td>\n",
       "      <td>...</td>\n",
       "      <td>NaN</td>\n",
       "      <td>325</td>\n",
       "      <td>149583.0</td>\n",
       "      <td>0</td>\n",
       "      <td>AIR FUG</td>\n",
       "      <td>NaN</td>\n",
       "      <td>NaN</td>\n",
       "      <td>0.0</td>\n",
       "      <td>0</td>\n",
       "      <td>O</td>\n",
       "    </tr>\n",
       "    <tr>\n",
       "      <th>3</th>\n",
       "      <td>15106THHMM235HO</td>\n",
       "      <td>1387010137127</td>\n",
       "      <td>O HOMMEL CO</td>\n",
       "      <td>235 HOPE ST</td>\n",
       "      <td>CARNEGIE</td>\n",
       "      <td>ALLEGHENY</td>\n",
       "      <td>42003</td>\n",
       "      <td>PA</td>\n",
       "      <td>15106</td>\n",
       "      <td>3</td>\n",
       "      <td>...</td>\n",
       "      <td>NaN</td>\n",
       "      <td>325</td>\n",
       "      <td>149583.0</td>\n",
       "      <td>0</td>\n",
       "      <td>AIR STACK</td>\n",
       "      <td>NaN</td>\n",
       "      <td>1784.0</td>\n",
       "      <td>1784.0</td>\n",
       "      <td>0</td>\n",
       "      <td>O</td>\n",
       "    </tr>\n",
       "    <tr>\n",
       "      <th>4</th>\n",
       "      <td>15025SSCLR400ST</td>\n",
       "      <td>1392065615205</td>\n",
       "      <td>USS-CLAIRTON PLANT</td>\n",
       "      <td>400 STATE ST MS 71</td>\n",
       "      <td>CLAIRTON</td>\n",
       "      <td>ALLEGHENY</td>\n",
       "      <td>42003</td>\n",
       "      <td>PA</td>\n",
       "      <td>15025</td>\n",
       "      <td>3</td>\n",
       "      <td>...</td>\n",
       "      <td>NaN</td>\n",
       "      <td>331</td>\n",
       "      <td>5090.0</td>\n",
       "      <td>0</td>\n",
       "      <td>AIR FUG</td>\n",
       "      <td>NaN</td>\n",
       "      <td>16000.0</td>\n",
       "      <td>16000.0</td>\n",
       "      <td>0</td>\n",
       "      <td>E</td>\n",
       "    </tr>\n",
       "  </tbody>\n",
       "</table>\n",
       "<p>5 rows × 38 columns</p>\n",
       "</div>"
      ],
      "text/plain": [
       "   TRI_FACILITY_ID   DOC_CTRL_NUM       FACILITY_NAME      STREET_ADDRESS  \\\n",
       "0  15025SSCLR400ST  1396100016272  USS-CLAIRTON PLANT  400 STATE ST MS 71   \n",
       "1  15025SSCLR400ST  1396100016272  USS-CLAIRTON PLANT  400 STATE ST MS 71   \n",
       "2  15106THHMM235HO  1387010137127         O HOMMEL CO         235 HOPE ST   \n",
       "3  15106THHMM235HO  1387010137127         O HOMMEL CO         235 HOPE ST   \n",
       "4  15025SSCLR400ST  1392065615205  USS-CLAIRTON PLANT  400 STATE ST MS 71   \n",
       "\n",
       "  CITY_NAME COUNTY_NAME  STATE_COUNTY_FIPS_CODE STATE_ABBR  ZIP_CODE  REGION  \\\n",
       "0  CLAIRTON   ALLEGHENY                   42003         PA     15025       3   \n",
       "1  CLAIRTON   ALLEGHENY                   42003         PA     15025       3   \n",
       "2  CARNEGIE   ALLEGHENY                   42003         PA     15106       3   \n",
       "3  CARNEGIE   ALLEGHENY                   42003         PA     15106       3   \n",
       "4  CLAIRTON   ALLEGHENY                   42003         PA     15025       3   \n",
       "\n",
       "   ...  NAICS_CODES INDUSTRY_CODE    SRS_ID PFAS_IND ENVIRONMENTAL_MEDIUM  \\\n",
       "0  ...          NaN           331   14183.0        0              AIR FUG   \n",
       "1  ...          NaN           331   14183.0        0            AIR STACK   \n",
       "2  ...          NaN           325  149583.0        0              AIR FUG   \n",
       "3  ...          NaN           325  149583.0        0            AIR STACK   \n",
       "4  ...          NaN           331    5090.0        0              AIR FUG   \n",
       "\n",
       "  RELEASE_RANGE_CODE  TOTAL_RELEASE  REL_EST_AMT  RELEASE_NA  \\\n",
       "0                NaN          380.0        380.0           0   \n",
       "1                NaN            0.0          0.0           0   \n",
       "2                NaN            NaN          0.0           0   \n",
       "3                NaN         1784.0       1784.0           0   \n",
       "4                NaN        16000.0      16000.0           0   \n",
       "\n",
       "  RELEASE_BASIS_EST_CODE  \n",
       "0                      O  \n",
       "1                      O  \n",
       "2                      O  \n",
       "3                      O  \n",
       "4                      E  \n",
       "\n",
       "[5 rows x 38 columns]"
      ]
     },
     "execution_count": 4,
     "metadata": {},
     "output_type": "execute_result"
    }
   ],
   "source": [
    "air = pd.read_csv('toxicair.csv')\n",
    "air.head()"
   ]
  },
  {
   "cell_type": "markdown",
   "metadata": {},
   "source": [
    "Showing the beginning of the chart to give a few examples of the dataset we are looking at"
   ]
  },
  {
   "cell_type": "code",
   "execution_count": 5,
   "metadata": {},
   "outputs": [
    {
     "name": "stdout",
     "output_type": "stream",
     "text": [
      "136976755.5773927\n"
     ]
    }
   ],
   "source": [
    "a_release = air['TOTAL_RELEASE'].sum()\n",
    "print(a_release)"
   ]
  },
  {
   "cell_type": "markdown",
   "metadata": {},
   "source": [
    "The line of code above sums the weight of all the total chemicals that have been released into Allegheny County Air over the past 30 years, which comes out to an astounding large number (in lbs)"
   ]
  },
  {
   "cell_type": "code",
   "execution_count": 6,
   "metadata": {},
   "outputs": [
    {
     "data": {
      "text/plain": [
       "(25536, 38)"
      ]
     },
     "execution_count": 6,
     "metadata": {},
     "output_type": "execute_result"
    }
   ],
   "source": [
    "air.shape"
   ]
  },
  {
   "cell_type": "markdown",
   "metadata": {},
   "source": [
    "This describes the shape of the data so we know just how big the dataset really is"
   ]
  },
  {
   "cell_type": "markdown",
   "metadata": {},
   "source": [
    "The total amount (in pounds) of the toxic chemical released to air, water, land, and underground injection wells during the calendar year (January 1 - December 31). This means that there are 136976755.5773927 lbs of toxic chemicals released into the air (so far)."
   ]
  },
  {
   "cell_type": "markdown",
   "metadata": {},
   "source": [
    "Below: This line of code shows quite how many different toxic chemicals there are in the air by checking the names of the chemical compound listed in the category chemical"
   ]
  },
  {
   "cell_type": "code",
   "execution_count": 7,
   "metadata": {},
   "outputs": [
    {
     "data": {
      "text/plain": [
       "array(['Biphenyl', 'Lead', 'Ethylene', 'Naphthalene', 'Methanol',\n",
       "       'Cresol (mixed isomers)', 'Ethyl acrylate', 'Toluene',\n",
       "       'Cyanide compounds', 'Acetone', 'p-Cresol', 'Anthracene',\n",
       "       'Barium compounds (except for barium sulfate (CAS No. 7727-43-7))',\n",
       "       'Acrylic acid', 'Titanium tetrachloride', '1,2,4-Trimethylbenzene',\n",
       "       'Phthalic anhydride', 'Maleic anhydride', 'Dibenzofuran',\n",
       "       'Sodium hydroxide (solution)',\n",
       "       'Nitrate compounds (water dissociable; reportable only when in aqueous solution)',\n",
       "       'Ethylene glycol', 'Xylene (mixed isomers)',\n",
       "       'Sulfuric acid (acid aerosols including mists, vapors, gas, fog, and other airborne forms of any particle size)',\n",
       "       'Phosphoric acid', 'Zinc compounds',\n",
       "       'Chromium compounds (except for chromite ore mined in the Transvaal Region)',\n",
       "       'Nickel compounds', 'Certain glycol ethers', 'n-Butyl alcohol',\n",
       "       'Butyl acrylate', 'p-Xylene', 'Ethylbenzene',\n",
       "       'Molybdenum trioxide', 'Copper compounds', 'Styrene',\n",
       "       'Di(2-ethylhexyl) phthalate', 'Copper', 'Benzoyl peroxide',\n",
       "       'Dibutyl phthalate', 'Arsenic compounds',\n",
       "       'Aluminum oxide (fibrous forms)', 'Zinc (fume or dust)',\n",
       "       '4,4&apos;-Methylenedi(phenyl isocyanate)', 'Hydrogen fluoride',\n",
       "       'Cumene', 'Tetrachloroethylene', '1,1,1-Trichloroethane',\n",
       "       'Ammonia', 'Lead compounds', 'Beryllium compounds',\n",
       "       'Dioxin and dioxin-like compounds', 'LEAD  and LEAD COMPOUNDS',\n",
       "       'Phenol', 'Vanadium compounds', 'Methyl ethyl ketone',\n",
       "       'Formaldehyde', 'Chromium', 'Nickel', 'sec-Butyl alcohol',\n",
       "       'Carbon disulfide', 'Diisocyanates',\n",
       "       'Polycyclic aromatic compounds', 'COPPER  and COPPER COMPOUNDS',\n",
       "       'Benzo[g,h,i]perylene', 'Creosote', 'Benzene',\n",
       "       'tert-Butyl alcohol', 'Cobalt', '4,4&apos;-Isopropylidenediphenol',\n",
       "       'Formic acid', 'Manganese compounds', 'Manganese', 'Phenanthrene',\n",
       "       'Nitric acid', 'Methyl isobutyl ketone', 'n-Hexane',\n",
       "       'Dicyclopentadiene', 'Dichloromethane',\n",
       "       'Hydrochloric acid (acid aerosols including mists, vapors, gas, fog, and other airborne forms of any particle size)',\n",
       "       'Aluminum (fume or dust)', 'Terephthalic acid', 'Chloromethane',\n",
       "       'Selenium', 'Cobalt compounds', 'Cyclohexanol',\n",
       "       'Methyl methacrylate', 'Antimony', 'SILVER and SILVER COMPOUNDS',\n",
       "       'Quinoline', 'N-Methyl-2-pyrrolidone',\n",
       "       'Sodium dimethyldithiocarbamate', 'Methyl tert-butyl ether',\n",
       "       '2,4-Dimethylphenol', 'Pyridine', 'Mercury', 'Sodium nitrite',\n",
       "       'Mercury compounds', 'Antimony compounds', 'Chlorine',\n",
       "       '2,4-Dinitrophenol', 'N,N-Dimethylaniline', 'Propylene',\n",
       "       'Ethylene oxide', '1,1,2,2-Tetrachloroethane', 'Isoprene',\n",
       "       'Mixture', 'Cyclohexane', 'Nitrobenzene', 'Tetrabromobisphenol A',\n",
       "       'Toluene-2,4-diisocyanate', 'Dichlorodifluoromethane (CFC-12)',\n",
       "       '2-Ethoxyethanol', 'Dimethyl phthalate', 'o-Xylene', 'Chloroform',\n",
       "       'Benzoyl chloride', 'Hydrogen cyanide',\n",
       "       'CHROMIUM COMPOUNDS(EXCEPT CHROMITE ORE MINED IN THE TRANSVAAL REGION)',\n",
       "       'm-Xylene', '2-Methylpyridine', 'm-Cresol',\n",
       "       'MANGANESE  and MANGANESE COMPOUNDS', 'Boron trifluoride',\n",
       "       'Butyl benzyl phthalate', 'Ammonium sulfate (solution)',\n",
       "       'N,N-Dimethylformamide', 'Triethylamine', '1,1,2-Trichloroethane',\n",
       "       'o-Cresol', 'Epichlorohydrin', 'Acetonitrile', 'Propargyl alcohol',\n",
       "       'Cadmium compounds', 'Hydrogen sulfide',\n",
       "       'NICKEL  and NICKEL COMPOUNDS', 'Lithium carbonate',\n",
       "       'Bis(2-ethylhexyl) adipate', 'Allyl alcohol',\n",
       "       'Toluene-2,6-diisocyanate', 'Benzyl chloride',\n",
       "       'Freon 113 (CFC-113)',\n",
       "       'Isopropyl alcohol (only persons who manufacture by the strong acid process are subject, no supplier notification)',\n",
       "       'Trichloroethylene', 'Silver', 'Chlorobenzene',\n",
       "       'Asbestos (friable)', '1,4-Dichlorobenzene', '2,4-Dinitrotoluene',\n",
       "       'Toluene diisocyanate (mixed isomers)',\n",
       "       'MERCURY  and MERCURY COMPOUNDS', 'Diethanolamine',\n",
       "       'COBALT  and COBALT COMPOUNDS',\n",
       "       '2-Chloro-1,1,1,2-tetrafluoroethane (HCFC-124)', 'Diphenylamine',\n",
       "       'Acrylamide', 'Silver compounds', 'Barium', 'n-Dioctyl phthalate',\n",
       "       '2,6-Dinitrotoluene',\n",
       "       'Vanadium (except when contained in an alloy)',\n",
       "       'Hexachlorobenzene', 'Selenium compounds', 'Calcium cyanamide',\n",
       "       'Carbonyl sulfide', 'Bromomethane', 'Phosphorus (yellow or white)',\n",
       "       'Dazomet', 'Polychlorinated biphenyls',\n",
       "       '1-Bromo-1-(bromomethyl)-1,3-propanedicarbonitrile',\n",
       "       'Sodium sulfate (solution)', '1,2-Dichlorobenzene',\n",
       "       'Thiabendazole', '2-Phenylphenol', '2-Methoxyethanol'],\n",
       "      dtype=object)"
      ]
     },
     "execution_count": 7,
     "metadata": {},
     "output_type": "execute_result"
    }
   ],
   "source": [
    "air['CHEM_NAME'].unique()"
   ]
  },
  {
   "cell_type": "code",
   "execution_count": null,
   "metadata": {},
   "outputs": [],
   "source": []
  },
  {
   "cell_type": "code",
   "execution_count": 8,
   "metadata": {},
   "outputs": [
    {
     "data": {
      "text/plain": [
       "175"
      ]
     },
     "execution_count": 8,
     "metadata": {},
     "output_type": "execute_result"
    }
   ],
   "source": [
    "len(air['CHEM_NAME'].unique())"
   ]
  },
  {
   "cell_type": "markdown",
   "metadata": {},
   "source": [
    "The above line counts how many different chemicals I just listed. There are 175 different chemicals or chemical compounds being released into the air currently"
   ]
  },
  {
   "cell_type": "code",
   "execution_count": 9,
   "metadata": {},
   "outputs": [
    {
     "data": {
      "text/plain": [
       "49"
      ]
     },
     "execution_count": 9,
     "metadata": {},
     "output_type": "execute_result"
    }
   ],
   "source": [
    "len(air['CITY_NAME'].unique())"
   ]
  },
  {
   "cell_type": "markdown",
   "metadata": {},
   "source": [
    "The above line of code counts how many different neighborhoods there are listed which could give a little insight to how widespread the problem is. It's not necessarily a few neighborhoods releasing a lot into the air but it could be many neighborhoods releasing a little. But for calculating each neighborhood I will be going by zipcode/combination of zipcodes that make up a neighborhood"
   ]
  },
  {
   "cell_type": "code",
   "execution_count": 10,
   "metadata": {},
   "outputs": [
    {
     "data": {
      "text/plain": [
       "count    1.709100e+04\n",
       "mean     8.014555e+03\n",
       "std      6.910453e+04\n",
       "min      0.000000e+00\n",
       "25%      4.000000e+00\n",
       "50%      1.222000e+02\n",
       "75%      1.494000e+03\n",
       "max      2.600800e+06\n",
       "Name: TOTAL_RELEASE, dtype: float64"
      ]
     },
     "execution_count": 10,
     "metadata": {},
     "output_type": "execute_result"
    }
   ],
   "source": [
    "air['TOTAL_RELEASE'].describe()"
   ]
  },
  {
   "cell_type": "markdown",
   "metadata": {},
   "source": [
    "The above code shows some basic statistical analysis on the data and it counts how many instances of toxic chemical release there were"
   ]
  },
  {
   "cell_type": "markdown",
   "metadata": {},
   "source": [
    "There are 17091 different releases of toxic gases (many come from multiple plants/facilities, it's not 17091 different facilities)"
   ]
  },
  {
   "cell_type": "code",
   "execution_count": 11,
   "metadata": {},
   "outputs": [
    {
     "data": {
      "text/plain": [
       "204"
      ]
     },
     "execution_count": 11,
     "metadata": {},
     "output_type": "execute_result"
    }
   ],
   "source": [
    "num_fac = len(air['FACILITY_NAME'].unique())\n",
    "num_fac"
   ]
  },
  {
   "cell_type": "markdown",
   "metadata": {},
   "source": [
    "This line shows us how many different facilities there are that are releasing toxic chemicals into the air"
   ]
  },
  {
   "cell_type": "markdown",
   "metadata": {},
   "source": [
    "The line of code below cuts down the dataset to only the most important columns we need to determine the amount of toxic chemicals released into the air"
   ]
  },
  {
   "cell_type": "code",
   "execution_count": 12,
   "metadata": {},
   "outputs": [
    {
     "data": {
      "text/html": [
       "<div>\n",
       "<style scoped>\n",
       "    .dataframe tbody tr th:only-of-type {\n",
       "        vertical-align: middle;\n",
       "    }\n",
       "\n",
       "    .dataframe tbody tr th {\n",
       "        vertical-align: top;\n",
       "    }\n",
       "\n",
       "    .dataframe thead th {\n",
       "        text-align: right;\n",
       "    }\n",
       "</style>\n",
       "<table border=\"1\" class=\"dataframe\">\n",
       "  <thead>\n",
       "    <tr style=\"text-align: right;\">\n",
       "      <th></th>\n",
       "      <th>ZIP_CODE</th>\n",
       "      <th>CARCINOGEN</th>\n",
       "      <th>CLEAN_AIR</th>\n",
       "      <th>REL_EST_AMT</th>\n",
       "    </tr>\n",
       "  </thead>\n",
       "  <tbody>\n",
       "    <tr>\n",
       "      <th>0</th>\n",
       "      <td>15025</td>\n",
       "      <td>N</td>\n",
       "      <td>Y</td>\n",
       "      <td>380.000</td>\n",
       "    </tr>\n",
       "    <tr>\n",
       "      <th>1</th>\n",
       "      <td>15025</td>\n",
       "      <td>N</td>\n",
       "      <td>Y</td>\n",
       "      <td>0.000</td>\n",
       "    </tr>\n",
       "    <tr>\n",
       "      <th>2</th>\n",
       "      <td>15106</td>\n",
       "      <td>Y</td>\n",
       "      <td>Y</td>\n",
       "      <td>0.000</td>\n",
       "    </tr>\n",
       "    <tr>\n",
       "      <th>3</th>\n",
       "      <td>15106</td>\n",
       "      <td>Y</td>\n",
       "      <td>Y</td>\n",
       "      <td>1784.000</td>\n",
       "    </tr>\n",
       "    <tr>\n",
       "      <th>4</th>\n",
       "      <td>15025</td>\n",
       "      <td>N</td>\n",
       "      <td>N</td>\n",
       "      <td>16000.000</td>\n",
       "    </tr>\n",
       "    <tr>\n",
       "      <th>...</th>\n",
       "      <td>...</td>\n",
       "      <td>...</td>\n",
       "      <td>...</td>\n",
       "      <td>...</td>\n",
       "    </tr>\n",
       "    <tr>\n",
       "      <th>25531</th>\n",
       "      <td>15025</td>\n",
       "      <td>Y</td>\n",
       "      <td>Y</td>\n",
       "      <td>1.146</td>\n",
       "    </tr>\n",
       "    <tr>\n",
       "      <th>25532</th>\n",
       "      <td>15225</td>\n",
       "      <td>N</td>\n",
       "      <td>Y</td>\n",
       "      <td>1.000</td>\n",
       "    </tr>\n",
       "    <tr>\n",
       "      <th>25533</th>\n",
       "      <td>15225</td>\n",
       "      <td>N</td>\n",
       "      <td>Y</td>\n",
       "      <td>1.000</td>\n",
       "    </tr>\n",
       "    <tr>\n",
       "      <th>25534</th>\n",
       "      <td>15014</td>\n",
       "      <td>Y</td>\n",
       "      <td>Y</td>\n",
       "      <td>250.000</td>\n",
       "    </tr>\n",
       "    <tr>\n",
       "      <th>25535</th>\n",
       "      <td>15014</td>\n",
       "      <td>Y</td>\n",
       "      <td>Y</td>\n",
       "      <td>1600.000</td>\n",
       "    </tr>\n",
       "  </tbody>\n",
       "</table>\n",
       "<p>25536 rows × 4 columns</p>\n",
       "</div>"
      ],
      "text/plain": [
       "       ZIP_CODE CARCINOGEN CLEAN_AIR  REL_EST_AMT\n",
       "0         15025          N         Y      380.000\n",
       "1         15025          N         Y        0.000\n",
       "2         15106          Y         Y        0.000\n",
       "3         15106          Y         Y     1784.000\n",
       "4         15025          N         N    16000.000\n",
       "...         ...        ...       ...          ...\n",
       "25531     15025          Y         Y        1.146\n",
       "25532     15225          N         Y        1.000\n",
       "25533     15225          N         Y        1.000\n",
       "25534     15014          Y         Y      250.000\n",
       "25535     15014          Y         Y     1600.000\n",
       "\n",
       "[25536 rows x 4 columns]"
      ]
     },
     "execution_count": 12,
     "metadata": {},
     "output_type": "execute_result"
    }
   ],
   "source": [
    "a_done = air.drop(columns = ['TRI_FACILITY_ID', 'DOC_CTRL_NUM','STATE_ABBR','STATE_COUNTY_FIPS_CODE','NAICS_CODES','PFAS_IND','RELEASE_RANGE_CODE',\n",
    "                    'ENVIRONMENTAL_MEDIUM','RELEASE_BASIS_EST_CODE','STREET_ADDRESS', 'REGION','RELEASE_NA','ENVIRONMENTAL_MEDIUM','SRS_ID',\n",
    "                   'INDUSTRY_CODE','COUNTY_NAME','TOTAL_RELEASE','FACILITY_NAME','CITY_NAME','ASGN_FEDERAL_IND','ASGN_AGENCY',\n",
    "                    'PARENT_CO_DB_NUM','STANDARDIZED_PARENT_COMPANY','EPA_REGISTRY_ID','TRADE_SECRET_IND','FAC_CLOSED_IND','PARENT_CO_NAME','REPORTING_YEAR',\n",
    "                   'CAS_NUM','ELEMENTAL_METAL_INCLUDED','CHEM_NAME','LIST_3350','PRIMARY_SIC_CODE','SIC_CODES','PRIMARY_NAICS_CODE'])\n",
    "a_done"
   ]
  },
  {
   "cell_type": "markdown",
   "metadata": {},
   "source": [
    "Now this chart is narrowed down to four different catergories, being: Zip code, Carcinogen (a substance that is defined as something that can cause cancer to humans), Clean air, and Relistic Estimated Amount. The way I will narrow down whether or a substance is dangerous is if the answer to the question of clean air is no (N in the chart) OR is the answer to is a carcinogen is yes (Y in the carcinogen category). If the category of CLEAN_AIR is marked as yes (Y) then I won't say that the release of chemicals is dangerous because it has been determined by the surveyors that the air is clean (even if the chemcial being released is a carcinogen). Then I will have a chart which I will sum the total amount of toxic chemicals released (when it's deemed that they make the air \"unclean\") by zip code and rank zip codes by amount of toxic chemicals released."
   ]
  },
  {
   "cell_type": "code",
   "execution_count": null,
   "metadata": {},
   "outputs": [],
   "source": []
  },
  {
   "cell_type": "markdown",
   "metadata": {},
   "source": [
    "After filtering this all out I created multiple query masks to filter out the facilites that aren't releasing dangerous chemicals into the air.\n",
    "To do this I create 3 groups that I will filter by: are there carcinogens released (they do not have to be in the air for the release to be marked as yes, but if the air is deemed clean then the release of chemicals isn't going into the air, it's just going somewhere else) is the air determined to be clean, and if there is a release of toxic chemicals into the air is it a large amount"
   ]
  },
  {
   "cell_type": "markdown",
   "metadata": {},
   "source": [
    "This code checks if the release is a carcinogen"
   ]
  },
  {
   "cell_type": "code",
   "execution_count": 13,
   "metadata": {},
   "outputs": [
    {
     "data": {
      "text/plain": [
       "0    False\n",
       "1    False\n",
       "2     True\n",
       "3     True\n",
       "4    False\n",
       "Name: CARCINOGEN, dtype: bool"
      ]
     },
     "execution_count": 13,
     "metadata": {},
     "output_type": "execute_result"
    }
   ],
   "source": [
    "query_mask = a_done['CARCINOGEN'] != 'N'\n",
    "query_mask.head(5)"
   ]
  },
  {
   "cell_type": "markdown",
   "metadata": {},
   "source": [
    "If it is it's kept. Example"
   ]
  },
  {
   "cell_type": "code",
   "execution_count": 14,
   "metadata": {},
   "outputs": [
    {
     "data": {
      "text/html": [
       "<div>\n",
       "<style scoped>\n",
       "    .dataframe tbody tr th:only-of-type {\n",
       "        vertical-align: middle;\n",
       "    }\n",
       "\n",
       "    .dataframe tbody tr th {\n",
       "        vertical-align: top;\n",
       "    }\n",
       "\n",
       "    .dataframe thead th {\n",
       "        text-align: right;\n",
       "    }\n",
       "</style>\n",
       "<table border=\"1\" class=\"dataframe\">\n",
       "  <thead>\n",
       "    <tr style=\"text-align: right;\">\n",
       "      <th></th>\n",
       "      <th>ZIP_CODE</th>\n",
       "      <th>CARCINOGEN</th>\n",
       "      <th>CLEAN_AIR</th>\n",
       "      <th>REL_EST_AMT</th>\n",
       "    </tr>\n",
       "  </thead>\n",
       "  <tbody>\n",
       "    <tr>\n",
       "      <th>2</th>\n",
       "      <td>15106</td>\n",
       "      <td>Y</td>\n",
       "      <td>Y</td>\n",
       "      <td>0.0</td>\n",
       "    </tr>\n",
       "    <tr>\n",
       "      <th>3</th>\n",
       "      <td>15106</td>\n",
       "      <td>Y</td>\n",
       "      <td>Y</td>\n",
       "      <td>1784.0</td>\n",
       "    </tr>\n",
       "    <tr>\n",
       "      <th>6</th>\n",
       "      <td>15225</td>\n",
       "      <td>Y</td>\n",
       "      <td>Y</td>\n",
       "      <td>250.0</td>\n",
       "    </tr>\n",
       "    <tr>\n",
       "      <th>7</th>\n",
       "      <td>15225</td>\n",
       "      <td>Y</td>\n",
       "      <td>Y</td>\n",
       "      <td>250.0</td>\n",
       "    </tr>\n",
       "    <tr>\n",
       "      <th>12</th>\n",
       "      <td>15144</td>\n",
       "      <td>Y</td>\n",
       "      <td>Y</td>\n",
       "      <td>0.0</td>\n",
       "    </tr>\n",
       "    <tr>\n",
       "      <th>13</th>\n",
       "      <td>15144</td>\n",
       "      <td>Y</td>\n",
       "      <td>Y</td>\n",
       "      <td>3200.0</td>\n",
       "    </tr>\n",
       "    <tr>\n",
       "      <th>58</th>\n",
       "      <td>15122</td>\n",
       "      <td>Y</td>\n",
       "      <td>Y</td>\n",
       "      <td>0.0</td>\n",
       "    </tr>\n",
       "    <tr>\n",
       "      <th>59</th>\n",
       "      <td>15122</td>\n",
       "      <td>Y</td>\n",
       "      <td>Y</td>\n",
       "      <td>9.0</td>\n",
       "    </tr>\n",
       "    <tr>\n",
       "      <th>82</th>\n",
       "      <td>15144</td>\n",
       "      <td>Y</td>\n",
       "      <td>Y</td>\n",
       "      <td>5.0</td>\n",
       "    </tr>\n",
       "    <tr>\n",
       "      <th>83</th>\n",
       "      <td>15144</td>\n",
       "      <td>Y</td>\n",
       "      <td>Y</td>\n",
       "      <td>898.0</td>\n",
       "    </tr>\n",
       "  </tbody>\n",
       "</table>\n",
       "</div>"
      ],
      "text/plain": [
       "    ZIP_CODE CARCINOGEN CLEAN_AIR  REL_EST_AMT\n",
       "2      15106          Y         Y          0.0\n",
       "3      15106          Y         Y       1784.0\n",
       "6      15225          Y         Y        250.0\n",
       "7      15225          Y         Y        250.0\n",
       "12     15144          Y         Y          0.0\n",
       "13     15144          Y         Y       3200.0\n",
       "58     15122          Y         Y          0.0\n",
       "59     15122          Y         Y          9.0\n",
       "82     15144          Y         Y          5.0\n",
       "83     15144          Y         Y        898.0"
      ]
     },
     "execution_count": 14,
     "metadata": {},
     "output_type": "execute_result"
    }
   ],
   "source": [
    "car_no = a_done[query_mask]\n",
    "car_no.head(10)"
   ]
  },
  {
   "cell_type": "markdown",
   "metadata": {},
   "source": [
    "The above snippet removes all the non-carcinogens but now I also have to remove the rows in which the air is deemed clean, because that air is up to par. So I'm going to create another query mask to only accept rows in which the air is marked as not clean or (N)"
   ]
  },
  {
   "cell_type": "code",
   "execution_count": 15,
   "metadata": {},
   "outputs": [
    {
     "data": {
      "text/plain": [
       "0    False\n",
       "1    False\n",
       "2    False\n",
       "3    False\n",
       "4     True\n",
       "Name: CLEAN_AIR, dtype: bool"
      ]
     },
     "execution_count": 15,
     "metadata": {},
     "output_type": "execute_result"
    }
   ],
   "source": [
    "qquery_mask = a_done['CLEAN_AIR'] == 'N'\n",
    "qquery_mask.head()"
   ]
  },
  {
   "cell_type": "markdown",
   "metadata": {},
   "source": [
    "Now I'm going to create a third query mask to check for releases over a sizeable margin (100 lbs released) and anything less than that will be removed"
   ]
  },
  {
   "cell_type": "code",
   "execution_count": 16,
   "metadata": {},
   "outputs": [
    {
     "data": {
      "text/plain": [
       "0     True\n",
       "1    False\n",
       "2    False\n",
       "3     True\n",
       "4     True\n",
       "Name: REL_EST_AMT, dtype: bool"
      ]
     },
     "execution_count": 16,
     "metadata": {},
     "output_type": "execute_result"
    }
   ],
   "source": [
    "qqquery_mask = a_done['REL_EST_AMT'] >= 100\n",
    "qqquery_mask.head()"
   ]
  },
  {
   "cell_type": "code",
   "execution_count": 17,
   "metadata": {},
   "outputs": [
    {
     "data": {
      "text/html": [
       "<div>\n",
       "<style scoped>\n",
       "    .dataframe tbody tr th:only-of-type {\n",
       "        vertical-align: middle;\n",
       "    }\n",
       "\n",
       "    .dataframe tbody tr th {\n",
       "        vertical-align: top;\n",
       "    }\n",
       "\n",
       "    .dataframe thead th {\n",
       "        text-align: right;\n",
       "    }\n",
       "</style>\n",
       "<table border=\"1\" class=\"dataframe\">\n",
       "  <thead>\n",
       "    <tr style=\"text-align: right;\">\n",
       "      <th></th>\n",
       "      <th>ZIP_CODE</th>\n",
       "      <th>CARCINOGEN</th>\n",
       "      <th>CLEAN_AIR</th>\n",
       "      <th>REL_EST_AMT</th>\n",
       "    </tr>\n",
       "  </thead>\n",
       "  <tbody>\n",
       "    <tr>\n",
       "      <th>4893</th>\n",
       "      <td>15025</td>\n",
       "      <td>Y</td>\n",
       "      <td>N</td>\n",
       "      <td>1300.0</td>\n",
       "    </tr>\n",
       "    <tr>\n",
       "      <th>7482</th>\n",
       "      <td>15025</td>\n",
       "      <td>Y</td>\n",
       "      <td>N</td>\n",
       "      <td>230.0</td>\n",
       "    </tr>\n",
       "    <tr>\n",
       "      <th>7483</th>\n",
       "      <td>15025</td>\n",
       "      <td>Y</td>\n",
       "      <td>N</td>\n",
       "      <td>1613.0</td>\n",
       "    </tr>\n",
       "    <tr>\n",
       "      <th>8442</th>\n",
       "      <td>15025</td>\n",
       "      <td>Y</td>\n",
       "      <td>N</td>\n",
       "      <td>185.0</td>\n",
       "    </tr>\n",
       "    <tr>\n",
       "      <th>8443</th>\n",
       "      <td>15025</td>\n",
       "      <td>Y</td>\n",
       "      <td>N</td>\n",
       "      <td>1085.0</td>\n",
       "    </tr>\n",
       "    <tr>\n",
       "      <th>8942</th>\n",
       "      <td>15144</td>\n",
       "      <td>Y</td>\n",
       "      <td>N</td>\n",
       "      <td>250.0</td>\n",
       "    </tr>\n",
       "    <tr>\n",
       "      <th>8943</th>\n",
       "      <td>15144</td>\n",
       "      <td>Y</td>\n",
       "      <td>N</td>\n",
       "      <td>250.0</td>\n",
       "    </tr>\n",
       "    <tr>\n",
       "      <th>18812</th>\n",
       "      <td>15144</td>\n",
       "      <td>Y</td>\n",
       "      <td>N</td>\n",
       "      <td>250.0</td>\n",
       "    </tr>\n",
       "    <tr>\n",
       "      <th>20735</th>\n",
       "      <td>15025</td>\n",
       "      <td>Y</td>\n",
       "      <td>N</td>\n",
       "      <td>1430.0</td>\n",
       "    </tr>\n",
       "  </tbody>\n",
       "</table>\n",
       "</div>"
      ],
      "text/plain": [
       "       ZIP_CODE CARCINOGEN CLEAN_AIR  REL_EST_AMT\n",
       "4893      15025          Y         N       1300.0\n",
       "7482      15025          Y         N        230.0\n",
       "7483      15025          Y         N       1613.0\n",
       "8442      15025          Y         N        185.0\n",
       "8443      15025          Y         N       1085.0\n",
       "8942      15144          Y         N        250.0\n",
       "8943      15144          Y         N        250.0\n",
       "18812     15144          Y         N        250.0\n",
       "20735     15025          Y         N       1430.0"
      ]
     },
     "execution_count": 17,
     "metadata": {},
     "output_type": "execute_result"
    }
   ],
   "source": [
    "final = a_done[(query_mask & qquery_mask) & qqquery_mask]\n",
    "final.head(100)"
   ]
  },
  {
   "cell_type": "markdown",
   "metadata": {},
   "source": [
    "After applying the 3 query masks it is clear that there are two zip codes in particular that release large amounts of carcinogenic material into the air to make it unsafe. The two zip codes correspond to Clairton and Springdale"
   ]
  },
  {
   "cell_type": "code",
   "execution_count": 18,
   "metadata": {},
   "outputs": [
    {
     "data": {
      "text/html": [
       "<div>\n",
       "<style scoped>\n",
       "    .dataframe tbody tr th:only-of-type {\n",
       "        vertical-align: middle;\n",
       "    }\n",
       "\n",
       "    .dataframe tbody tr th {\n",
       "        vertical-align: top;\n",
       "    }\n",
       "\n",
       "    .dataframe thead th {\n",
       "        text-align: right;\n",
       "    }\n",
       "</style>\n",
       "<table border=\"1\" class=\"dataframe\">\n",
       "  <thead>\n",
       "    <tr style=\"text-align: right;\">\n",
       "      <th></th>\n",
       "      <th>ZIP_CODE</th>\n",
       "      <th>CARCINOGEN</th>\n",
       "      <th>CLEAN_AIR</th>\n",
       "      <th>REL_EST_AMT</th>\n",
       "    </tr>\n",
       "  </thead>\n",
       "  <tbody>\n",
       "    <tr>\n",
       "      <th>4515</th>\n",
       "      <td>15144</td>\n",
       "      <td>Y</td>\n",
       "      <td>N</td>\n",
       "      <td>13.0</td>\n",
       "    </tr>\n",
       "    <tr>\n",
       "      <th>4893</th>\n",
       "      <td>15025</td>\n",
       "      <td>Y</td>\n",
       "      <td>N</td>\n",
       "      <td>1300.0</td>\n",
       "    </tr>\n",
       "    <tr>\n",
       "      <th>5406</th>\n",
       "      <td>15204</td>\n",
       "      <td>Y</td>\n",
       "      <td>N</td>\n",
       "      <td>1.0</td>\n",
       "    </tr>\n",
       "    <tr>\n",
       "      <th>5407</th>\n",
       "      <td>15204</td>\n",
       "      <td>Y</td>\n",
       "      <td>N</td>\n",
       "      <td>2.0</td>\n",
       "    </tr>\n",
       "    <tr>\n",
       "      <th>6377</th>\n",
       "      <td>15144</td>\n",
       "      <td>Y</td>\n",
       "      <td>N</td>\n",
       "      <td>55.0</td>\n",
       "    </tr>\n",
       "    <tr>\n",
       "      <th>6450</th>\n",
       "      <td>15204</td>\n",
       "      <td>Y</td>\n",
       "      <td>N</td>\n",
       "      <td>5.0</td>\n",
       "    </tr>\n",
       "    <tr>\n",
       "      <th>6451</th>\n",
       "      <td>15204</td>\n",
       "      <td>Y</td>\n",
       "      <td>N</td>\n",
       "      <td>5.0</td>\n",
       "    </tr>\n",
       "    <tr>\n",
       "      <th>7482</th>\n",
       "      <td>15025</td>\n",
       "      <td>Y</td>\n",
       "      <td>N</td>\n",
       "      <td>230.0</td>\n",
       "    </tr>\n",
       "    <tr>\n",
       "      <th>7483</th>\n",
       "      <td>15025</td>\n",
       "      <td>Y</td>\n",
       "      <td>N</td>\n",
       "      <td>1613.0</td>\n",
       "    </tr>\n",
       "    <tr>\n",
       "      <th>8442</th>\n",
       "      <td>15025</td>\n",
       "      <td>Y</td>\n",
       "      <td>N</td>\n",
       "      <td>185.0</td>\n",
       "    </tr>\n",
       "    <tr>\n",
       "      <th>8443</th>\n",
       "      <td>15025</td>\n",
       "      <td>Y</td>\n",
       "      <td>N</td>\n",
       "      <td>1085.0</td>\n",
       "    </tr>\n",
       "    <tr>\n",
       "      <th>8942</th>\n",
       "      <td>15144</td>\n",
       "      <td>Y</td>\n",
       "      <td>N</td>\n",
       "      <td>250.0</td>\n",
       "    </tr>\n",
       "    <tr>\n",
       "      <th>8943</th>\n",
       "      <td>15144</td>\n",
       "      <td>Y</td>\n",
       "      <td>N</td>\n",
       "      <td>250.0</td>\n",
       "    </tr>\n",
       "    <tr>\n",
       "      <th>11093</th>\n",
       "      <td>15225</td>\n",
       "      <td>Y</td>\n",
       "      <td>N</td>\n",
       "      <td>2.0</td>\n",
       "    </tr>\n",
       "    <tr>\n",
       "      <th>15656</th>\n",
       "      <td>15204</td>\n",
       "      <td>Y</td>\n",
       "      <td>N</td>\n",
       "      <td>5.0</td>\n",
       "    </tr>\n",
       "    <tr>\n",
       "      <th>15657</th>\n",
       "      <td>15204</td>\n",
       "      <td>Y</td>\n",
       "      <td>N</td>\n",
       "      <td>5.0</td>\n",
       "    </tr>\n",
       "    <tr>\n",
       "      <th>16013</th>\n",
       "      <td>15144</td>\n",
       "      <td>Y</td>\n",
       "      <td>N</td>\n",
       "      <td>42.0</td>\n",
       "    </tr>\n",
       "    <tr>\n",
       "      <th>18367</th>\n",
       "      <td>15225</td>\n",
       "      <td>Y</td>\n",
       "      <td>N</td>\n",
       "      <td>2.0</td>\n",
       "    </tr>\n",
       "    <tr>\n",
       "      <th>18812</th>\n",
       "      <td>15144</td>\n",
       "      <td>Y</td>\n",
       "      <td>N</td>\n",
       "      <td>250.0</td>\n",
       "    </tr>\n",
       "    <tr>\n",
       "      <th>19090</th>\n",
       "      <td>15204</td>\n",
       "      <td>Y</td>\n",
       "      <td>N</td>\n",
       "      <td>1.0</td>\n",
       "    </tr>\n",
       "    <tr>\n",
       "      <th>19091</th>\n",
       "      <td>15204</td>\n",
       "      <td>Y</td>\n",
       "      <td>N</td>\n",
       "      <td>1.0</td>\n",
       "    </tr>\n",
       "    <tr>\n",
       "      <th>19388</th>\n",
       "      <td>15204</td>\n",
       "      <td>Y</td>\n",
       "      <td>N</td>\n",
       "      <td>5.0</td>\n",
       "    </tr>\n",
       "    <tr>\n",
       "      <th>19389</th>\n",
       "      <td>15204</td>\n",
       "      <td>Y</td>\n",
       "      <td>N</td>\n",
       "      <td>5.0</td>\n",
       "    </tr>\n",
       "    <tr>\n",
       "      <th>20346</th>\n",
       "      <td>15204</td>\n",
       "      <td>Y</td>\n",
       "      <td>N</td>\n",
       "      <td>5.0</td>\n",
       "    </tr>\n",
       "    <tr>\n",
       "      <th>20347</th>\n",
       "      <td>15204</td>\n",
       "      <td>Y</td>\n",
       "      <td>N</td>\n",
       "      <td>5.0</td>\n",
       "    </tr>\n",
       "    <tr>\n",
       "      <th>20735</th>\n",
       "      <td>15025</td>\n",
       "      <td>Y</td>\n",
       "      <td>N</td>\n",
       "      <td>1430.0</td>\n",
       "    </tr>\n",
       "    <tr>\n",
       "      <th>20821</th>\n",
       "      <td>15144</td>\n",
       "      <td>Y</td>\n",
       "      <td>N</td>\n",
       "      <td>11.0</td>\n",
       "    </tr>\n",
       "    <tr>\n",
       "      <th>21611</th>\n",
       "      <td>15204</td>\n",
       "      <td>Y</td>\n",
       "      <td>N</td>\n",
       "      <td>1.0</td>\n",
       "    </tr>\n",
       "    <tr>\n",
       "      <th>23790</th>\n",
       "      <td>15204</td>\n",
       "      <td>Y</td>\n",
       "      <td>N</td>\n",
       "      <td>5.0</td>\n",
       "    </tr>\n",
       "    <tr>\n",
       "      <th>23791</th>\n",
       "      <td>15204</td>\n",
       "      <td>Y</td>\n",
       "      <td>N</td>\n",
       "      <td>5.0</td>\n",
       "    </tr>\n",
       "    <tr>\n",
       "      <th>24078</th>\n",
       "      <td>15204</td>\n",
       "      <td>Y</td>\n",
       "      <td>N</td>\n",
       "      <td>5.0</td>\n",
       "    </tr>\n",
       "    <tr>\n",
       "      <th>24079</th>\n",
       "      <td>15204</td>\n",
       "      <td>Y</td>\n",
       "      <td>N</td>\n",
       "      <td>5.0</td>\n",
       "    </tr>\n",
       "  </tbody>\n",
       "</table>\n",
       "</div>"
      ],
      "text/plain": [
       "       ZIP_CODE CARCINOGEN CLEAN_AIR  REL_EST_AMT\n",
       "4515      15144          Y         N         13.0\n",
       "4893      15025          Y         N       1300.0\n",
       "5406      15204          Y         N          1.0\n",
       "5407      15204          Y         N          2.0\n",
       "6377      15144          Y         N         55.0\n",
       "6450      15204          Y         N          5.0\n",
       "6451      15204          Y         N          5.0\n",
       "7482      15025          Y         N        230.0\n",
       "7483      15025          Y         N       1613.0\n",
       "8442      15025          Y         N        185.0\n",
       "8443      15025          Y         N       1085.0\n",
       "8942      15144          Y         N        250.0\n",
       "8943      15144          Y         N        250.0\n",
       "11093     15225          Y         N          2.0\n",
       "15656     15204          Y         N          5.0\n",
       "15657     15204          Y         N          5.0\n",
       "16013     15144          Y         N         42.0\n",
       "18367     15225          Y         N          2.0\n",
       "18812     15144          Y         N        250.0\n",
       "19090     15204          Y         N          1.0\n",
       "19091     15204          Y         N          1.0\n",
       "19388     15204          Y         N          5.0\n",
       "19389     15204          Y         N          5.0\n",
       "20346     15204          Y         N          5.0\n",
       "20347     15204          Y         N          5.0\n",
       "20735     15025          Y         N       1430.0\n",
       "20821     15144          Y         N         11.0\n",
       "21611     15204          Y         N          1.0\n",
       "23790     15204          Y         N          5.0\n",
       "23791     15204          Y         N          5.0\n",
       "24078     15204          Y         N          5.0\n",
       "24079     15204          Y         N          5.0"
      ]
     },
     "execution_count": 18,
     "metadata": {},
     "output_type": "execute_result"
    }
   ],
   "source": [
    "rquery_mask = a_done['REL_EST_AMT'] >= 1\n",
    "\n",
    "final_all_n = a_done[(query_mask & qquery_mask) & rquery_mask]\n",
    "final_all_n"
   ]
  },
  {
   "cell_type": "markdown",
   "metadata": {},
   "source": [
    "After changing the third query mask to show all toxic releases a new zip code that releases small amounts of material (just more often) is 15204 which corresponds to Sheraden and another that releases 2 lbs twice 15225 which corresponds to Neville Island"
   ]
  },
  {
   "cell_type": "markdown",
   "metadata": {},
   "source": [
    "Below I'm just going to remove the labels for clean air and carcinogen and then I'm going to plot the values on a bar graph"
   ]
  },
  {
   "cell_type": "code",
   "execution_count": 19,
   "metadata": {},
   "outputs": [
    {
     "data": {
      "text/html": [
       "<div>\n",
       "<style scoped>\n",
       "    .dataframe tbody tr th:only-of-type {\n",
       "        vertical-align: middle;\n",
       "    }\n",
       "\n",
       "    .dataframe tbody tr th {\n",
       "        vertical-align: top;\n",
       "    }\n",
       "\n",
       "    .dataframe thead th {\n",
       "        text-align: right;\n",
       "    }\n",
       "</style>\n",
       "<table border=\"1\" class=\"dataframe\">\n",
       "  <thead>\n",
       "    <tr style=\"text-align: right;\">\n",
       "      <th></th>\n",
       "      <th>ZIP_CODE</th>\n",
       "      <th>REL_EST_AMT</th>\n",
       "    </tr>\n",
       "  </thead>\n",
       "  <tbody>\n",
       "    <tr>\n",
       "      <th>4515</th>\n",
       "      <td>15144</td>\n",
       "      <td>13.0</td>\n",
       "    </tr>\n",
       "    <tr>\n",
       "      <th>4893</th>\n",
       "      <td>15025</td>\n",
       "      <td>1300.0</td>\n",
       "    </tr>\n",
       "    <tr>\n",
       "      <th>5406</th>\n",
       "      <td>15204</td>\n",
       "      <td>1.0</td>\n",
       "    </tr>\n",
       "    <tr>\n",
       "      <th>5407</th>\n",
       "      <td>15204</td>\n",
       "      <td>2.0</td>\n",
       "    </tr>\n",
       "    <tr>\n",
       "      <th>6377</th>\n",
       "      <td>15144</td>\n",
       "      <td>55.0</td>\n",
       "    </tr>\n",
       "    <tr>\n",
       "      <th>6450</th>\n",
       "      <td>15204</td>\n",
       "      <td>5.0</td>\n",
       "    </tr>\n",
       "    <tr>\n",
       "      <th>6451</th>\n",
       "      <td>15204</td>\n",
       "      <td>5.0</td>\n",
       "    </tr>\n",
       "    <tr>\n",
       "      <th>7482</th>\n",
       "      <td>15025</td>\n",
       "      <td>230.0</td>\n",
       "    </tr>\n",
       "    <tr>\n",
       "      <th>7483</th>\n",
       "      <td>15025</td>\n",
       "      <td>1613.0</td>\n",
       "    </tr>\n",
       "    <tr>\n",
       "      <th>8442</th>\n",
       "      <td>15025</td>\n",
       "      <td>185.0</td>\n",
       "    </tr>\n",
       "    <tr>\n",
       "      <th>8443</th>\n",
       "      <td>15025</td>\n",
       "      <td>1085.0</td>\n",
       "    </tr>\n",
       "    <tr>\n",
       "      <th>8942</th>\n",
       "      <td>15144</td>\n",
       "      <td>250.0</td>\n",
       "    </tr>\n",
       "    <tr>\n",
       "      <th>8943</th>\n",
       "      <td>15144</td>\n",
       "      <td>250.0</td>\n",
       "    </tr>\n",
       "    <tr>\n",
       "      <th>11093</th>\n",
       "      <td>15225</td>\n",
       "      <td>2.0</td>\n",
       "    </tr>\n",
       "    <tr>\n",
       "      <th>15656</th>\n",
       "      <td>15204</td>\n",
       "      <td>5.0</td>\n",
       "    </tr>\n",
       "    <tr>\n",
       "      <th>15657</th>\n",
       "      <td>15204</td>\n",
       "      <td>5.0</td>\n",
       "    </tr>\n",
       "    <tr>\n",
       "      <th>16013</th>\n",
       "      <td>15144</td>\n",
       "      <td>42.0</td>\n",
       "    </tr>\n",
       "    <tr>\n",
       "      <th>18367</th>\n",
       "      <td>15225</td>\n",
       "      <td>2.0</td>\n",
       "    </tr>\n",
       "    <tr>\n",
       "      <th>18812</th>\n",
       "      <td>15144</td>\n",
       "      <td>250.0</td>\n",
       "    </tr>\n",
       "    <tr>\n",
       "      <th>19090</th>\n",
       "      <td>15204</td>\n",
       "      <td>1.0</td>\n",
       "    </tr>\n",
       "    <tr>\n",
       "      <th>19091</th>\n",
       "      <td>15204</td>\n",
       "      <td>1.0</td>\n",
       "    </tr>\n",
       "    <tr>\n",
       "      <th>19388</th>\n",
       "      <td>15204</td>\n",
       "      <td>5.0</td>\n",
       "    </tr>\n",
       "    <tr>\n",
       "      <th>19389</th>\n",
       "      <td>15204</td>\n",
       "      <td>5.0</td>\n",
       "    </tr>\n",
       "    <tr>\n",
       "      <th>20346</th>\n",
       "      <td>15204</td>\n",
       "      <td>5.0</td>\n",
       "    </tr>\n",
       "    <tr>\n",
       "      <th>20347</th>\n",
       "      <td>15204</td>\n",
       "      <td>5.0</td>\n",
       "    </tr>\n",
       "    <tr>\n",
       "      <th>20735</th>\n",
       "      <td>15025</td>\n",
       "      <td>1430.0</td>\n",
       "    </tr>\n",
       "    <tr>\n",
       "      <th>20821</th>\n",
       "      <td>15144</td>\n",
       "      <td>11.0</td>\n",
       "    </tr>\n",
       "    <tr>\n",
       "      <th>21611</th>\n",
       "      <td>15204</td>\n",
       "      <td>1.0</td>\n",
       "    </tr>\n",
       "    <tr>\n",
       "      <th>23790</th>\n",
       "      <td>15204</td>\n",
       "      <td>5.0</td>\n",
       "    </tr>\n",
       "    <tr>\n",
       "      <th>23791</th>\n",
       "      <td>15204</td>\n",
       "      <td>5.0</td>\n",
       "    </tr>\n",
       "    <tr>\n",
       "      <th>24078</th>\n",
       "      <td>15204</td>\n",
       "      <td>5.0</td>\n",
       "    </tr>\n",
       "    <tr>\n",
       "      <th>24079</th>\n",
       "      <td>15204</td>\n",
       "      <td>5.0</td>\n",
       "    </tr>\n",
       "  </tbody>\n",
       "</table>\n",
       "</div>"
      ],
      "text/plain": [
       "       ZIP_CODE  REL_EST_AMT\n",
       "4515      15144         13.0\n",
       "4893      15025       1300.0\n",
       "5406      15204          1.0\n",
       "5407      15204          2.0\n",
       "6377      15144         55.0\n",
       "6450      15204          5.0\n",
       "6451      15204          5.0\n",
       "7482      15025        230.0\n",
       "7483      15025       1613.0\n",
       "8442      15025        185.0\n",
       "8443      15025       1085.0\n",
       "8942      15144        250.0\n",
       "8943      15144        250.0\n",
       "11093     15225          2.0\n",
       "15656     15204          5.0\n",
       "15657     15204          5.0\n",
       "16013     15144         42.0\n",
       "18367     15225          2.0\n",
       "18812     15144        250.0\n",
       "19090     15204          1.0\n",
       "19091     15204          1.0\n",
       "19388     15204          5.0\n",
       "19389     15204          5.0\n",
       "20346     15204          5.0\n",
       "20347     15204          5.0\n",
       "20735     15025       1430.0\n",
       "20821     15144         11.0\n",
       "21611     15204          1.0\n",
       "23790     15204          5.0\n",
       "23791     15204          5.0\n",
       "24078     15204          5.0\n",
       "24079     15204          5.0"
      ]
     },
     "execution_count": 19,
     "metadata": {},
     "output_type": "execute_result"
    }
   ],
   "source": [
    "fin = final_all_n.drop(columns = ['CARCINOGEN','CLEAN_AIR'])\n",
    "fin"
   ]
  },
  {
   "cell_type": "code",
   "execution_count": 20,
   "metadata": {},
   "outputs": [
    {
     "data": {
      "text/plain": [
       "<matplotlib.axes._subplots.AxesSubplot at 0x7f06582fbca0>"
      ]
     },
     "execution_count": 20,
     "metadata": {},
     "output_type": "execute_result"
    },
    {
     "data": {
      "image/png": "[encoded data removed]",
      "text/plain": [
       "<Figure size 1296x720 with 1 Axes>"
      ]
     },
     "metadata": {
      "needs_background": "light"
     },
     "output_type": "display_data"
    }
   ],
   "source": [
    "fin.plot.bar(figsize=(18,10), x='ZIP_CODE', y='REL_EST_AMT',rot=1, title=\"Total Amount of Toxic Materials Released by Zip Code\")\n"
   ]
  },
  {
   "cell_type": "markdown",
   "metadata": {},
   "source": [
    "This above bar graph is really ugly because it plots each instance of the release and it doesn't organize the by zip code"
   ]
  },
  {
   "cell_type": "markdown",
   "metadata": {},
   "source": [
    "To split it up by zip code I created a query mask for each of the neighborhoods and then I separated the neighborhoods."
   ]
  },
  {
   "cell_type": "code",
   "execution_count": 21,
   "metadata": {},
   "outputs": [],
   "source": [
    "Clairton_query_mask = fin['ZIP_CODE'] != 15025\n",
    "Springdale_query_mask = fin['ZIP_CODE'] != 15144\n",
    "Sheraden_query_mask = fin['ZIP_CODE'] != 15204\n",
    "Neville_query_mask = fin['ZIP_CODE'] != 15225"
   ]
  },
  {
   "cell_type": "code",
   "execution_count": 22,
   "metadata": {},
   "outputs": [
    {
     "data": {
      "text/html": [
       "<div>\n",
       "<style scoped>\n",
       "    .dataframe tbody tr th:only-of-type {\n",
       "        vertical-align: middle;\n",
       "    }\n",
       "\n",
       "    .dataframe tbody tr th {\n",
       "        vertical-align: top;\n",
       "    }\n",
       "\n",
       "    .dataframe thead th {\n",
       "        text-align: right;\n",
       "    }\n",
       "</style>\n",
       "<table border=\"1\" class=\"dataframe\">\n",
       "  <thead>\n",
       "    <tr style=\"text-align: right;\">\n",
       "      <th></th>\n",
       "      <th>ZIP_CODE</th>\n",
       "      <th>REL_EST_AMT</th>\n",
       "    </tr>\n",
       "  </thead>\n",
       "  <tbody>\n",
       "    <tr>\n",
       "      <th>4893</th>\n",
       "      <td>15025</td>\n",
       "      <td>1300.0</td>\n",
       "    </tr>\n",
       "    <tr>\n",
       "      <th>7482</th>\n",
       "      <td>15025</td>\n",
       "      <td>230.0</td>\n",
       "    </tr>\n",
       "    <tr>\n",
       "      <th>7483</th>\n",
       "      <td>15025</td>\n",
       "      <td>1613.0</td>\n",
       "    </tr>\n",
       "    <tr>\n",
       "      <th>8442</th>\n",
       "      <td>15025</td>\n",
       "      <td>185.0</td>\n",
       "    </tr>\n",
       "    <tr>\n",
       "      <th>8443</th>\n",
       "      <td>15025</td>\n",
       "      <td>1085.0</td>\n",
       "    </tr>\n",
       "    <tr>\n",
       "      <th>20735</th>\n",
       "      <td>15025</td>\n",
       "      <td>1430.0</td>\n",
       "    </tr>\n",
       "  </tbody>\n",
       "</table>\n",
       "</div>"
      ],
      "text/plain": [
       "       ZIP_CODE  REL_EST_AMT\n",
       "4893      15025       1300.0\n",
       "7482      15025        230.0\n",
       "7483      15025       1613.0\n",
       "8442      15025        185.0\n",
       "8443      15025       1085.0\n",
       "20735     15025       1430.0"
      ]
     },
     "execution_count": 22,
     "metadata": {},
     "output_type": "execute_result"
    }
   ],
   "source": [
    "Clairton = fin[Springdale_query_mask & Sheraden_query_mask & Neville_query_mask]\n",
    "#Clairton neighborhood totals below\n",
    "Clairton"
   ]
  },
  {
   "cell_type": "code",
   "execution_count": 23,
   "metadata": {},
   "outputs": [
    {
     "data": {
      "text/plain": [
       "REL_EST_AMT    5843.0\n",
       "dtype: float64"
      ]
     },
     "execution_count": 23,
     "metadata": {},
     "output_type": "execute_result"
    }
   ],
   "source": [
    "Clairton = Clairton.drop(columns = ['ZIP_CODE'])\n",
    "Clairton.sum()"
   ]
  },
  {
   "cell_type": "code",
   "execution_count": 24,
   "metadata": {},
   "outputs": [
    {
     "data": {
      "text/html": [
       "<div>\n",
       "<style scoped>\n",
       "    .dataframe tbody tr th:only-of-type {\n",
       "        vertical-align: middle;\n",
       "    }\n",
       "\n",
       "    .dataframe tbody tr th {\n",
       "        vertical-align: top;\n",
       "    }\n",
       "\n",
       "    .dataframe thead th {\n",
       "        text-align: right;\n",
       "    }\n",
       "</style>\n",
       "<table border=\"1\" class=\"dataframe\">\n",
       "  <thead>\n",
       "    <tr style=\"text-align: right;\">\n",
       "      <th></th>\n",
       "      <th>ZIP_CODE</th>\n",
       "      <th>REL_EST_AMT</th>\n",
       "    </tr>\n",
       "  </thead>\n",
       "  <tbody>\n",
       "    <tr>\n",
       "      <th>4515</th>\n",
       "      <td>15144</td>\n",
       "      <td>13.0</td>\n",
       "    </tr>\n",
       "    <tr>\n",
       "      <th>6377</th>\n",
       "      <td>15144</td>\n",
       "      <td>55.0</td>\n",
       "    </tr>\n",
       "    <tr>\n",
       "      <th>8942</th>\n",
       "      <td>15144</td>\n",
       "      <td>250.0</td>\n",
       "    </tr>\n",
       "    <tr>\n",
       "      <th>8943</th>\n",
       "      <td>15144</td>\n",
       "      <td>250.0</td>\n",
       "    </tr>\n",
       "    <tr>\n",
       "      <th>16013</th>\n",
       "      <td>15144</td>\n",
       "      <td>42.0</td>\n",
       "    </tr>\n",
       "    <tr>\n",
       "      <th>18812</th>\n",
       "      <td>15144</td>\n",
       "      <td>250.0</td>\n",
       "    </tr>\n",
       "    <tr>\n",
       "      <th>20821</th>\n",
       "      <td>15144</td>\n",
       "      <td>11.0</td>\n",
       "    </tr>\n",
       "  </tbody>\n",
       "</table>\n",
       "</div>"
      ],
      "text/plain": [
       "       ZIP_CODE  REL_EST_AMT\n",
       "4515      15144         13.0\n",
       "6377      15144         55.0\n",
       "8942      15144        250.0\n",
       "8943      15144        250.0\n",
       "16013     15144         42.0\n",
       "18812     15144        250.0\n",
       "20821     15144         11.0"
      ]
     },
     "execution_count": 24,
     "metadata": {},
     "output_type": "execute_result"
    }
   ],
   "source": [
    "Springdale = fin[Clairton_query_mask & Sheraden_query_mask & Neville_query_mask]\n",
    "#Springdale neighborhood totals below\n",
    "Springdale"
   ]
  },
  {
   "cell_type": "code",
   "execution_count": 25,
   "metadata": {},
   "outputs": [
    {
     "data": {
      "text/plain": [
       "REL_EST_AMT    871.0\n",
       "dtype: float64"
      ]
     },
     "execution_count": 25,
     "metadata": {},
     "output_type": "execute_result"
    }
   ],
   "source": [
    "Springdale = Springdale.drop(columns = ['ZIP_CODE'])\n",
    "Springdale.sum()"
   ]
  },
  {
   "cell_type": "code",
   "execution_count": 26,
   "metadata": {},
   "outputs": [
    {
     "data": {
      "text/html": [
       "<div>\n",
       "<style scoped>\n",
       "    .dataframe tbody tr th:only-of-type {\n",
       "        vertical-align: middle;\n",
       "    }\n",
       "\n",
       "    .dataframe tbody tr th {\n",
       "        vertical-align: top;\n",
       "    }\n",
       "\n",
       "    .dataframe thead th {\n",
       "        text-align: right;\n",
       "    }\n",
       "</style>\n",
       "<table border=\"1\" class=\"dataframe\">\n",
       "  <thead>\n",
       "    <tr style=\"text-align: right;\">\n",
       "      <th></th>\n",
       "      <th>ZIP_CODE</th>\n",
       "      <th>REL_EST_AMT</th>\n",
       "    </tr>\n",
       "  </thead>\n",
       "  <tbody>\n",
       "    <tr>\n",
       "      <th>5406</th>\n",
       "      <td>15204</td>\n",
       "      <td>1.0</td>\n",
       "    </tr>\n",
       "    <tr>\n",
       "      <th>5407</th>\n",
       "      <td>15204</td>\n",
       "      <td>2.0</td>\n",
       "    </tr>\n",
       "    <tr>\n",
       "      <th>6450</th>\n",
       "      <td>15204</td>\n",
       "      <td>5.0</td>\n",
       "    </tr>\n",
       "    <tr>\n",
       "      <th>6451</th>\n",
       "      <td>15204</td>\n",
       "      <td>5.0</td>\n",
       "    </tr>\n",
       "    <tr>\n",
       "      <th>15656</th>\n",
       "      <td>15204</td>\n",
       "      <td>5.0</td>\n",
       "    </tr>\n",
       "    <tr>\n",
       "      <th>15657</th>\n",
       "      <td>15204</td>\n",
       "      <td>5.0</td>\n",
       "    </tr>\n",
       "    <tr>\n",
       "      <th>19090</th>\n",
       "      <td>15204</td>\n",
       "      <td>1.0</td>\n",
       "    </tr>\n",
       "    <tr>\n",
       "      <th>19091</th>\n",
       "      <td>15204</td>\n",
       "      <td>1.0</td>\n",
       "    </tr>\n",
       "    <tr>\n",
       "      <th>19388</th>\n",
       "      <td>15204</td>\n",
       "      <td>5.0</td>\n",
       "    </tr>\n",
       "    <tr>\n",
       "      <th>19389</th>\n",
       "      <td>15204</td>\n",
       "      <td>5.0</td>\n",
       "    </tr>\n",
       "    <tr>\n",
       "      <th>20346</th>\n",
       "      <td>15204</td>\n",
       "      <td>5.0</td>\n",
       "    </tr>\n",
       "    <tr>\n",
       "      <th>20347</th>\n",
       "      <td>15204</td>\n",
       "      <td>5.0</td>\n",
       "    </tr>\n",
       "    <tr>\n",
       "      <th>21611</th>\n",
       "      <td>15204</td>\n",
       "      <td>1.0</td>\n",
       "    </tr>\n",
       "    <tr>\n",
       "      <th>23790</th>\n",
       "      <td>15204</td>\n",
       "      <td>5.0</td>\n",
       "    </tr>\n",
       "    <tr>\n",
       "      <th>23791</th>\n",
       "      <td>15204</td>\n",
       "      <td>5.0</td>\n",
       "    </tr>\n",
       "    <tr>\n",
       "      <th>24078</th>\n",
       "      <td>15204</td>\n",
       "      <td>5.0</td>\n",
       "    </tr>\n",
       "    <tr>\n",
       "      <th>24079</th>\n",
       "      <td>15204</td>\n",
       "      <td>5.0</td>\n",
       "    </tr>\n",
       "  </tbody>\n",
       "</table>\n",
       "</div>"
      ],
      "text/plain": [
       "       ZIP_CODE  REL_EST_AMT\n",
       "5406      15204          1.0\n",
       "5407      15204          2.0\n",
       "6450      15204          5.0\n",
       "6451      15204          5.0\n",
       "15656     15204          5.0\n",
       "15657     15204          5.0\n",
       "19090     15204          1.0\n",
       "19091     15204          1.0\n",
       "19388     15204          5.0\n",
       "19389     15204          5.0\n",
       "20346     15204          5.0\n",
       "20347     15204          5.0\n",
       "21611     15204          1.0\n",
       "23790     15204          5.0\n",
       "23791     15204          5.0\n",
       "24078     15204          5.0\n",
       "24079     15204          5.0"
      ]
     },
     "execution_count": 26,
     "metadata": {},
     "output_type": "execute_result"
    }
   ],
   "source": [
    "Sheraden = fin[Springdale_query_mask & Clairton_query_mask & Neville_query_mask]\n",
    "#Sheraden neighborhood totals below\n",
    "Sheraden"
   ]
  },
  {
   "cell_type": "code",
   "execution_count": 27,
   "metadata": {},
   "outputs": [
    {
     "data": {
      "text/plain": [
       "REL_EST_AMT    66.0\n",
       "dtype: float64"
      ]
     },
     "execution_count": 27,
     "metadata": {},
     "output_type": "execute_result"
    }
   ],
   "source": [
    "Sheraden = Sheraden.drop(columns = ['ZIP_CODE'])\n",
    "Sheraden.sum()"
   ]
  },
  {
   "cell_type": "code",
   "execution_count": 28,
   "metadata": {},
   "outputs": [
    {
     "data": {
      "text/html": [
       "<div>\n",
       "<style scoped>\n",
       "    .dataframe tbody tr th:only-of-type {\n",
       "        vertical-align: middle;\n",
       "    }\n",
       "\n",
       "    .dataframe tbody tr th {\n",
       "        vertical-align: top;\n",
       "    }\n",
       "\n",
       "    .dataframe thead th {\n",
       "        text-align: right;\n",
       "    }\n",
       "</style>\n",
       "<table border=\"1\" class=\"dataframe\">\n",
       "  <thead>\n",
       "    <tr style=\"text-align: right;\">\n",
       "      <th></th>\n",
       "      <th>ZIP_CODE</th>\n",
       "      <th>REL_EST_AMT</th>\n",
       "    </tr>\n",
       "  </thead>\n",
       "  <tbody>\n",
       "    <tr>\n",
       "      <th>11093</th>\n",
       "      <td>15225</td>\n",
       "      <td>2.0</td>\n",
       "    </tr>\n",
       "    <tr>\n",
       "      <th>18367</th>\n",
       "      <td>15225</td>\n",
       "      <td>2.0</td>\n",
       "    </tr>\n",
       "  </tbody>\n",
       "</table>\n",
       "</div>"
      ],
      "text/plain": [
       "       ZIP_CODE  REL_EST_AMT\n",
       "11093     15225          2.0\n",
       "18367     15225          2.0"
      ]
     },
     "execution_count": 28,
     "metadata": {},
     "output_type": "execute_result"
    }
   ],
   "source": [
    "Neville = fin[Springdale_query_mask & Sheraden_query_mask & Clairton_query_mask]\n",
    "#Neville Island neighborhood totals below\n",
    "Neville"
   ]
  },
  {
   "cell_type": "code",
   "execution_count": 29,
   "metadata": {},
   "outputs": [
    {
     "data": {
      "text/plain": [
       "REL_EST_AMT    4.0\n",
       "dtype: float64"
      ]
     },
     "execution_count": 29,
     "metadata": {},
     "output_type": "execute_result"
    }
   ],
   "source": [
    "Neville = Neville.drop(columns = ['ZIP_CODE'])\n",
    "Neville.sum()"
   ]
  },
  {
   "cell_type": "markdown",
   "metadata": {},
   "source": [
    "Now that I've got all my totals I'm going to organize the totals into a dataframe so I can easily plot this onto a graph"
   ]
  },
  {
   "cell_type": "code",
   "execution_count": 30,
   "metadata": {},
   "outputs": [
    {
     "data": {
      "text/html": [
       "<div>\n",
       "<style scoped>\n",
       "    .dataframe tbody tr th:only-of-type {\n",
       "        vertical-align: middle;\n",
       "    }\n",
       "\n",
       "    .dataframe tbody tr th {\n",
       "        vertical-align: top;\n",
       "    }\n",
       "\n",
       "    .dataframe thead th {\n",
       "        text-align: right;\n",
       "    }\n",
       "</style>\n",
       "<table border=\"1\" class=\"dataframe\">\n",
       "  <thead>\n",
       "    <tr style=\"text-align: right;\">\n",
       "      <th></th>\n",
       "      <th>Amount Released</th>\n",
       "      <th>Neighborhoods</th>\n",
       "    </tr>\n",
       "  </thead>\n",
       "  <tbody>\n",
       "    <tr>\n",
       "      <th>1</th>\n",
       "      <td>5843</td>\n",
       "      <td>Clairton</td>\n",
       "    </tr>\n",
       "    <tr>\n",
       "      <th>2</th>\n",
       "      <td>871</td>\n",
       "      <td>Springdale</td>\n",
       "    </tr>\n",
       "    <tr>\n",
       "      <th>3</th>\n",
       "      <td>66</td>\n",
       "      <td>Sheraden</td>\n",
       "    </tr>\n",
       "    <tr>\n",
       "      <th>4</th>\n",
       "      <td>4</td>\n",
       "      <td>Neville Island</td>\n",
       "    </tr>\n",
       "  </tbody>\n",
       "</table>\n",
       "</div>"
      ],
      "text/plain": [
       "   Amount Released   Neighborhoods\n",
       "1             5843        Clairton\n",
       "2              871      Springdale\n",
       "3               66        Sheraden\n",
       "4                4  Neville Island"
      ]
     },
     "execution_count": 30,
     "metadata": {},
     "output_type": "execute_result"
    }
   ],
   "source": [
    "totals = pd.DataFrame({\"Amount Released\":[5843,871,66,4],\n",
    "                    \"Neighborhoods\":[\"Clairton\",\"Springdale\",\"Sheraden\",\"Neville Island\"]},index=[1,2,3,4])\n",
    "totals"
   ]
  },
  {
   "cell_type": "markdown",
   "metadata": {},
   "source": [
    "Now I'm going to set up my bar graph based on the dataframe above"
   ]
  },
  {
   "cell_type": "code",
   "execution_count": 31,
   "metadata": {},
   "outputs": [
    {
     "data": {
      "text/plain": [
       "<matplotlib.axes._subplots.AxesSubplot at 0x7f065422aee0>"
      ]
     },
     "execution_count": 31,
     "metadata": {},
     "output_type": "execute_result"
    },
    {
     "data": {
      "image/png": "[encoded data removed]",
      "text/plain": [
       "<Figure size 432x288 with 1 Axes>"
      ]
     },
     "metadata": {
      "needs_background": "light"
     },
     "output_type": "display_data"
    }
   ],
   "source": [
    "totals.plot.bar(x='Neighborhoods', y='Amount Released',rot=1, title=\"Total Amount of Toxic Materials Released by Zip Code\")"
   ]
  },
  {
   "cell_type": "markdown",
   "metadata": {},
   "source": [
    "Since air quality or amount of toxic chemicals released into the air isn't as important of a quality of a neighborhood as crime or diversity in education I'm subtracting but only by a relatively small amount because compared to crime and diversity in schools, air quality isn't a family's first priority for where they're going to live.\n",
    "\n",
    "Total releases and score subtractions Lbs released / 10,000\n",
    "\n",
    "Clairton with 5843 lbs released -.5843\n",
    "\n",
    "Springdale with 871 lbs released   -.0871\n",
    "\n",
    "Sheraden with 66 lbs released   -.0066\n",
    "\n",
    "Neville Island with 4 lbs released   -.0004"
   ]
  },
  {
   "cell_type": "markdown",
   "metadata": {},
   "source": [
    "### <u> <b> Marko's Conclusion: </b> </u>\n",
    "In conclusion, there are only 4 neighborhoods that release amounts of toxic chemicals that are worth remarking and those four zip codes are 15144, 15025, 15225, 15204. These four zip codes are Springdale, Clairton, Neville Island and Sheraden. Clairton is the biggest culprit as they release will over 5 times the combined rest of Pittsburgh so if air quality is something that matters to you then Clairton is a place to avoid. The metric of air quality is a little bit different especially in terms of release amount. The best is 0 and you can't do better than 0 so there aren't winners that stand out, mainly 4 losers. So, I subtracted points from the losers instead of adding to the winners. Since air quality or amount of toxic chemicals released into the air isn't as important of a quality of a neighborhood as crime or diversity in education, I'm subtracting but only by a relatively small amount because compared to crime and diversity in schools, air quality isn't a family's top priority for where they're going to live."
   ]
  },
  {
   "cell_type": "markdown",
   "metadata": {},
   "source": [
    "### _Updated Scoring_:\n",
    "N/A --> Because there were only four neighborhoods with worrysome toxic air releases, none of which were winners or runner-ups in any of the other metrics, the neighbhorhood point totals will go unaffected by this metric. Any neighborhood other than Springdale, Clairton, Neville Island, and Sheraden is deemed safe to the public health!"
   ]
  },
  {
   "cell_type": "markdown",
   "metadata": {},
   "source": [
    "# <b> All in All... </b>"
   ]
  },
  {
   "cell_type": "markdown",
   "metadata": {},
   "source": [
    "## FINAL SCORES:\n",
    "- Banksville = <b> 1 </b>\n",
    "- Beechview = <b> 2.75 </b>\n",
    "- Brighton Heights = <b> 0.75 </b>\n",
    "- Brookline =  <b> 1 </b>\n",
    "- Carrick = <b> 3 </b>\n",
    "- North Oakland = <b> 2 </b>\n",
    "- Squirrel Hill South = <b> 3 </b>"
   ]
  },
  {
   "cell_type": "code",
   "execution_count": 21,
   "metadata": {},
   "outputs": [
    {
     "data": {
      "text/html": [
       "<div>\n",
       "<style scoped>\n",
       "    .dataframe tbody tr th:only-of-type {\n",
       "        vertical-align: middle;\n",
       "    }\n",
       "\n",
       "    .dataframe tbody tr th {\n",
       "        vertical-align: top;\n",
       "    }\n",
       "\n",
       "    .dataframe thead th {\n",
       "        text-align: right;\n",
       "    }\n",
       "</style>\n",
       "<table border=\"1\" class=\"dataframe\">\n",
       "  <thead>\n",
       "    <tr style=\"text-align: right;\">\n",
       "      <th></th>\n",
       "      <th>Points</th>\n",
       "    </tr>\n",
       "  </thead>\n",
       "  <tbody>\n",
       "    <tr>\n",
       "      <th>Carrick</th>\n",
       "      <td>3.00</td>\n",
       "    </tr>\n",
       "    <tr>\n",
       "      <th>Squirrel Hill South</th>\n",
       "      <td>3.00</td>\n",
       "    </tr>\n",
       "    <tr>\n",
       "      <th>Beechview</th>\n",
       "      <td>2.75</td>\n",
       "    </tr>\n",
       "    <tr>\n",
       "      <th>North Oakland</th>\n",
       "      <td>2.00</td>\n",
       "    </tr>\n",
       "    <tr>\n",
       "      <th>Banksville</th>\n",
       "      <td>1.00</td>\n",
       "    </tr>\n",
       "    <tr>\n",
       "      <th>Brookline</th>\n",
       "      <td>1.00</td>\n",
       "    </tr>\n",
       "    <tr>\n",
       "      <th>Brighton Heights</th>\n",
       "      <td>0.75</td>\n",
       "    </tr>\n",
       "  </tbody>\n",
       "</table>\n",
       "</div>"
      ],
      "text/plain": [
       "                     Points\n",
       "Carrick                3.00\n",
       "Squirrel Hill South    3.00\n",
       "Beechview              2.75\n",
       "North Oakland          2.00\n",
       "Banksville             1.00\n",
       "Brookline              1.00\n",
       "Brighton Heights       0.75"
      ]
     },
     "execution_count": 21,
     "metadata": {},
     "output_type": "execute_result"
    }
   ],
   "source": [
    "scores.sort_values('Points', ascending=False)"
   ]
  },
  {
   "cell_type": "code",
   "execution_count": 26,
   "metadata": {},
   "outputs": [
    {
     "data": {
      "text/plain": [
       "<matplotlib.axes._subplots.AxesSubplot at 0x7f3aafef70a0>"
      ]
     },
     "execution_count": 26,
     "metadata": {},
     "output_type": "execute_result"
    },
    {
     "data": {
      "image/png": "[encoded data removed]",
      "text/plain": [
       "<Figure size 1296x720 with 1 Axes>"
      ]
     },
     "metadata": {
      "needs_background": "light"
     },
     "output_type": "display_data"
    }
   ],
   "source": [
    "scores.sort_values('Points', ascending=True).plot.bar(figsize=(18,10), x=None, y='Points',rot=1, title=\"The Best Neighborhood in Pittsburgh\")"
   ]
  },
  {
   "cell_type": "markdown",
   "metadata": {},
   "source": [
    "# AND THE WINNER IS..."
   ]
  },
  {
   "cell_type": "markdown",
   "metadata": {},
   "source": [
    "# <b> CARRICK & SQUIRREL HILL SOUTH (3 points each) </b> !!!"
   ]
  },
  {
   "cell_type": "markdown",
   "metadata": {},
   "source": [
    "### Final Remarks:\n",
    "Our group strategized a system for comparison by assigning point values respective to the winners of each of the three metrics (median age of death, public school enrollment, and toxic air releases). Kyle determined that the neighborhood with the latest median age of death was Squirrel Hill South, Olivia found that Carrick had the highest total public school enrollment and that Beechview had the most diverse public school environment, and Marko found that toxic air release wasn't necessarily as critical a factor as initially anticipated; every neighborhood other than Clairton, Springdale, Sheraden, and Neville Island had a mostly harmless level of chemicals in the air. Based on these analyses, our combined metrics served to conclude that Carrick and Squirrel Hill South emerged tied as the best neighborhoods to raise a family comfortably with the highest number of points (3 each)."
   ]
  },
  {
   "cell_type": "code",
   "execution_count": null,
   "metadata": {},
   "outputs": [],
   "source": []
  }
 ],
 "metadata": {
  "kernelspec": {
   "display_name": "Python 3",
   "language": "python",
   "name": "python3"
  },
  "language_info": {
   "codemirror_mode": {
    "name": "ipython",
    "version": 3
   },
   "file_extension": ".py",
   "mimetype": "text/x-python",
   "name": "python",
   "nbconvert_exporter": "python",
   "pygments_lexer": "ipython3",
   "version": "3.8.3"
  }
 },
 "nbformat": 4,
 "nbformat_minor": 4
}
