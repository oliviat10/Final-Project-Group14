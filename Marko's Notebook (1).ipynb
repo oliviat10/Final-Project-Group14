{
 "cells": [
  {
   "cell_type": "markdown",
   "metadata": {},
   "source": [
    "# Marko Melishchuk Notebook Big Ideas Final Project"
   ]
  },
  {
   "cell_type": "code",
   "execution_count": 10,
   "metadata": {},
   "outputs": [
    {
     "name": "stdout",
     "output_type": "stream",
     "text": [
      "Cloning into 'Final-Project-MOK'...\n",
      "remote: Enumerating objects: 17, done.\u001b[K\n",
      "remote: Counting objects: 100% (17/17), done.\u001b[K\n",
      "remote: Compressing objects: 100% (14/14), done.\u001b[K\n",
      "remote: Total 17 (delta 3), reused 0 (delta 0), pack-reused 0\u001b[K\n",
      "Unpacking objects: 100% (17/17), done.\n"
     ]
    }
   ],
   "source": [
    "!git clone https://github.com/oliviat10/Final-Project-MOK.git"
   ]
  },
  {
   "cell_type": "markdown",
   "metadata": {},
   "source": [
    "Marko's Notebook"
   ]
  },
  {
   "cell_type": "code",
   "execution_count": 2,
   "metadata": {},
   "outputs": [],
   "source": [
    "import numpy as np\n",
    "import pandas as pd\n",
    "\n",
    "\n",
    "air = pd.read_csv('toxicair.csv')\n"
   ]
  },
  {
   "cell_type": "markdown",
   "metadata": {},
   "source": [
    "Imported my data file"
   ]
  },
  {
   "cell_type": "code",
   "execution_count": 3,
   "metadata": {},
   "outputs": [
    {
     "data": {
      "text/html": [
       "<div>\n",
       "<style scoped>\n",
       "    .dataframe tbody tr th:only-of-type {\n",
       "        vertical-align: middle;\n",
       "    }\n",
       "\n",
       "    .dataframe tbody tr th {\n",
       "        vertical-align: top;\n",
       "    }\n",
       "\n",
       "    .dataframe thead th {\n",
       "        text-align: right;\n",
       "    }\n",
       "</style>\n",
       "<table border=\"1\" class=\"dataframe\">\n",
       "  <thead>\n",
       "    <tr style=\"text-align: right;\">\n",
       "      <th></th>\n",
       "      <th>TRI_FACILITY_ID</th>\n",
       "      <th>DOC_CTRL_NUM</th>\n",
       "      <th>FACILITY_NAME</th>\n",
       "      <th>STREET_ADDRESS</th>\n",
       "      <th>CITY_NAME</th>\n",
       "      <th>COUNTY_NAME</th>\n",
       "      <th>STATE_COUNTY_FIPS_CODE</th>\n",
       "      <th>STATE_ABBR</th>\n",
       "      <th>ZIP_CODE</th>\n",
       "      <th>REGION</th>\n",
       "      <th>...</th>\n",
       "      <th>NAICS_CODES</th>\n",
       "      <th>INDUSTRY_CODE</th>\n",
       "      <th>SRS_ID</th>\n",
       "      <th>PFAS_IND</th>\n",
       "      <th>ENVIRONMENTAL_MEDIUM</th>\n",
       "      <th>RELEASE_RANGE_CODE</th>\n",
       "      <th>TOTAL_RELEASE</th>\n",
       "      <th>REL_EST_AMT</th>\n",
       "      <th>RELEASE_NA</th>\n",
       "      <th>RELEASE_BASIS_EST_CODE</th>\n",
       "    </tr>\n",
       "  </thead>\n",
       "  <tbody>\n",
       "    <tr>\n",
       "      <th>0</th>\n",
       "      <td>15025SSCLR400ST</td>\n",
       "      <td>1396100016272</td>\n",
       "      <td>USS-CLAIRTON PLANT</td>\n",
       "      <td>400 STATE ST MS 71</td>\n",
       "      <td>CLAIRTON</td>\n",
       "      <td>ALLEGHENY</td>\n",
       "      <td>42003</td>\n",
       "      <td>PA</td>\n",
       "      <td>15025</td>\n",
       "      <td>3</td>\n",
       "      <td>...</td>\n",
       "      <td>NaN</td>\n",
       "      <td>331</td>\n",
       "      <td>14183.0</td>\n",
       "      <td>0</td>\n",
       "      <td>AIR FUG</td>\n",
       "      <td>NaN</td>\n",
       "      <td>380.0</td>\n",
       "      <td>380.0</td>\n",
       "      <td>0</td>\n",
       "      <td>O</td>\n",
       "    </tr>\n",
       "    <tr>\n",
       "      <th>1</th>\n",
       "      <td>15025SSCLR400ST</td>\n",
       "      <td>1396100016272</td>\n",
       "      <td>USS-CLAIRTON PLANT</td>\n",
       "      <td>400 STATE ST MS 71</td>\n",
       "      <td>CLAIRTON</td>\n",
       "      <td>ALLEGHENY</td>\n",
       "      <td>42003</td>\n",
       "      <td>PA</td>\n",
       "      <td>15025</td>\n",
       "      <td>3</td>\n",
       "      <td>...</td>\n",
       "      <td>NaN</td>\n",
       "      <td>331</td>\n",
       "      <td>14183.0</td>\n",
       "      <td>0</td>\n",
       "      <td>AIR STACK</td>\n",
       "      <td>NaN</td>\n",
       "      <td>0.0</td>\n",
       "      <td>0.0</td>\n",
       "      <td>0</td>\n",
       "      <td>O</td>\n",
       "    </tr>\n",
       "    <tr>\n",
       "      <th>2</th>\n",
       "      <td>15106THHMM235HO</td>\n",
       "      <td>1387010137127</td>\n",
       "      <td>O HOMMEL CO</td>\n",
       "      <td>235 HOPE ST</td>\n",
       "      <td>CARNEGIE</td>\n",
       "      <td>ALLEGHENY</td>\n",
       "      <td>42003</td>\n",
       "      <td>PA</td>\n",
       "      <td>15106</td>\n",
       "      <td>3</td>\n",
       "      <td>...</td>\n",
       "      <td>NaN</td>\n",
       "      <td>325</td>\n",
       "      <td>149583.0</td>\n",
       "      <td>0</td>\n",
       "      <td>AIR FUG</td>\n",
       "      <td>NaN</td>\n",
       "      <td>NaN</td>\n",
       "      <td>0.0</td>\n",
       "      <td>0</td>\n",
       "      <td>O</td>\n",
       "    </tr>\n",
       "    <tr>\n",
       "      <th>3</th>\n",
       "      <td>15106THHMM235HO</td>\n",
       "      <td>1387010137127</td>\n",
       "      <td>O HOMMEL CO</td>\n",
       "      <td>235 HOPE ST</td>\n",
       "      <td>CARNEGIE</td>\n",
       "      <td>ALLEGHENY</td>\n",
       "      <td>42003</td>\n",
       "      <td>PA</td>\n",
       "      <td>15106</td>\n",
       "      <td>3</td>\n",
       "      <td>...</td>\n",
       "      <td>NaN</td>\n",
       "      <td>325</td>\n",
       "      <td>149583.0</td>\n",
       "      <td>0</td>\n",
       "      <td>AIR STACK</td>\n",
       "      <td>NaN</td>\n",
       "      <td>1784.0</td>\n",
       "      <td>1784.0</td>\n",
       "      <td>0</td>\n",
       "      <td>O</td>\n",
       "    </tr>\n",
       "    <tr>\n",
       "      <th>4</th>\n",
       "      <td>15025SSCLR400ST</td>\n",
       "      <td>1392065615205</td>\n",
       "      <td>USS-CLAIRTON PLANT</td>\n",
       "      <td>400 STATE ST MS 71</td>\n",
       "      <td>CLAIRTON</td>\n",
       "      <td>ALLEGHENY</td>\n",
       "      <td>42003</td>\n",
       "      <td>PA</td>\n",
       "      <td>15025</td>\n",
       "      <td>3</td>\n",
       "      <td>...</td>\n",
       "      <td>NaN</td>\n",
       "      <td>331</td>\n",
       "      <td>5090.0</td>\n",
       "      <td>0</td>\n",
       "      <td>AIR FUG</td>\n",
       "      <td>NaN</td>\n",
       "      <td>16000.0</td>\n",
       "      <td>16000.0</td>\n",
       "      <td>0</td>\n",
       "      <td>E</td>\n",
       "    </tr>\n",
       "  </tbody>\n",
       "</table>\n",
       "<p>5 rows × 38 columns</p>\n",
       "</div>"
      ],
      "text/plain": [
       "   TRI_FACILITY_ID   DOC_CTRL_NUM       FACILITY_NAME      STREET_ADDRESS  \\\n",
       "0  15025SSCLR400ST  1396100016272  USS-CLAIRTON PLANT  400 STATE ST MS 71   \n",
       "1  15025SSCLR400ST  1396100016272  USS-CLAIRTON PLANT  400 STATE ST MS 71   \n",
       "2  15106THHMM235HO  1387010137127         O HOMMEL CO         235 HOPE ST   \n",
       "3  15106THHMM235HO  1387010137127         O HOMMEL CO         235 HOPE ST   \n",
       "4  15025SSCLR400ST  1392065615205  USS-CLAIRTON PLANT  400 STATE ST MS 71   \n",
       "\n",
       "  CITY_NAME COUNTY_NAME  STATE_COUNTY_FIPS_CODE STATE_ABBR  ZIP_CODE  REGION  \\\n",
       "0  CLAIRTON   ALLEGHENY                   42003         PA     15025       3   \n",
       "1  CLAIRTON   ALLEGHENY                   42003         PA     15025       3   \n",
       "2  CARNEGIE   ALLEGHENY                   42003         PA     15106       3   \n",
       "3  CARNEGIE   ALLEGHENY                   42003         PA     15106       3   \n",
       "4  CLAIRTON   ALLEGHENY                   42003         PA     15025       3   \n",
       "\n",
       "   ...  NAICS_CODES INDUSTRY_CODE    SRS_ID PFAS_IND ENVIRONMENTAL_MEDIUM  \\\n",
       "0  ...          NaN           331   14183.0        0              AIR FUG   \n",
       "1  ...          NaN           331   14183.0        0            AIR STACK   \n",
       "2  ...          NaN           325  149583.0        0              AIR FUG   \n",
       "3  ...          NaN           325  149583.0        0            AIR STACK   \n",
       "4  ...          NaN           331    5090.0        0              AIR FUG   \n",
       "\n",
       "  RELEASE_RANGE_CODE  TOTAL_RELEASE  REL_EST_AMT  RELEASE_NA  \\\n",
       "0                NaN          380.0        380.0           0   \n",
       "1                NaN            0.0          0.0           0   \n",
       "2                NaN            NaN          0.0           0   \n",
       "3                NaN         1784.0       1784.0           0   \n",
       "4                NaN        16000.0      16000.0           0   \n",
       "\n",
       "  RELEASE_BASIS_EST_CODE  \n",
       "0                      O  \n",
       "1                      O  \n",
       "2                      O  \n",
       "3                      O  \n",
       "4                      E  \n",
       "\n",
       "[5 rows x 38 columns]"
      ]
     },
     "execution_count": 3,
     "metadata": {},
     "output_type": "execute_result"
    }
   ],
   "source": [
    "air.head()"
   ]
  },
  {
   "cell_type": "markdown",
   "metadata": {},
   "source": [
    "Showing the beginning of the chart to give examples of what we are looking at"
   ]
  },
  {
   "cell_type": "code",
   "execution_count": 4,
   "metadata": {},
   "outputs": [
    {
     "name": "stdout",
     "output_type": "stream",
     "text": [
      "136976755.5773927\n"
     ]
    }
   ],
   "source": [
    "a_release = air['TOTAL_RELEASE'].sum()\n",
    "print(a_release)"
   ]
  },
  {
   "cell_type": "markdown",
   "metadata": {},
   "source": [
    "The line of code above sums the weight of all the total chemicals that have been released into Allegheny County Air over the past 30 years, which comes out to an astounding large number (in lbs)"
   ]
  },
  {
   "cell_type": "code",
   "execution_count": 5,
   "metadata": {},
   "outputs": [
    {
     "data": {
      "text/plain": [
       "(25536, 38)"
      ]
     },
     "execution_count": 5,
     "metadata": {},
     "output_type": "execute_result"
    }
   ],
   "source": [
    "air.shape"
   ]
  },
  {
   "cell_type": "markdown",
   "metadata": {},
   "source": [
    "This describes the shape of the data so we know how descriptive the data set is"
   ]
  },
  {
   "cell_type": "markdown",
   "metadata": {},
   "source": [
    "The total amount (in pounds) of the toxic chemical released to air, water, land, and underground injection wells during the calendar year (January 1 - December 31). This means that there are 136976755.5773927 lbs of toxic chemicals released into the air (so far)."
   ]
  },
  {
   "cell_type": "markdown",
   "metadata": {},
   "source": [
    "Below: This line of code shows quite how many different toxic chemicals there are in the air by checking the names of the chemical compound listed in the category chemical"
   ]
  },
  {
   "cell_type": "code",
   "execution_count": 6,
   "metadata": {},
   "outputs": [
    {
     "data": {
      "text/plain": [
       "array(['Biphenyl', 'Lead', 'Ethylene', 'Naphthalene', 'Methanol',\n",
       "       'Cresol (mixed isomers)', 'Ethyl acrylate', 'Toluene',\n",
       "       'Cyanide compounds', 'Acetone', 'p-Cresol', 'Anthracene',\n",
       "       'Barium compounds (except for barium sulfate (CAS No. 7727-43-7))',\n",
       "       'Acrylic acid', 'Titanium tetrachloride', '1,2,4-Trimethylbenzene',\n",
       "       'Phthalic anhydride', 'Maleic anhydride', 'Dibenzofuran',\n",
       "       'Sodium hydroxide (solution)',\n",
       "       'Nitrate compounds (water dissociable; reportable only when in aqueous solution)',\n",
       "       'Ethylene glycol', 'Xylene (mixed isomers)',\n",
       "       'Sulfuric acid (acid aerosols including mists, vapors, gas, fog, and other airborne forms of any particle size)',\n",
       "       'Phosphoric acid', 'Zinc compounds',\n",
       "       'Chromium compounds (except for chromite ore mined in the Transvaal Region)',\n",
       "       'Nickel compounds', 'Certain glycol ethers', 'n-Butyl alcohol',\n",
       "       'Butyl acrylate', 'p-Xylene', 'Ethylbenzene',\n",
       "       'Molybdenum trioxide', 'Copper compounds', 'Styrene',\n",
       "       'Di(2-ethylhexyl) phthalate', 'Copper', 'Benzoyl peroxide',\n",
       "       'Dibutyl phthalate', 'Arsenic compounds',\n",
       "       'Aluminum oxide (fibrous forms)', 'Zinc (fume or dust)',\n",
       "       '4,4&apos;-Methylenedi(phenyl isocyanate)', 'Hydrogen fluoride',\n",
       "       'Cumene', 'Tetrachloroethylene', '1,1,1-Trichloroethane',\n",
       "       'Ammonia', 'Lead compounds', 'Beryllium compounds',\n",
       "       'Dioxin and dioxin-like compounds', 'LEAD  and LEAD COMPOUNDS',\n",
       "       'Phenol', 'Vanadium compounds', 'Methyl ethyl ketone',\n",
       "       'Formaldehyde', 'Chromium', 'Nickel', 'sec-Butyl alcohol',\n",
       "       'Carbon disulfide', 'Diisocyanates',\n",
       "       'Polycyclic aromatic compounds', 'COPPER  and COPPER COMPOUNDS',\n",
       "       'Benzo[g,h,i]perylene', 'Creosote', 'Benzene',\n",
       "       'tert-Butyl alcohol', 'Cobalt', '4,4&apos;-Isopropylidenediphenol',\n",
       "       'Formic acid', 'Manganese compounds', 'Manganese', 'Phenanthrene',\n",
       "       'Nitric acid', 'Methyl isobutyl ketone', 'n-Hexane',\n",
       "       'Dicyclopentadiene', 'Dichloromethane',\n",
       "       'Hydrochloric acid (acid aerosols including mists, vapors, gas, fog, and other airborne forms of any particle size)',\n",
       "       'Aluminum (fume or dust)', 'Terephthalic acid', 'Chloromethane',\n",
       "       'Selenium', 'Cobalt compounds', 'Cyclohexanol',\n",
       "       'Methyl methacrylate', 'Antimony', 'SILVER and SILVER COMPOUNDS',\n",
       "       'Quinoline', 'N-Methyl-2-pyrrolidone',\n",
       "       'Sodium dimethyldithiocarbamate', 'Methyl tert-butyl ether',\n",
       "       '2,4-Dimethylphenol', 'Pyridine', 'Mercury', 'Sodium nitrite',\n",
       "       'Mercury compounds', 'Antimony compounds', 'Chlorine',\n",
       "       '2,4-Dinitrophenol', 'N,N-Dimethylaniline', 'Propylene',\n",
       "       'Ethylene oxide', '1,1,2,2-Tetrachloroethane', 'Isoprene',\n",
       "       'Mixture', 'Cyclohexane', 'Nitrobenzene', 'Tetrabromobisphenol A',\n",
       "       'Toluene-2,4-diisocyanate', 'Dichlorodifluoromethane (CFC-12)',\n",
       "       '2-Ethoxyethanol', 'Dimethyl phthalate', 'o-Xylene', 'Chloroform',\n",
       "       'Benzoyl chloride', 'Hydrogen cyanide',\n",
       "       'CHROMIUM COMPOUNDS(EXCEPT CHROMITE ORE MINED IN THE TRANSVAAL REGION)',\n",
       "       'm-Xylene', '2-Methylpyridine', 'm-Cresol',\n",
       "       'MANGANESE  and MANGANESE COMPOUNDS', 'Boron trifluoride',\n",
       "       'Butyl benzyl phthalate', 'Ammonium sulfate (solution)',\n",
       "       'N,N-Dimethylformamide', 'Triethylamine', '1,1,2-Trichloroethane',\n",
       "       'o-Cresol', 'Epichlorohydrin', 'Acetonitrile', 'Propargyl alcohol',\n",
       "       'Cadmium compounds', 'Hydrogen sulfide',\n",
       "       'NICKEL  and NICKEL COMPOUNDS', 'Lithium carbonate',\n",
       "       'Bis(2-ethylhexyl) adipate', 'Allyl alcohol',\n",
       "       'Toluene-2,6-diisocyanate', 'Benzyl chloride',\n",
       "       'Freon 113 (CFC-113)',\n",
       "       'Isopropyl alcohol (only persons who manufacture by the strong acid process are subject, no supplier notification)',\n",
       "       'Trichloroethylene', 'Silver', 'Chlorobenzene',\n",
       "       'Asbestos (friable)', '1,4-Dichlorobenzene', '2,4-Dinitrotoluene',\n",
       "       'Toluene diisocyanate (mixed isomers)',\n",
       "       'MERCURY  and MERCURY COMPOUNDS', 'Diethanolamine',\n",
       "       'COBALT  and COBALT COMPOUNDS',\n",
       "       '2-Chloro-1,1,1,2-tetrafluoroethane (HCFC-124)', 'Diphenylamine',\n",
       "       'Acrylamide', 'Silver compounds', 'Barium', 'n-Dioctyl phthalate',\n",
       "       '2,6-Dinitrotoluene',\n",
       "       'Vanadium (except when contained in an alloy)',\n",
       "       'Hexachlorobenzene', 'Selenium compounds', 'Calcium cyanamide',\n",
       "       'Carbonyl sulfide', 'Bromomethane', 'Phosphorus (yellow or white)',\n",
       "       'Dazomet', 'Polychlorinated biphenyls',\n",
       "       '1-Bromo-1-(bromomethyl)-1,3-propanedicarbonitrile',\n",
       "       'Sodium sulfate (solution)', '1,2-Dichlorobenzene',\n",
       "       'Thiabendazole', '2-Phenylphenol', '2-Methoxyethanol'],\n",
       "      dtype=object)"
      ]
     },
     "execution_count": 6,
     "metadata": {},
     "output_type": "execute_result"
    }
   ],
   "source": [
    "air['CHEM_NAME'].unique()"
   ]
  },
  {
   "cell_type": "code",
   "execution_count": 7,
   "metadata": {},
   "outputs": [
    {
     "data": {
      "text/plain": [
       "175"
      ]
     },
     "execution_count": 7,
     "metadata": {},
     "output_type": "execute_result"
    }
   ],
   "source": [
    "len(air['CHEM_NAME'].unique())"
   ]
  },
  {
   "cell_type": "markdown",
   "metadata": {},
   "source": [
    "The above line counts how many different chemicals I just listed"
   ]
  },
  {
   "cell_type": "markdown",
   "metadata": {},
   "source": [
    "There are 175 different chemicals or chemical compounds being released into the air currently"
   ]
  },
  {
   "cell_type": "code",
   "execution_count": 8,
   "metadata": {},
   "outputs": [
    {
     "data": {
      "text/plain": [
       "49"
      ]
     },
     "execution_count": 8,
     "metadata": {},
     "output_type": "execute_result"
    }
   ],
   "source": [
    "len(air['CITY_NAME'].unique())"
   ]
  },
  {
   "cell_type": "code",
   "execution_count": 9,
   "metadata": {},
   "outputs": [
    {
     "data": {
      "text/plain": [
       "count    1.709100e+04\n",
       "mean     8.014555e+03\n",
       "std      6.910453e+04\n",
       "min      0.000000e+00\n",
       "25%      4.000000e+00\n",
       "50%      1.222000e+02\n",
       "75%      1.494000e+03\n",
       "max      2.600800e+06\n",
       "Name: TOTAL_RELEASE, dtype: float64"
      ]
     },
     "execution_count": 9,
     "metadata": {},
     "output_type": "execute_result"
    }
   ],
   "source": [
    "air['TOTAL_RELEASE'].describe()"
   ]
  },
  {
   "cell_type": "markdown",
   "metadata": {},
   "source": [
    "The above code shows some basic statistical analysis on the data and it counts how many instances of toxic chemical release there were"
   ]
  },
  {
   "cell_type": "markdown",
   "metadata": {},
   "source": [
    "There are 17091 different releases of toxic gases (many come from multiple plants/facilities, it's not 17091 different facilities)"
   ]
  },
  {
   "cell_type": "code",
   "execution_count": 10,
   "metadata": {},
   "outputs": [],
   "source": [
    "num_fac = len(air['FACILITY_NAME'].unique())"
   ]
  },
  {
   "cell_type": "markdown",
   "metadata": {},
   "source": [
    "This line shows us how many different facilities there are that are releasing toxic chemicals into the air"
   ]
  },
  {
   "cell_type": "code",
   "execution_count": 11,
   "metadata": {},
   "outputs": [
    {
     "name": "stdout",
     "output_type": "stream",
     "text": [
      "There are 204 different facilities that release toxic gases\n"
     ]
    }
   ],
   "source": [
    "\n",
    "print(\"There are 204 different facilities that release toxic gases\")"
   ]
  },
  {
   "cell_type": "markdown",
   "metadata": {},
   "source": [
    "The line of code below cuts down the dataset to only the most important columns we need to determine the amount of toxic chemicals released into the air"
   ]
  },
  {
   "cell_type": "code",
   "execution_count": 12,
   "metadata": {},
   "outputs": [
    {
     "data": {
      "text/html": [
       "<div>\n",
       "<style scoped>\n",
       "    .dataframe tbody tr th:only-of-type {\n",
       "        vertical-align: middle;\n",
       "    }\n",
       "\n",
       "    .dataframe tbody tr th {\n",
       "        vertical-align: top;\n",
       "    }\n",
       "\n",
       "    .dataframe thead th {\n",
       "        text-align: right;\n",
       "    }\n",
       "</style>\n",
       "<table border=\"1\" class=\"dataframe\">\n",
       "  <thead>\n",
       "    <tr style=\"text-align: right;\">\n",
       "      <th></th>\n",
       "      <th>ZIP_CODE</th>\n",
       "      <th>CARCINOGEN</th>\n",
       "      <th>CLEAN_AIR</th>\n",
       "      <th>REL_EST_AMT</th>\n",
       "    </tr>\n",
       "  </thead>\n",
       "  <tbody>\n",
       "    <tr>\n",
       "      <th>0</th>\n",
       "      <td>15025</td>\n",
       "      <td>N</td>\n",
       "      <td>Y</td>\n",
       "      <td>380.000</td>\n",
       "    </tr>\n",
       "    <tr>\n",
       "      <th>1</th>\n",
       "      <td>15025</td>\n",
       "      <td>N</td>\n",
       "      <td>Y</td>\n",
       "      <td>0.000</td>\n",
       "    </tr>\n",
       "    <tr>\n",
       "      <th>2</th>\n",
       "      <td>15106</td>\n",
       "      <td>Y</td>\n",
       "      <td>Y</td>\n",
       "      <td>0.000</td>\n",
       "    </tr>\n",
       "    <tr>\n",
       "      <th>3</th>\n",
       "      <td>15106</td>\n",
       "      <td>Y</td>\n",
       "      <td>Y</td>\n",
       "      <td>1784.000</td>\n",
       "    </tr>\n",
       "    <tr>\n",
       "      <th>4</th>\n",
       "      <td>15025</td>\n",
       "      <td>N</td>\n",
       "      <td>N</td>\n",
       "      <td>16000.000</td>\n",
       "    </tr>\n",
       "    <tr>\n",
       "      <th>...</th>\n",
       "      <td>...</td>\n",
       "      <td>...</td>\n",
       "      <td>...</td>\n",
       "      <td>...</td>\n",
       "    </tr>\n",
       "    <tr>\n",
       "      <th>25531</th>\n",
       "      <td>15025</td>\n",
       "      <td>Y</td>\n",
       "      <td>Y</td>\n",
       "      <td>1.146</td>\n",
       "    </tr>\n",
       "    <tr>\n",
       "      <th>25532</th>\n",
       "      <td>15225</td>\n",
       "      <td>N</td>\n",
       "      <td>Y</td>\n",
       "      <td>1.000</td>\n",
       "    </tr>\n",
       "    <tr>\n",
       "      <th>25533</th>\n",
       "      <td>15225</td>\n",
       "      <td>N</td>\n",
       "      <td>Y</td>\n",
       "      <td>1.000</td>\n",
       "    </tr>\n",
       "    <tr>\n",
       "      <th>25534</th>\n",
       "      <td>15014</td>\n",
       "      <td>Y</td>\n",
       "      <td>Y</td>\n",
       "      <td>250.000</td>\n",
       "    </tr>\n",
       "    <tr>\n",
       "      <th>25535</th>\n",
       "      <td>15014</td>\n",
       "      <td>Y</td>\n",
       "      <td>Y</td>\n",
       "      <td>1600.000</td>\n",
       "    </tr>\n",
       "  </tbody>\n",
       "</table>\n",
       "<p>25536 rows × 4 columns</p>\n",
       "</div>"
      ],
      "text/plain": [
       "       ZIP_CODE CARCINOGEN CLEAN_AIR  REL_EST_AMT\n",
       "0         15025          N         Y      380.000\n",
       "1         15025          N         Y        0.000\n",
       "2         15106          Y         Y        0.000\n",
       "3         15106          Y         Y     1784.000\n",
       "4         15025          N         N    16000.000\n",
       "...         ...        ...       ...          ...\n",
       "25531     15025          Y         Y        1.146\n",
       "25532     15225          N         Y        1.000\n",
       "25533     15225          N         Y        1.000\n",
       "25534     15014          Y         Y      250.000\n",
       "25535     15014          Y         Y     1600.000\n",
       "\n",
       "[25536 rows x 4 columns]"
      ]
     },
     "execution_count": 12,
     "metadata": {},
     "output_type": "execute_result"
    }
   ],
   "source": [
    "a_done = air.drop(columns = ['TRI_FACILITY_ID', 'DOC_CTRL_NUM','STATE_ABBR','STATE_COUNTY_FIPS_CODE','NAICS_CODES','PFAS_IND','RELEASE_RANGE_CODE',\n",
    "                    'ENVIRONMENTAL_MEDIUM','RELEASE_BASIS_EST_CODE','STREET_ADDRESS', 'REGION','RELEASE_NA','ENVIRONMENTAL_MEDIUM','SRS_ID',\n",
    "                   'INDUSTRY_CODE','COUNTY_NAME','TOTAL_RELEASE','FACILITY_NAME','CITY_NAME','ASGN_FEDERAL_IND','ASGN_AGENCY',\n",
    "                    'PARENT_CO_DB_NUM','STANDARDIZED_PARENT_COMPANY','EPA_REGISTRY_ID','TRADE_SECRET_IND','FAC_CLOSED_IND','PARENT_CO_NAME','REPORTING_YEAR',\n",
    "                   'CAS_NUM','ELEMENTAL_METAL_INCLUDED','CHEM_NAME','LIST_3350','PRIMARY_SIC_CODE','SIC_CODES','PRIMARY_NAICS_CODE'])\n",
    "a_done"
   ]
  },
  {
   "cell_type": "markdown",
   "metadata": {},
   "source": [
    "Now this chart is narrowed down to four different catergories, each being: Zip code, Carcinogen (a substance that is defined as something that can cause cancer to humans), Clean air, and Relistic Estimated Amount. The way I will narrow down whether or a substance is dangerous is if the answer to the question of clean air is no (N in the chart) or is the answer to is a carcinogen is yes (Y in the carcinogen category). Then I will have a 2x2 chart which I will sum the total amount of toxic chemicals by zip code and rank zip codes by amount of toxic chemicals released."
   ]
  },
  {
   "cell_type": "code",
   "execution_count": 13,
   "metadata": {},
   "outputs": [],
   "source": [
    "air_dropped = air.drop(columns = ['CARCINOGEN','CLEAN_AIR','TRI_FACILITY_ID', 'DOC_CTRL_NUM','STATE_ABBR','STATE_COUNTY_FIPS_CODE','NAICS_CODES','PFAS_IND','RELEASE_RANGE_CODE',\n",
    "                    'ENVIRONMENTAL_MEDIUM','RELEASE_BASIS_EST_CODE','STREET_ADDRESS', 'REGION','RELEASE_NA','ENVIRONMENTAL_MEDIUM','SRS_ID',\n",
    "                   'INDUSTRY_CODE','COUNTY_NAME','TOTAL_RELEASE','FACILITY_NAME','CITY_NAME','ASGN_FEDERAL_IND','ASGN_AGENCY',\n",
    "                    'PARENT_CO_DB_NUM','STANDARDIZED_PARENT_COMPANY','EPA_REGISTRY_ID','TRADE_SECRET_IND','FAC_CLOSED_IND','PARENT_CO_NAME','REPORTING_YEAR',\n",
    "                   'CAS_NUM','ELEMENTAL_METAL_INCLUDED','CHEM_NAME','LIST_3350','PRIMARY_SIC_CODE','SIC_CODES','PRIMARY_NAICS_CODE'])"
   ]
  },
  {
   "cell_type": "markdown",
   "metadata": {},
   "source": [
    "After filtering this all out I created multiple query masks to filter out the facilites that aren't releasing dangerous chemicals into the air.\n",
    "To do this I create 3 groups that I will filter by: are there carcinogens released (they do not have to be in the air for the release to be marked as yes, but if the air is deemed clean then the release of chemicals isn't going into the air, it's just going somewhere else) is the air determined to be clean, and if there is a release of toxic chemicals into the air is it a large amount"
   ]
  },
  {
   "cell_type": "markdown",
   "metadata": {},
   "source": [
    "This code checks if the release is a carcinogen"
   ]
  },
  {
   "cell_type": "code",
   "execution_count": 54,
   "metadata": {},
   "outputs": [
    {
     "data": {
      "text/plain": [
       "0    False\n",
       "1    False\n",
       "2     True\n",
       "3     True\n",
       "4    False\n",
       "Name: CARCINOGEN, dtype: bool"
      ]
     },
     "execution_count": 54,
     "metadata": {},
     "output_type": "execute_result"
    }
   ],
   "source": [
    "query_mask = a_done['CARCINOGEN'] != 'N'\n",
    "query_mask.head(5)"
   ]
  },
  {
   "cell_type": "markdown",
   "metadata": {},
   "source": [
    "Example"
   ]
  },
  {
   "cell_type": "code",
   "execution_count": 55,
   "metadata": {},
   "outputs": [
    {
     "data": {
      "text/html": [
       "<div>\n",
       "<style scoped>\n",
       "    .dataframe tbody tr th:only-of-type {\n",
       "        vertical-align: middle;\n",
       "    }\n",
       "\n",
       "    .dataframe tbody tr th {\n",
       "        vertical-align: top;\n",
       "    }\n",
       "\n",
       "    .dataframe thead th {\n",
       "        text-align: right;\n",
       "    }\n",
       "</style>\n",
       "<table border=\"1\" class=\"dataframe\">\n",
       "  <thead>\n",
       "    <tr style=\"text-align: right;\">\n",
       "      <th></th>\n",
       "      <th>ZIP_CODE</th>\n",
       "      <th>CARCINOGEN</th>\n",
       "      <th>CLEAN_AIR</th>\n",
       "      <th>REL_EST_AMT</th>\n",
       "    </tr>\n",
       "  </thead>\n",
       "  <tbody>\n",
       "    <tr>\n",
       "      <th>2</th>\n",
       "      <td>15106</td>\n",
       "      <td>Y</td>\n",
       "      <td>Y</td>\n",
       "      <td>0.0</td>\n",
       "    </tr>\n",
       "    <tr>\n",
       "      <th>3</th>\n",
       "      <td>15106</td>\n",
       "      <td>Y</td>\n",
       "      <td>Y</td>\n",
       "      <td>1784.0</td>\n",
       "    </tr>\n",
       "    <tr>\n",
       "      <th>6</th>\n",
       "      <td>15225</td>\n",
       "      <td>Y</td>\n",
       "      <td>Y</td>\n",
       "      <td>250.0</td>\n",
       "    </tr>\n",
       "    <tr>\n",
       "      <th>7</th>\n",
       "      <td>15225</td>\n",
       "      <td>Y</td>\n",
       "      <td>Y</td>\n",
       "      <td>250.0</td>\n",
       "    </tr>\n",
       "    <tr>\n",
       "      <th>12</th>\n",
       "      <td>15144</td>\n",
       "      <td>Y</td>\n",
       "      <td>Y</td>\n",
       "      <td>0.0</td>\n",
       "    </tr>\n",
       "  </tbody>\n",
       "</table>\n",
       "</div>"
      ],
      "text/plain": [
       "    ZIP_CODE CARCINOGEN CLEAN_AIR  REL_EST_AMT\n",
       "2      15106          Y         Y          0.0\n",
       "3      15106          Y         Y       1784.0\n",
       "6      15225          Y         Y        250.0\n",
       "7      15225          Y         Y        250.0\n",
       "12     15144          Y         Y          0.0"
      ]
     },
     "execution_count": 55,
     "metadata": {},
     "output_type": "execute_result"
    }
   ],
   "source": [
    "car_no = a_done[query_mask]\n",
    "car_no.head(5)"
   ]
  },
  {
   "cell_type": "code",
   "execution_count": 57,
   "metadata": {},
   "outputs": [
    {
     "data": {
      "text/plain": [
       "0    False\n",
       "1    False\n",
       "2    False\n",
       "3    False\n",
       "4     True\n",
       "Name: CLEAN_AIR, dtype: bool"
      ]
     },
     "execution_count": 57,
     "metadata": {},
     "output_type": "execute_result"
    }
   ],
   "source": [
    "qquery_mask = a_done['CLEAN_AIR'] == 'N'\n",
    "qquery_mask.head()"
   ]
  },
  {
   "cell_type": "code",
   "execution_count": 72,
   "metadata": {},
   "outputs": [
    {
     "data": {
      "text/plain": [
       "0     True\n",
       "1    False\n",
       "2    False\n",
       "3     True\n",
       "4     True\n",
       "Name: REL_EST_AMT, dtype: bool"
      ]
     },
     "execution_count": 72,
     "metadata": {},
     "output_type": "execute_result"
    }
   ],
   "source": [
    "qqquery_mask = a_done['REL_EST_AMT'] >= 100\n",
    "qqquery_mask.head()"
   ]
  },
  {
   "cell_type": "code",
   "execution_count": 73,
   "metadata": {},
   "outputs": [
    {
     "data": {
      "text/html": [
       "<div>\n",
       "<style scoped>\n",
       "    .dataframe tbody tr th:only-of-type {\n",
       "        vertical-align: middle;\n",
       "    }\n",
       "\n",
       "    .dataframe tbody tr th {\n",
       "        vertical-align: top;\n",
       "    }\n",
       "\n",
       "    .dataframe thead th {\n",
       "        text-align: right;\n",
       "    }\n",
       "</style>\n",
       "<table border=\"1\" class=\"dataframe\">\n",
       "  <thead>\n",
       "    <tr style=\"text-align: right;\">\n",
       "      <th></th>\n",
       "      <th>ZIP_CODE</th>\n",
       "      <th>CARCINOGEN</th>\n",
       "      <th>CLEAN_AIR</th>\n",
       "      <th>REL_EST_AMT</th>\n",
       "    </tr>\n",
       "  </thead>\n",
       "  <tbody>\n",
       "    <tr>\n",
       "      <th>4893</th>\n",
       "      <td>15025</td>\n",
       "      <td>Y</td>\n",
       "      <td>N</td>\n",
       "      <td>1300.0</td>\n",
       "    </tr>\n",
       "    <tr>\n",
       "      <th>7482</th>\n",
       "      <td>15025</td>\n",
       "      <td>Y</td>\n",
       "      <td>N</td>\n",
       "      <td>230.0</td>\n",
       "    </tr>\n",
       "    <tr>\n",
       "      <th>7483</th>\n",
       "      <td>15025</td>\n",
       "      <td>Y</td>\n",
       "      <td>N</td>\n",
       "      <td>1613.0</td>\n",
       "    </tr>\n",
       "    <tr>\n",
       "      <th>8442</th>\n",
       "      <td>15025</td>\n",
       "      <td>Y</td>\n",
       "      <td>N</td>\n",
       "      <td>185.0</td>\n",
       "    </tr>\n",
       "    <tr>\n",
       "      <th>8443</th>\n",
       "      <td>15025</td>\n",
       "      <td>Y</td>\n",
       "      <td>N</td>\n",
       "      <td>1085.0</td>\n",
       "    </tr>\n",
       "    <tr>\n",
       "      <th>8942</th>\n",
       "      <td>15144</td>\n",
       "      <td>Y</td>\n",
       "      <td>N</td>\n",
       "      <td>250.0</td>\n",
       "    </tr>\n",
       "    <tr>\n",
       "      <th>8943</th>\n",
       "      <td>15144</td>\n",
       "      <td>Y</td>\n",
       "      <td>N</td>\n",
       "      <td>250.0</td>\n",
       "    </tr>\n",
       "    <tr>\n",
       "      <th>18812</th>\n",
       "      <td>15144</td>\n",
       "      <td>Y</td>\n",
       "      <td>N</td>\n",
       "      <td>250.0</td>\n",
       "    </tr>\n",
       "    <tr>\n",
       "      <th>20735</th>\n",
       "      <td>15025</td>\n",
       "      <td>Y</td>\n",
       "      <td>N</td>\n",
       "      <td>1430.0</td>\n",
       "    </tr>\n",
       "  </tbody>\n",
       "</table>\n",
       "</div>"
      ],
      "text/plain": [
       "       ZIP_CODE CARCINOGEN CLEAN_AIR  REL_EST_AMT\n",
       "4893      15025          Y         N       1300.0\n",
       "7482      15025          Y         N        230.0\n",
       "7483      15025          Y         N       1613.0\n",
       "8442      15025          Y         N        185.0\n",
       "8443      15025          Y         N       1085.0\n",
       "8942      15144          Y         N        250.0\n",
       "8943      15144          Y         N        250.0\n",
       "18812     15144          Y         N        250.0\n",
       "20735     15025          Y         N       1430.0"
      ]
     },
     "execution_count": 73,
     "metadata": {},
     "output_type": "execute_result"
    }
   ],
   "source": [
    "final = a_done[(query_mask & qquery_mask) & qqquery_mask]\n",
    "final.head(500)"
   ]
  },
  {
   "cell_type": "code",
   "execution_count": null,
   "metadata": {},
   "outputs": [],
   "source": []
  }
 ],
 "metadata": {
  "kernelspec": {
   "display_name": "Python 3",
   "language": "python",
   "name": "python3"
  },
  "language_info": {
   "codemirror_mode": {
    "name": "ipython",
    "version": 3
   },
   "file_extension": ".py",
   "mimetype": "text/x-python",
   "name": "python",
   "nbconvert_exporter": "python",
   "pygments_lexer": "ipython3",
   "version": "3.8.3"
  }
 },
 "nbformat": 4,
 "nbformat_minor": 4
}
